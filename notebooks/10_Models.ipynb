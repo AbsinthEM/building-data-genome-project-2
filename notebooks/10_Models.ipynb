{
 "cells": [
  {
   "cell_type": "markdown",
   "metadata": {},
   "source": [
    "# Building Data Genome Project 2.0\n",
    "## Predictive models"
   ]
  },
  {
   "cell_type": "markdown",
   "metadata": {},
   "source": [
    "Biam! (pic.biam@gmail.com)"
   ]
  },
  {
   "cell_type": "code",
   "execution_count": 1,
   "metadata": {},
   "outputs": [],
   "source": [
    "# data and numbers\n",
    "import numpy as np\n",
    "import pandas as pd\n",
    "import math\n",
    "import datetime\n",
    "from glob import glob\n",
    "import gc\n",
    "\n",
    "# Metrics & Models\n",
    "from sklearn.preprocessing import LabelEncoder\n",
    "import lightgbm as lgb"
   ]
  },
  {
   "cell_type": "code",
   "execution_count": 2,
   "metadata": {},
   "outputs": [],
   "source": [
    "path_metadata = \"..\\\\data\\\\metadata\\\\\"\n",
    "path_weather = \"..\\\\data\\\\weather\\\\\"\n",
    "path_meter_raw = \"..\\\\data\\\\meters\\\\raw\\\\\"\n",
    "path_meter_cleaned = \"..\\\\data\\\\meters\\\\cleaned\\\\\"\n",
    "path_meter_proc = \"..\\\\data\\\\meters\\\\processed\\\\\""
   ]
  },
  {
   "cell_type": "markdown",
   "metadata": {},
   "source": [
    "# Introduction"
   ]
  },
  {
   "cell_type": "code",
   "execution_count": null,
   "metadata": {},
   "outputs": [],
   "source": []
  },
  {
   "cell_type": "markdown",
   "metadata": {},
   "source": [
    "# Functions"
   ]
  },
  {
   "cell_type": "code",
   "execution_count": 3,
   "metadata": {},
   "outputs": [],
   "source": [
    "## Function to reduce the DF size\n",
    "def reduce_mem_usage(df, verbose=True):\n",
    "    numerics = ['int16', 'int32', 'int64', 'float16', 'float32', 'float64']\n",
    "    start_mem = df.memory_usage().sum() / 1024**2    \n",
    "    for col in df.columns:\n",
    "        col_type = df[col].dtypes\n",
    "        if col_type in numerics:\n",
    "            c_min = df[col].min()\n",
    "            c_max = df[col].max()\n",
    "            if str(col_type)[:3] == 'int':\n",
    "                if c_min > np.iinfo(np.int8).min and c_max < np.iinfo(np.int8).max:\n",
    "                    df[col] = df[col].astype(np.int8)\n",
    "                elif c_min > np.iinfo(np.int16).min and c_max < np.iinfo(np.int16).max:\n",
    "                    df[col] = df[col].astype(np.int16)\n",
    "                elif c_min > np.iinfo(np.int32).min and c_max < np.iinfo(np.int32).max:\n",
    "                    df[col] = df[col].astype(np.int32)\n",
    "                elif c_min > np.iinfo(np.int64).min and c_max < np.iinfo(np.int64).max:\n",
    "                    df[col] = df[col].astype(np.int64)  \n",
    "            else:\n",
    "                if c_min > np.finfo(np.float16).min and c_max < np.finfo(np.float16).max:\n",
    "                    df[col] = df[col].astype(np.float16)\n",
    "                elif c_min > np.finfo(np.float32).min and c_max < np.finfo(np.float32).max:\n",
    "                    df[col] = df[col].astype(np.float32)\n",
    "                else:\n",
    "                    df[col] = df[col].astype(np.float64)    \n",
    "    end_mem = df.memory_usage().sum() / 1024**2\n",
    "    if verbose: print('Mem. usage decreased to {:5.2f} Mb ({:.1f}% reduction)'.format(end_mem, 100 * (start_mem - end_mem) / start_mem))\n",
    "    return df"
   ]
  },
  {
   "cell_type": "code",
   "execution_count": 4,
   "metadata": {},
   "outputs": [],
   "source": [
    "# This function concatenate all prediction in one dataframe\n",
    "# input: files directory list\n",
    "# output: single dataframe with all predictions\n",
    "\n",
    "def ConcatAllModels(files):\n",
    "    dfs = [] # empty list of the dataframes to create\n",
    "    for file in files: # for each file in directory\n",
    "        \n",
    "        model_name = file.split(\"\\\\\")[3].split(\"_\")[1].split(\".\")[0] # model_name to rename the model feature\n",
    "        \n",
    "        if model_name == \"real\": # don't rename column\n",
    "            \n",
    "            model = pd.read_csv(file) # load the dataset\n",
    "            \n",
    "        else: # rename column\n",
    "            \n",
    "            model = pd.read_csv(file, header=0, names=[model_name])\n",
    "            \n",
    "            \n",
    "        dfs.append(model) # append to list\n",
    "    complete_data = pd.concat(dfs, axis=1, ignore_index=False, sort=False) # concatenate all models\n",
    "   \n",
    "    return complete_data"
   ]
  },
  {
   "cell_type": "markdown",
   "metadata": {
    "toc-hr-collapsed": true
   },
   "source": [
    "# Datasets"
   ]
  },
  {
   "cell_type": "markdown",
   "metadata": {},
   "source": [
    "## Feature selection"
   ]
  },
  {
   "cell_type": "markdown",
   "metadata": {},
   "source": [
    "In this notebook only a selection of features will be used.<br>\n",
    "\n",
    "<i>Building metadata</i>\n",
    "<ul>\n",
    "    <li>Building ID*</li>\n",
    "    <li>Site ID*</li>\n",
    "    <li>Primary space usage</li>\n",
    "    <li>Building size (sqft)</li>\n",
    "</ul>\n",
    "<i>Weather data</i>\n",
    "<ul>\n",
    "    <li>Timestamp*</li>\n",
    "    <li>Site ID*</li>\n",
    "    <li>Air temperature</a></li>\n",
    "</ul>\n",
    "<i>Meter reading data</i>\n",
    "<ul>\n",
    "    <li>Timestamp*</li>\n",
    "    <li>Building ID*</li>\n",
    "    <li>meter</li>\n",
    "    <li>meter reading (target)</li>\n",
    "</ul>"
   ]
  },
  {
   "cell_type": "markdown",
   "metadata": {},
   "source": [
    "## Metadata"
   ]
  },
  {
   "cell_type": "markdown",
   "metadata": {},
   "source": [
    "**Buildings metadata**\n",
    "<ul>\n",
    "<li><code>building_id</code>: building code-name with the structure <i>UniqueFirstName_SiteID_primaryspaceusage</i>.</li>\n",
    "<li><code>site_id</code>: animal-code-name for the site.</li>\n",
    "<li><code>primaryspaceusage</code>: Primary space usage of all buildings is mapped using the <a href=\"https://www.energystar.gov/buildings/facility-owners-and-managers/existing-buildings/use-portfolio-manager/identify-your-property-type\" rel=\"nofollow\">energystar scheme building description types</a>. </li>\n",
    "<li><code>sqft</code>: building area in square feet (sq ft). </li>\n",
    "<li><code>lat</code>: latitude in degrees.</li>\n",
    "<li><code>lng</code>: longitude in degrees.</li>\n",
    " <li><code>electricity</code>: presence of this kind of meter in the building. <code>Yes</code> if affirmative, <code>NaN</code> if negative.</li>\n",
    "<li><code>hotwater</code>: presence of this kind of meter in the building. <code>Yes</code> if affirmative, <code>NaN</code> if negative.</li>\n",
    "<li><code>chilledwater</code>: presence of this kind of meter in the building. <code>Yes</code> if affirmative, <code>NaN</code> if negative.</li>\n",
    "<li><code>steam</code>: presence of this kind of meter in the building. <code>Yes</code> if affirmative, <code>NaN</code> if negative.</li>\n",
    "<li><code>water</code>: presence of this kind of meter in the building. <code>Yes</code> if affirmative, <code>NaN</code> if negative.</li>\n",
    "<li><code>irrigation</code>: presence of this kind of meter in the building. <code>Yes</code> if affirmative, <code>NaN</code> if negative.</li>\n",
    "<li><code>solar</code>: presence of this kind of meter in the building. <code>Yes</code> if affirmative, <code>NaN</code> if negative.</li>\n",
    "<li><code>gas</code>: presence of this kind of meter in the building. <code>Yes</code> if affirmative, <code>NaN</code> if negative./li>\n",
    "<li><code>yearbuilt</code>: year built in the format YYYY.</li>\n",
    "<li><code>numberoffloors</code>: number of floors.</li>\n",
    "<li><code>date_opened</code>: date opened in the format D/M/YYYY.</li>\n",
    "<li><code>sub_primaryspaceusage</code>: <a href=\"https://www.energystar.gov/buildings/facility-owners-and-managers/existing-buildings/use-portfolio-manager/identify-your-property-type\" rel=\"nofollow\">energystar scheme building description types</a> subcategory.</li>\n",
    "<li><code>energystarscore</code>: <a href=\"https://www.energystar.gov/buildings/facility-owners-and-managers/existing-buildings/use-portfolio-manager/understand-metrics/how-1-100\">Energy Star Score.</a></li>\n",
    "<li><code>eui</code>: <a href=\"https://www.energystar.gov/buildings/facility-owners-and-managers/existing-buildings/use-portfolio-manager/understand-metrics/what-energy\"> Energy use intensity.</a></li>\n",
    "<li><code>heatingtype</code>: type of building's heating system.</li>\n",
    "<li><code>industry</code>: building industry.</li>\n",
    "<li><code>leed_level</code>: <a href\"https://en.wikipedia.org/wiki/Leadership_in_Energy_and_Environmental_Design\">Leadership in Energy and Environmental Design.</a></li>\n",
    "<li><code>occupants</code>: number of ccupants?</li>\n",
    "<li><code>rating</code>: building rating (system or criteria?)</li>\n",
    "<li><code>site_eui</code>: site energy use intensity.</li>\n",
    "<li><code>source_eui</code>: ?</li>\n",
    "<li><code>sqm</code>: buildinga area in square meters?</li>\n",
    "<li><code>subindustry</code>: building subindustry.</li>\n",
    "<li><code>timezone</code>: time zone.</li>\n",
    "</ul>"
   ]
  },
  {
   "cell_type": "code",
   "execution_count": 3,
   "metadata": {},
   "outputs": [
    {
     "name": "stdout",
     "output_type": "stream",
     "text": [
      "<class 'pandas.core.frame.DataFrame'>\n",
      "RangeIndex: 1636 entries, 0 to 1635\n",
      "Data columns (total 4 columns):\n",
      " #   Column             Non-Null Count  Dtype  \n",
      "---  ------             --------------  -----  \n",
      " 0   building_id        1636 non-null   object \n",
      " 1   site_id            1636 non-null   object \n",
      " 2   primaryspaceusage  1615 non-null   object \n",
      " 3   sqft               1636 non-null   float64\n",
      "dtypes: float64(1), object(3)\n",
      "memory usage: 51.2+ KB\n"
     ]
    }
   ],
   "source": [
    "# Buildings metadata\n",
    "metadata = pd.read_csv(path_metadata + \"metadata.csv\", usecols = [\"building_id\",\n",
    "                                                                 \"site_id\",\n",
    "                                                                 \"primaryspaceusage\",\n",
    "                                                                 \"sqft\",\n",
    "                                                                 ])\n",
    "\n",
    "metadata = reduce_mem_usage(metadata)\n",
    "metadata.info()"
   ]
  },
  {
   "cell_type": "code",
   "execution_count": 4,
   "metadata": {},
   "outputs": [
    {
     "data": {
      "text/plain": [
       "building_id          0.000000\n",
       "site_id              0.000000\n",
       "primaryspaceusage    1.283619\n",
       "sqft                 0.000000\n",
       "dtype: float64"
      ]
     },
     "execution_count": 4,
     "metadata": {},
     "output_type": "execute_result"
    }
   ],
   "source": [
    "# missing values\n",
    "metadata.isna().sum()*100/len(metadata)"
   ]
  },
  {
   "cell_type": "code",
   "execution_count": 5,
   "metadata": {},
   "outputs": [
    {
     "data": {
      "text/html": [
       "<div>\n",
       "<style scoped>\n",
       "    .dataframe tbody tr th:only-of-type {\n",
       "        vertical-align: middle;\n",
       "    }\n",
       "\n",
       "    .dataframe tbody tr th {\n",
       "        vertical-align: top;\n",
       "    }\n",
       "\n",
       "    .dataframe thead th {\n",
       "        text-align: right;\n",
       "    }\n",
       "</style>\n",
       "<table border=\"1\" class=\"dataframe\">\n",
       "  <thead>\n",
       "    <tr style=\"text-align: right;\">\n",
       "      <th></th>\n",
       "      <th>building_id</th>\n",
       "      <th>site_id</th>\n",
       "      <th>primaryspaceusage</th>\n",
       "      <th>sqft</th>\n",
       "    </tr>\n",
       "  </thead>\n",
       "  <tbody>\n",
       "    <tr>\n",
       "      <th>1179</th>\n",
       "      <td>Carri_Swan_Unknown</td>\n",
       "      <td>Swan</td>\n",
       "      <td>NaN</td>\n",
       "      <td>66247.0</td>\n",
       "    </tr>\n",
       "    <tr>\n",
       "      <th>1180</th>\n",
       "      <td>Johnna_Swan_Unknown</td>\n",
       "      <td>Swan</td>\n",
       "      <td>NaN</td>\n",
       "      <td>83272.0</td>\n",
       "    </tr>\n",
       "    <tr>\n",
       "      <th>1181</th>\n",
       "      <td>Dorris_Swan_Unknown</td>\n",
       "      <td>Swan</td>\n",
       "      <td>NaN</td>\n",
       "      <td>68026.0</td>\n",
       "    </tr>\n",
       "    <tr>\n",
       "      <th>1182</th>\n",
       "      <td>Jessie_Swan_Unknown</td>\n",
       "      <td>Swan</td>\n",
       "      <td>NaN</td>\n",
       "      <td>74574.0</td>\n",
       "    </tr>\n",
       "    <tr>\n",
       "      <th>1183</th>\n",
       "      <td>Randi_Swan_Unknown</td>\n",
       "      <td>Swan</td>\n",
       "      <td>NaN</td>\n",
       "      <td>75093.0</td>\n",
       "    </tr>\n",
       "    <tr>\n",
       "      <th>1184</th>\n",
       "      <td>Laurence_Swan_Unknown</td>\n",
       "      <td>Swan</td>\n",
       "      <td>NaN</td>\n",
       "      <td>92964.0</td>\n",
       "    </tr>\n",
       "    <tr>\n",
       "      <th>1185</th>\n",
       "      <td>Lanell_Swan_Unknown</td>\n",
       "      <td>Swan</td>\n",
       "      <td>NaN</td>\n",
       "      <td>159374.0</td>\n",
       "    </tr>\n",
       "    <tr>\n",
       "      <th>1186</th>\n",
       "      <td>Darrel_Swan_Unknown</td>\n",
       "      <td>Swan</td>\n",
       "      <td>NaN</td>\n",
       "      <td>49998.0</td>\n",
       "    </tr>\n",
       "    <tr>\n",
       "      <th>1187</th>\n",
       "      <td>Sherill_Swan_Unknown</td>\n",
       "      <td>Swan</td>\n",
       "      <td>NaN</td>\n",
       "      <td>160942.0</td>\n",
       "    </tr>\n",
       "    <tr>\n",
       "      <th>1188</th>\n",
       "      <td>Lashanda_Swan_Unknown</td>\n",
       "      <td>Swan</td>\n",
       "      <td>NaN</td>\n",
       "      <td>124202.0</td>\n",
       "    </tr>\n",
       "    <tr>\n",
       "      <th>1189</th>\n",
       "      <td>Wesley_Swan_Unknown</td>\n",
       "      <td>Swan</td>\n",
       "      <td>NaN</td>\n",
       "      <td>83384.0</td>\n",
       "    </tr>\n",
       "    <tr>\n",
       "      <th>1190</th>\n",
       "      <td>Joey_Swan_Unknown</td>\n",
       "      <td>Swan</td>\n",
       "      <td>NaN</td>\n",
       "      <td>51443.0</td>\n",
       "    </tr>\n",
       "    <tr>\n",
       "      <th>1191</th>\n",
       "      <td>Billie_Swan_Unknown</td>\n",
       "      <td>Swan</td>\n",
       "      <td>NaN</td>\n",
       "      <td>122509.0</td>\n",
       "    </tr>\n",
       "    <tr>\n",
       "      <th>1192</th>\n",
       "      <td>Willard_Swan_Unknown</td>\n",
       "      <td>Swan</td>\n",
       "      <td>NaN</td>\n",
       "      <td>76952.0</td>\n",
       "    </tr>\n",
       "    <tr>\n",
       "      <th>1193</th>\n",
       "      <td>Sylvia_Swan_Unknown</td>\n",
       "      <td>Swan</td>\n",
       "      <td>NaN</td>\n",
       "      <td>15773.0</td>\n",
       "    </tr>\n",
       "    <tr>\n",
       "      <th>1194</th>\n",
       "      <td>Shonda_Swan_Unknown</td>\n",
       "      <td>Swan</td>\n",
       "      <td>NaN</td>\n",
       "      <td>18296.0</td>\n",
       "    </tr>\n",
       "    <tr>\n",
       "      <th>1195</th>\n",
       "      <td>Bessie_Swan_Unknown</td>\n",
       "      <td>Swan</td>\n",
       "      <td>NaN</td>\n",
       "      <td>13329.0</td>\n",
       "    </tr>\n",
       "    <tr>\n",
       "      <th>1196</th>\n",
       "      <td>Sarah_Swan_Unknown</td>\n",
       "      <td>Swan</td>\n",
       "      <td>NaN</td>\n",
       "      <td>68831.0</td>\n",
       "    </tr>\n",
       "    <tr>\n",
       "      <th>1197</th>\n",
       "      <td>Steven_Swan_Unknown</td>\n",
       "      <td>Swan</td>\n",
       "      <td>NaN</td>\n",
       "      <td>45570.0</td>\n",
       "    </tr>\n",
       "    <tr>\n",
       "      <th>1198</th>\n",
       "      <td>Chantel_Swan_Unknown</td>\n",
       "      <td>Swan</td>\n",
       "      <td>NaN</td>\n",
       "      <td>10160.0</td>\n",
       "    </tr>\n",
       "    <tr>\n",
       "      <th>1199</th>\n",
       "      <td>Eva_Swan_Unknown</td>\n",
       "      <td>Swan</td>\n",
       "      <td>NaN</td>\n",
       "      <td>62186.0</td>\n",
       "    </tr>\n",
       "  </tbody>\n",
       "</table>\n",
       "</div>"
      ],
      "text/plain": [
       "                building_id site_id primaryspaceusage      sqft\n",
       "1179     Carri_Swan_Unknown    Swan               NaN   66247.0\n",
       "1180    Johnna_Swan_Unknown    Swan               NaN   83272.0\n",
       "1181    Dorris_Swan_Unknown    Swan               NaN   68026.0\n",
       "1182    Jessie_Swan_Unknown    Swan               NaN   74574.0\n",
       "1183     Randi_Swan_Unknown    Swan               NaN   75093.0\n",
       "1184  Laurence_Swan_Unknown    Swan               NaN   92964.0\n",
       "1185    Lanell_Swan_Unknown    Swan               NaN  159374.0\n",
       "1186    Darrel_Swan_Unknown    Swan               NaN   49998.0\n",
       "1187   Sherill_Swan_Unknown    Swan               NaN  160942.0\n",
       "1188  Lashanda_Swan_Unknown    Swan               NaN  124202.0\n",
       "1189    Wesley_Swan_Unknown    Swan               NaN   83384.0\n",
       "1190      Joey_Swan_Unknown    Swan               NaN   51443.0\n",
       "1191    Billie_Swan_Unknown    Swan               NaN  122509.0\n",
       "1192   Willard_Swan_Unknown    Swan               NaN   76952.0\n",
       "1193    Sylvia_Swan_Unknown    Swan               NaN   15773.0\n",
       "1194    Shonda_Swan_Unknown    Swan               NaN   18296.0\n",
       "1195    Bessie_Swan_Unknown    Swan               NaN   13329.0\n",
       "1196     Sarah_Swan_Unknown    Swan               NaN   68831.0\n",
       "1197    Steven_Swan_Unknown    Swan               NaN   45570.0\n",
       "1198   Chantel_Swan_Unknown    Swan               NaN   10160.0\n",
       "1199       Eva_Swan_Unknown    Swan               NaN   62186.0"
      ]
     },
     "execution_count": 5,
     "metadata": {},
     "output_type": "execute_result"
    }
   ],
   "source": [
    "metadata[metadata.primaryspaceusage.isna() == True]"
   ]
  },
  {
   "cell_type": "code",
   "execution_count": 6,
   "metadata": {},
   "outputs": [],
   "source": [
    "metadata.primaryspaceusage.fillna(\"Unknown\", inplace=True)"
   ]
  },
  {
   "cell_type": "code",
   "execution_count": 7,
   "metadata": {},
   "outputs": [
    {
     "data": {
      "text/plain": [
       "building_id          0.0\n",
       "site_id              0.0\n",
       "primaryspaceusage    0.0\n",
       "sqft                 0.0\n",
       "dtype: float64"
      ]
     },
     "execution_count": 7,
     "metadata": {},
     "output_type": "execute_result"
    }
   ],
   "source": [
    "# missing values\n",
    "metadata.isna().sum()*100/len(metadata)"
   ]
  },
  {
   "cell_type": "markdown",
   "metadata": {},
   "source": [
    "## Weather"
   ]
  },
  {
   "cell_type": "markdown",
   "metadata": {},
   "source": [
    "**Weather**\n",
    "* <code>timestamp</code>: date and time in the format YYYY-MM-DD hh:mm:ss. Local timezone.\n",
    "* <code>site_id</code>: animal-code-name for the site.\n",
    "* <code>airTemperature</code>: The temperature of the air in degrees Celsius (ºC).\n",
    "* <code>cloudCoverage</code>: Portion of the sky covered in clouds, in [oktas](https://en.wikipedia.org/wiki/Okta).\n",
    "* <code>dewTemperature</code>: The dew point (the temperature to which a given parcel of air must be cooled at constant pressure and water vapor content in order for saturation to occur) in degrees Celsius (ºC).\n",
    "* <code>precipDepth1HR</code>: The depth of liquid precipitation that is measured over a one hour accumulation period (mm).\n",
    "* <code>precipDepth6HR</code>: The depth of liquid precipitation that is measured over a six hour accumulation period (mm).\n",
    "* <code>seaLvlPressure</code>: The air pressure relative to Mean Sea Level (MSL) (mbar or hPa).\n",
    "* <code>windDirection</code>: The angle, measured in a clockwise direction, between true north and the direction from which the wind is blowing (degrees).\n",
    "* <code>windSpeed</code>: The rate of horizontal travel of air past a fixed point (m/s)."
   ]
  },
  {
   "cell_type": "code",
   "execution_count": 27,
   "metadata": {},
   "outputs": [
    {
     "name": "stdout",
     "output_type": "stream",
     "text": [
      "<class 'pandas.core.frame.DataFrame'>\n",
      "RangeIndex: 331166 entries, 0 to 331165\n",
      "Data columns (total 3 columns):\n",
      " #   Column          Non-Null Count   Dtype  \n",
      "---  ------          --------------   -----  \n",
      " 0   timestamp       331166 non-null  object \n",
      " 1   site_id         331166 non-null  object \n",
      " 2   airTemperature  331038 non-null  float64\n",
      "dtypes: float64(1), object(2)\n",
      "memory usage: 7.6+ MB\n"
     ]
    }
   ],
   "source": [
    "# Weather data\n",
    "weather = pd.read_csv(path_weather + \"weather.csv\", usecols = [\"timestamp\",\n",
    "                                                                  \"site_id\",\n",
    "                                                                  \"airTemperature\"\n",
    "                                                                  ])\n",
    "weather = reduce_mem_usage(weather)\n",
    "weather.info()"
   ]
  },
  {
   "cell_type": "code",
   "execution_count": 28,
   "metadata": {},
   "outputs": [
    {
     "data": {
      "text/plain": [
       "timestamp         0.000000\n",
       "site_id           0.000000\n",
       "airTemperature    0.038651\n",
       "dtype: float64"
      ]
     },
     "execution_count": 28,
     "metadata": {},
     "output_type": "execute_result"
    }
   ],
   "source": [
    "weather.isna().sum()*100/len(weather)"
   ]
  },
  {
   "cell_type": "code",
   "execution_count": 29,
   "metadata": {},
   "outputs": [
    {
     "data": {
      "text/html": [
       "<div>\n",
       "<style scoped>\n",
       "    .dataframe tbody tr th:only-of-type {\n",
       "        vertical-align: middle;\n",
       "    }\n",
       "\n",
       "    .dataframe tbody tr th {\n",
       "        vertical-align: top;\n",
       "    }\n",
       "\n",
       "    .dataframe thead th {\n",
       "        text-align: right;\n",
       "    }\n",
       "</style>\n",
       "<table border=\"1\" class=\"dataframe\">\n",
       "  <thead>\n",
       "    <tr style=\"text-align: right;\">\n",
       "      <th></th>\n",
       "      <th>timestamp</th>\n",
       "      <th>site_id</th>\n",
       "      <th>airTemperature</th>\n",
       "    </tr>\n",
       "  </thead>\n",
       "  <tbody>\n",
       "    <tr>\n",
       "      <th>363</th>\n",
       "      <td>2016-01-16 03:00:00</td>\n",
       "      <td>Panther</td>\n",
       "      <td>NaN</td>\n",
       "    </tr>\n",
       "    <tr>\n",
       "      <th>364</th>\n",
       "      <td>2016-01-16 04:00:00</td>\n",
       "      <td>Panther</td>\n",
       "      <td>NaN</td>\n",
       "    </tr>\n",
       "    <tr>\n",
       "      <th>365</th>\n",
       "      <td>2016-01-16 05:00:00</td>\n",
       "      <td>Panther</td>\n",
       "      <td>NaN</td>\n",
       "    </tr>\n",
       "    <tr>\n",
       "      <th>24523</th>\n",
       "      <td>2016-10-18 14:00:00</td>\n",
       "      <td>Robin</td>\n",
       "      <td>NaN</td>\n",
       "    </tr>\n",
       "    <tr>\n",
       "      <th>39855</th>\n",
       "      <td>2016-07-18 20:00:00</td>\n",
       "      <td>Fox</td>\n",
       "      <td>NaN</td>\n",
       "    </tr>\n",
       "    <tr>\n",
       "      <th>...</th>\n",
       "      <td>...</td>\n",
       "      <td>...</td>\n",
       "      <td>...</td>\n",
       "    </tr>\n",
       "    <tr>\n",
       "      <th>292657</th>\n",
       "      <td>2017-07-17 14:00:00</td>\n",
       "      <td>Peacock</td>\n",
       "      <td>NaN</td>\n",
       "    </tr>\n",
       "    <tr>\n",
       "      <th>292658</th>\n",
       "      <td>2017-07-17 15:00:00</td>\n",
       "      <td>Peacock</td>\n",
       "      <td>NaN</td>\n",
       "    </tr>\n",
       "    <tr>\n",
       "      <th>306959</th>\n",
       "      <td>2017-03-19 15:00:00</td>\n",
       "      <td>Cockatoo</td>\n",
       "      <td>NaN</td>\n",
       "    </tr>\n",
       "    <tr>\n",
       "      <th>309116</th>\n",
       "      <td>2017-06-18 19:00:00</td>\n",
       "      <td>Cockatoo</td>\n",
       "      <td>NaN</td>\n",
       "    </tr>\n",
       "    <tr>\n",
       "      <th>320629</th>\n",
       "      <td>2016-10-18 14:00:00</td>\n",
       "      <td>Mouse</td>\n",
       "      <td>NaN</td>\n",
       "    </tr>\n",
       "  </tbody>\n",
       "</table>\n",
       "<p>128 rows × 3 columns</p>\n",
       "</div>"
      ],
      "text/plain": [
       "                  timestamp   site_id  airTemperature\n",
       "363     2016-01-16 03:00:00   Panther             NaN\n",
       "364     2016-01-16 04:00:00   Panther             NaN\n",
       "365     2016-01-16 05:00:00   Panther             NaN\n",
       "24523   2016-10-18 14:00:00     Robin             NaN\n",
       "39855   2016-07-18 20:00:00       Fox             NaN\n",
       "...                     ...       ...             ...\n",
       "292657  2017-07-17 14:00:00   Peacock             NaN\n",
       "292658  2017-07-17 15:00:00   Peacock             NaN\n",
       "306959  2017-03-19 15:00:00  Cockatoo             NaN\n",
       "309116  2017-06-18 19:00:00  Cockatoo             NaN\n",
       "320629  2016-10-18 14:00:00     Mouse             NaN\n",
       "\n",
       "[128 rows x 3 columns]"
      ]
     },
     "execution_count": 29,
     "metadata": {},
     "output_type": "execute_result"
    }
   ],
   "source": [
    "weather[weather.airTemperature.isna() == True]"
   ]
  },
  {
   "cell_type": "code",
   "execution_count": 30,
   "metadata": {},
   "outputs": [],
   "source": [
    "weather.airTemperature.interpolate(method=\"linear\",inplace=True)"
   ]
  },
  {
   "cell_type": "code",
   "execution_count": 32,
   "metadata": {},
   "outputs": [
    {
     "data": {
      "text/plain": [
       "timestamp         0.0\n",
       "site_id           0.0\n",
       "airTemperature    0.0\n",
       "dtype: float64"
      ]
     },
     "execution_count": 32,
     "metadata": {},
     "output_type": "execute_result"
    }
   ],
   "source": [
    "weather.isna().sum()*100/len(weather)"
   ]
  },
  {
   "cell_type": "markdown",
   "metadata": {},
   "source": [
    "## Meters"
   ]
  },
  {
   "cell_type": "markdown",
   "metadata": {},
   "source": [
    "### Join all cleaned datasets"
   ]
  },
  {
   "cell_type": "code",
   "execution_count": 3,
   "metadata": {
    "collapsed": true,
    "jupyter": {
     "outputs_hidden": true,
     "source_hidden": true
    }
   },
   "outputs": [],
   "source": [
    "# files in directory\n",
    "files = glob(path_meter_cleaned + \"*.csv\")"
   ]
  },
  {
   "cell_type": "code",
   "execution_count": 4,
   "metadata": {
    "collapsed": true,
    "jupyter": {
     "outputs_hidden": true,
     "source_hidden": true
    }
   },
   "outputs": [
    {
     "data": {
      "text/plain": [
       "['..\\\\data\\\\meters\\\\cleaned\\\\chilledwater_cleaned.csv',\n",
       " '..\\\\data\\\\meters\\\\cleaned\\\\electricity_cleaned.csv',\n",
       " '..\\\\data\\\\meters\\\\cleaned\\\\gas_cleaned.csv',\n",
       " '..\\\\data\\\\meters\\\\cleaned\\\\hotwater_cleaned.csv',\n",
       " '..\\\\data\\\\meters\\\\cleaned\\\\irrigation_cleaned.csv',\n",
       " '..\\\\data\\\\meters\\\\cleaned\\\\solar_cleaned.csv',\n",
       " '..\\\\data\\\\meters\\\\cleaned\\\\steam_cleaned.csv',\n",
       " '..\\\\data\\\\meters\\\\cleaned\\\\water_cleaned.csv']"
      ]
     },
     "execution_count": 4,
     "metadata": {},
     "output_type": "execute_result"
    }
   ],
   "source": [
    "files"
   ]
  },
  {
   "cell_type": "code",
   "execution_count": 7,
   "metadata": {
    "collapsed": true,
    "jupyter": {
     "outputs_hidden": true,
     "source_hidden": true
    }
   },
   "outputs": [],
   "source": [
    "dfs = [] # empty list of the dataframes to create\n",
    "for file in files: # for each file in directory\n",
    "    meter_type = file.split(\"\\\\\")[4].split(\".\")[0].split(\"_\")[0]# meter_type to rename the value feature\n",
    "    meter = pd.read_csv(file) # load the dataset\n",
    "    meter = pd.melt(meter, id_vars = \"timestamp\", var_name = \"building_id\", value_name = \"meter_reading\") # melt dataset\n",
    "    meter[\"meter\"] = str(meter_type) # adds column with the meter type\n",
    "    dfs.append(meter) # append to list\n",
    "complete_data = pd.concat(dfs, axis=0, ignore_index=True) # concatenate all meter\n",
    "del(dfs, meter, file, files, meter_type)"
   ]
  },
  {
   "cell_type": "code",
   "execution_count": 8,
   "metadata": {
    "collapsed": true,
    "jupyter": {
     "outputs_hidden": true,
     "source_hidden": true
    }
   },
   "outputs": [
    {
     "data": {
      "text/html": [
       "<div>\n",
       "<style scoped>\n",
       "    .dataframe tbody tr th:only-of-type {\n",
       "        vertical-align: middle;\n",
       "    }\n",
       "\n",
       "    .dataframe tbody tr th {\n",
       "        vertical-align: top;\n",
       "    }\n",
       "\n",
       "    .dataframe thead th {\n",
       "        text-align: right;\n",
       "    }\n",
       "</style>\n",
       "<table border=\"1\" class=\"dataframe\">\n",
       "  <thead>\n",
       "    <tr style=\"text-align: right;\">\n",
       "      <th></th>\n",
       "      <th>timestamp</th>\n",
       "      <th>building_id</th>\n",
       "      <th>meter_reading</th>\n",
       "      <th>meter</th>\n",
       "    </tr>\n",
       "  </thead>\n",
       "  <tbody>\n",
       "    <tr>\n",
       "      <th>0</th>\n",
       "      <td>2016-01-01 00:00:00</td>\n",
       "      <td>Gwyneth_Panther_Office</td>\n",
       "      <td>NaN</td>\n",
       "      <td>chilledwater</td>\n",
       "    </tr>\n",
       "    <tr>\n",
       "      <th>1</th>\n",
       "      <td>2016-01-01 01:00:00</td>\n",
       "      <td>Gwyneth_Panther_Office</td>\n",
       "      <td>NaN</td>\n",
       "      <td>chilledwater</td>\n",
       "    </tr>\n",
       "    <tr>\n",
       "      <th>2</th>\n",
       "      <td>2016-01-01 02:00:00</td>\n",
       "      <td>Gwyneth_Panther_Office</td>\n",
       "      <td>NaN</td>\n",
       "      <td>chilledwater</td>\n",
       "    </tr>\n",
       "    <tr>\n",
       "      <th>3</th>\n",
       "      <td>2016-01-01 03:00:00</td>\n",
       "      <td>Gwyneth_Panther_Office</td>\n",
       "      <td>NaN</td>\n",
       "      <td>chilledwater</td>\n",
       "    </tr>\n",
       "    <tr>\n",
       "      <th>4</th>\n",
       "      <td>2016-01-01 04:00:00</td>\n",
       "      <td>Gwyneth_Panther_Office</td>\n",
       "      <td>NaN</td>\n",
       "      <td>chilledwater</td>\n",
       "    </tr>\n",
       "  </tbody>\n",
       "</table>\n",
       "</div>"
      ],
      "text/plain": [
       "             timestamp             building_id  meter_reading         meter\n",
       "0  2016-01-01 00:00:00  Gwyneth_Panther_Office            NaN  chilledwater\n",
       "1  2016-01-01 01:00:00  Gwyneth_Panther_Office            NaN  chilledwater\n",
       "2  2016-01-01 02:00:00  Gwyneth_Panther_Office            NaN  chilledwater\n",
       "3  2016-01-01 03:00:00  Gwyneth_Panther_Office            NaN  chilledwater\n",
       "4  2016-01-01 04:00:00  Gwyneth_Panther_Office            NaN  chilledwater"
      ]
     },
     "execution_count": 8,
     "metadata": {},
     "output_type": "execute_result"
    }
   ],
   "source": [
    "complete_data.head()"
   ]
  },
  {
   "cell_type": "code",
   "execution_count": 9,
   "metadata": {
    "collapsed": true,
    "jupyter": {
     "outputs_hidden": true,
     "source_hidden": true
    }
   },
   "outputs": [
    {
     "data": {
      "text/plain": [
       "electricity     27684432\n",
       "chilledwater     9736920\n",
       "steam            6491280\n",
       "hotwater         3245640\n",
       "gas              3105288\n",
       "water            2561424\n",
       "irrigation        649128\n",
       "solar              87720\n",
       "Name: meter, dtype: int64"
      ]
     },
     "execution_count": 9,
     "metadata": {},
     "output_type": "execute_result"
    }
   ],
   "source": [
    "# Check the meters\n",
    "complete_data[\"meter\"].value_counts()"
   ]
  },
  {
   "cell_type": "code",
   "execution_count": 10,
   "metadata": {
    "collapsed": true,
    "jupyter": {
     "outputs_hidden": true,
     "source_hidden": true
    }
   },
   "outputs": [
    {
     "data": {
      "text/plain": [
       "1636"
      ]
     },
     "execution_count": 10,
     "metadata": {},
     "output_type": "execute_result"
    }
   ],
   "source": [
    "# Check number of buildings\n",
    "len(np.unique(complete_data[\"building_id\"]))"
   ]
  },
  {
   "cell_type": "code",
   "execution_count": 12,
   "metadata": {
    "collapsed": true,
    "jupyter": {
     "outputs_hidden": true,
     "source_hidden": true
    }
   },
   "outputs": [],
   "source": [
    "# Export dataset\n",
    "complete_data.to_csv(path_meter_proc + \"allmeters_cleaned.csv\", index=False)"
   ]
  },
  {
   "cell_type": "markdown",
   "metadata": {},
   "source": [
    "**All meters dataset (meter reading)**\n",
    "<ul>\n",
    "<li><code>timestamp</code>: date and time in the format YYYY-MM-DD hh:mm:ss. 2016 and 2017 data.</li>\n",
    "<li><code>building_id</code>: building code-name with the structure <i>UniqueFirstName_SiteID_primaryspaceusage</i>.</li>\n",
    "<li><code>meter_reading</code>: meter reading in kilowatt hour (kWh) .</li>\n",
    "<li><code>meter</code>: meter type, <code>chilledwater</code>, <code>electricity</code>, <code>gas</code>, <code>hotwater</code>, <code>irrigation</code>, <code>steam</code> or <code>water</code>.</li>\n",
    "</ul>"
   ]
  },
  {
   "cell_type": "code",
   "execution_count": 13,
   "metadata": {},
   "outputs": [
    {
     "name": "stdout",
     "output_type": "stream",
     "text": [
      "<class 'pandas.core.frame.DataFrame'>\n",
      "RangeIndex: 53561832 entries, 0 to 53561831\n",
      "Data columns (total 4 columns):\n",
      " #   Column         Dtype  \n",
      "---  ------         -----  \n",
      " 0   timestamp      object \n",
      " 1   building_id    object \n",
      " 2   meter_reading  float64\n",
      " 3   meter          object \n",
      "dtypes: float64(1), object(3)\n",
      "memory usage: 1.6+ GB\n"
     ]
    }
   ],
   "source": [
    "# Meters data\n",
    "data = pd.read_csv(path_meter_proc + \"allmeters_cleaned.csv\")\n",
    "data = reduce_mem_usage(data)\n",
    "data.info()"
   ]
  },
  {
   "cell_type": "code",
   "execution_count": 33,
   "metadata": {},
   "outputs": [
    {
     "data": {
      "text/plain": [
       "timestamp         0.000000\n",
       "building_id       0.000000\n",
       "meter_reading    15.849755\n",
       "meter             0.000000\n",
       "dtype: float64"
      ]
     },
     "execution_count": 33,
     "metadata": {},
     "output_type": "execute_result"
    }
   ],
   "source": [
    "# missing data\n",
    "data.isna().sum()*100/len(data)"
   ]
  },
  {
   "cell_type": "code",
   "execution_count": 34,
   "metadata": {},
   "outputs": [
    {
     "data": {
      "text/plain": [
       "1636"
      ]
     },
     "execution_count": 34,
     "metadata": {},
     "output_type": "execute_result"
    }
   ],
   "source": [
    "# number of buildings in dataset\n",
    "len(data.building_id.unique())"
   ]
  },
  {
   "cell_type": "code",
   "execution_count": 35,
   "metadata": {},
   "outputs": [],
   "source": [
    "# Drop missings\n",
    "data.dropna(inplace=True)"
   ]
  },
  {
   "cell_type": "code",
   "execution_count": 36,
   "metadata": {},
   "outputs": [
    {
     "data": {
      "text/plain": [
       "timestamp        0.0\n",
       "building_id      0.0\n",
       "meter_reading    0.0\n",
       "meter            0.0\n",
       "dtype: float64"
      ]
     },
     "execution_count": 36,
     "metadata": {},
     "output_type": "execute_result"
    }
   ],
   "source": [
    "# missing data\n",
    "data.isna().sum()*100/len(data)"
   ]
  },
  {
   "cell_type": "code",
   "execution_count": 37,
   "metadata": {},
   "outputs": [
    {
     "data": {
      "text/plain": [
       "1624"
      ]
     },
     "execution_count": 37,
     "metadata": {},
     "output_type": "execute_result"
    }
   ],
   "source": [
    "# number of buildings in dataset after dropping Nan\n",
    "len(data.building_id.unique())"
   ]
  },
  {
   "cell_type": "markdown",
   "metadata": {},
   "source": [
    "# Feature engineering based on EDA"
   ]
  },
  {
   "cell_type": "markdown",
   "metadata": {},
   "source": [
    " Based on [EDA of meter readings](https://github.com/buds-lab/building-data-genome-project-2/blob/master/notebooks/03_EDA-meter-reading.ipynb):\n",
    " <ul>\n",
    "    <li><i>Healthcare</i> and <i>Utility</i> usages shows the highest meter reading values.</li>\n",
    "    <li><i>Steam</i> meter shows the highest meter reading values.</li>\n",
    "    <li>Monthly behaviour (meter-reading median):\n",
    "    <ul>\n",
    "        <li><i>Utility</i> usage peaks in April-March.</li>\n",
    "        <li><i>Chilledwater</i> meter shows higher values in warm season.</li>\n",
    "        <li><i>Steam</i> meter shows lower values in April-October.</li>\n",
    "    </ul>\n",
    "    </li>\n",
    "    <li>Hourly behaviour (meter-reading median):\n",
    "    <ul>\n",
    "        <li>Higher values from 6 hs to 19 hs.</li>\n",
    "        <li><i>Utility</i> usage shows oposite tendency.</li>\n",
    "        <li><i>Steam</i> meter pikes from 5 hs to 8 hs.</li>\n",
    "    </ul>\n",
    "    </li>\n",
    "        <li>Weekday behaviour: lowers during weekends.</li>\n",
    "</ul>\n",
    "</li>     \n",
    " Based on this observations <i>month</i>, <i>day of the week</i> and <i>hour of the day</i> will be added. <code>primaryspaceusage</code> categories (16) will be reduced to <i>healthcare, utility</i> and <i>other</i>. <code>meter</code> categories (8) will be preserved. Final features will be:\n",
    " <ul>\n",
    "    <li>Timestamp*</li>\n",
    "    <li>Site ID</li>\n",
    "    <li>Building ID</li>\n",
    "    <li>Month</li>\n",
    "    <li>Hour</li>\n",
    "    <li>Day of the week</li>\n",
    "    <li>Usage (dummy, 3 levels: <i>healthcare, utility, other</i>)</li>\n",
    "    <li>Building size (sqft)</li>\n",
    "    <li>Air temperature</li>\n",
    "    <li>Meter (dummy, 8 levels)</li>\n",
    "    <li>Meter reading / target</li>\n",
    "    "
   ]
  },
  {
   "cell_type": "code",
   "execution_count": 40,
   "metadata": {},
   "outputs": [],
   "source": [
    "# Reduce primary space usage categories to 3: Healthcare, Utilty, other\n",
    "metadata.loc[(metadata[\"primaryspaceusage\"] != \"Healthcare\") & (metadata[\"primaryspaceusage\"] != \"Utility\"), \"primaryspaceusage\"] = \"other\""
   ]
  },
  {
   "cell_type": "code",
   "execution_count": 41,
   "metadata": {},
   "outputs": [
    {
     "data": {
      "text/plain": [
       "array(['other', 'Healthcare', 'Utility'], dtype=object)"
      ]
     },
     "execution_count": 41,
     "metadata": {},
     "output_type": "execute_result"
    }
   ],
   "source": [
    "# Check new categories\n",
    "metadata.primaryspaceusage.unique()"
   ]
  },
  {
   "cell_type": "code",
   "execution_count": 42,
   "metadata": {},
   "outputs": [],
   "source": [
    "# Converts to timestamp\n",
    "data[\"timestamp\"] = pd.to_datetime(data[\"timestamp\"], format='%Y-%m-%d %H:%M:%S')\n",
    "weather[\"timestamp\"] = pd.to_datetime(weather[\"timestamp\"], format='%Y-%m-%d %H:%M:%S')"
   ]
  },
  {
   "cell_type": "code",
   "execution_count": 43,
   "metadata": {},
   "outputs": [],
   "source": [
    "# Add features\n",
    "data[\"month\"] = data.timestamp.dt.month\n",
    "data[\"weekday\"] = data.timestamp.dt.weekday\n",
    "data[\"hour\"] = data.timestamp.dt.hour"
   ]
  },
  {
   "cell_type": "code",
   "execution_count": 44,
   "metadata": {},
   "outputs": [],
   "source": [
    "# Merge datasets\n",
    "data = pd.merge(data, metadata, how=\"left\", on=\"building_id\").merge(weather, how=\"left\", on = [\"timestamp\", \"site_id\"])"
   ]
  },
  {
   "cell_type": "code",
   "execution_count": 45,
   "metadata": {},
   "outputs": [
    {
     "data": {
      "text/html": [
       "<div>\n",
       "<style scoped>\n",
       "    .dataframe tbody tr th:only-of-type {\n",
       "        vertical-align: middle;\n",
       "    }\n",
       "\n",
       "    .dataframe tbody tr th {\n",
       "        vertical-align: top;\n",
       "    }\n",
       "\n",
       "    .dataframe thead th {\n",
       "        text-align: right;\n",
       "    }\n",
       "</style>\n",
       "<table border=\"1\" class=\"dataframe\">\n",
       "  <thead>\n",
       "    <tr style=\"text-align: right;\">\n",
       "      <th></th>\n",
       "      <th>timestamp</th>\n",
       "      <th>building_id</th>\n",
       "      <th>meter_reading</th>\n",
       "      <th>meter</th>\n",
       "      <th>month</th>\n",
       "      <th>weekday</th>\n",
       "      <th>hour</th>\n",
       "      <th>site_id</th>\n",
       "      <th>primaryspaceusage</th>\n",
       "      <th>sqft</th>\n",
       "      <th>airTemperature</th>\n",
       "    </tr>\n",
       "  </thead>\n",
       "  <tbody>\n",
       "    <tr>\n",
       "      <th>0</th>\n",
       "      <td>2016-02-29 09:00:00</td>\n",
       "      <td>Gwyneth_Panther_Office</td>\n",
       "      <td>464.313904</td>\n",
       "      <td>chilledwater</td>\n",
       "      <td>2</td>\n",
       "      <td>0</td>\n",
       "      <td>9</td>\n",
       "      <td>Panther</td>\n",
       "      <td>other</td>\n",
       "      <td>33370.0</td>\n",
       "      <td>16.703125</td>\n",
       "    </tr>\n",
       "    <tr>\n",
       "      <th>1</th>\n",
       "      <td>2016-02-29 10:00:00</td>\n",
       "      <td>Gwyneth_Panther_Office</td>\n",
       "      <td>759.786377</td>\n",
       "      <td>chilledwater</td>\n",
       "      <td>2</td>\n",
       "      <td>0</td>\n",
       "      <td>10</td>\n",
       "      <td>Panther</td>\n",
       "      <td>other</td>\n",
       "      <td>33370.0</td>\n",
       "      <td>21.093750</td>\n",
       "    </tr>\n",
       "    <tr>\n",
       "      <th>2</th>\n",
       "      <td>2016-02-29 11:00:00</td>\n",
       "      <td>Gwyneth_Panther_Office</td>\n",
       "      <td>801.996826</td>\n",
       "      <td>chilledwater</td>\n",
       "      <td>2</td>\n",
       "      <td>0</td>\n",
       "      <td>11</td>\n",
       "      <td>Panther</td>\n",
       "      <td>other</td>\n",
       "      <td>33370.0</td>\n",
       "      <td>21.703125</td>\n",
       "    </tr>\n",
       "    <tr>\n",
       "      <th>3</th>\n",
       "      <td>2016-02-29 12:00:00</td>\n",
       "      <td>Gwyneth_Panther_Office</td>\n",
       "      <td>844.207214</td>\n",
       "      <td>chilledwater</td>\n",
       "      <td>2</td>\n",
       "      <td>0</td>\n",
       "      <td>12</td>\n",
       "      <td>Panther</td>\n",
       "      <td>other</td>\n",
       "      <td>33370.0</td>\n",
       "      <td>22.203125</td>\n",
       "    </tr>\n",
       "    <tr>\n",
       "      <th>4</th>\n",
       "      <td>2016-02-29 13:00:00</td>\n",
       "      <td>Gwyneth_Panther_Office</td>\n",
       "      <td>928.627930</td>\n",
       "      <td>chilledwater</td>\n",
       "      <td>2</td>\n",
       "      <td>0</td>\n",
       "      <td>13</td>\n",
       "      <td>Panther</td>\n",
       "      <td>other</td>\n",
       "      <td>33370.0</td>\n",
       "      <td>23.906250</td>\n",
       "    </tr>\n",
       "  </tbody>\n",
       "</table>\n",
       "</div>"
      ],
      "text/plain": [
       "            timestamp             building_id  meter_reading         meter  \\\n",
       "0 2016-02-29 09:00:00  Gwyneth_Panther_Office     464.313904  chilledwater   \n",
       "1 2016-02-29 10:00:00  Gwyneth_Panther_Office     759.786377  chilledwater   \n",
       "2 2016-02-29 11:00:00  Gwyneth_Panther_Office     801.996826  chilledwater   \n",
       "3 2016-02-29 12:00:00  Gwyneth_Panther_Office     844.207214  chilledwater   \n",
       "4 2016-02-29 13:00:00  Gwyneth_Panther_Office     928.627930  chilledwater   \n",
       "\n",
       "   month  weekday  hour  site_id primaryspaceusage     sqft  airTemperature  \n",
       "0      2        0     9  Panther             other  33370.0       16.703125  \n",
       "1      2        0    10  Panther             other  33370.0       21.093750  \n",
       "2      2        0    11  Panther             other  33370.0       21.703125  \n",
       "3      2        0    12  Panther             other  33370.0       22.203125  \n",
       "4      2        0    13  Panther             other  33370.0       23.906250  "
      ]
     },
     "execution_count": 45,
     "metadata": {},
     "output_type": "execute_result"
    }
   ],
   "source": [
    "data.head()"
   ]
  },
  {
   "cell_type": "code",
   "execution_count": 46,
   "metadata": {},
   "outputs": [],
   "source": [
    "del(weather, metadata)"
   ]
  },
  {
   "cell_type": "code",
   "execution_count": 47,
   "metadata": {},
   "outputs": [
    {
     "data": {
      "text/plain": [
       "timestamp            0.000000\n",
       "building_id          0.000000\n",
       "meter_reading        0.000000\n",
       "meter                0.000000\n",
       "month                0.000000\n",
       "weekday              0.000000\n",
       "hour                 0.000000\n",
       "site_id              0.000000\n",
       "primaryspaceusage    0.000000\n",
       "sqft                 0.000000\n",
       "airTemperature       0.407089\n",
       "dtype: float64"
      ]
     },
     "execution_count": 47,
     "metadata": {},
     "output_type": "execute_result"
    }
   ],
   "source": [
    "# Missing values\n",
    "data.isna().sum()*100/len(data)"
   ]
  },
  {
   "cell_type": "code",
   "execution_count": 48,
   "metadata": {},
   "outputs": [],
   "source": [
    "data.airTemperature.interpolate(method=\"linear\", inplace=True)"
   ]
  },
  {
   "cell_type": "code",
   "execution_count": 49,
   "metadata": {},
   "outputs": [
    {
     "data": {
      "text/plain": [
       "timestamp            0.0\n",
       "building_id          0.0\n",
       "meter_reading        0.0\n",
       "meter                0.0\n",
       "month                0.0\n",
       "weekday              0.0\n",
       "hour                 0.0\n",
       "site_id              0.0\n",
       "primaryspaceusage    0.0\n",
       "sqft                 0.0\n",
       "airTemperature       0.0\n",
       "dtype: float64"
      ]
     },
     "execution_count": 49,
     "metadata": {},
     "output_type": "execute_result"
    }
   ],
   "source": [
    "data.isna().sum()*100/len(data)"
   ]
  },
  {
   "cell_type": "code",
   "execution_count": 53,
   "metadata": {},
   "outputs": [],
   "source": [
    "# Rounds to 4 decimals\n",
    "data[\"meter_reading\"] = data['meter_reading'].astype(float).round(4)\n",
    "data[\"airTemperature\"] = data['airTemperature'].astype(float).round(2)"
   ]
  },
  {
   "cell_type": "code",
   "execution_count": 54,
   "metadata": {},
   "outputs": [
    {
     "data": {
      "text/html": [
       "<div>\n",
       "<style scoped>\n",
       "    .dataframe tbody tr th:only-of-type {\n",
       "        vertical-align: middle;\n",
       "    }\n",
       "\n",
       "    .dataframe tbody tr th {\n",
       "        vertical-align: top;\n",
       "    }\n",
       "\n",
       "    .dataframe thead th {\n",
       "        text-align: right;\n",
       "    }\n",
       "</style>\n",
       "<table border=\"1\" class=\"dataframe\">\n",
       "  <thead>\n",
       "    <tr style=\"text-align: right;\">\n",
       "      <th></th>\n",
       "      <th>timestamp</th>\n",
       "      <th>building_id</th>\n",
       "      <th>meter_reading</th>\n",
       "      <th>meter</th>\n",
       "      <th>month</th>\n",
       "      <th>weekday</th>\n",
       "      <th>hour</th>\n",
       "      <th>site_id</th>\n",
       "      <th>primaryspaceusage</th>\n",
       "      <th>sqft</th>\n",
       "      <th>airTemperature</th>\n",
       "    </tr>\n",
       "  </thead>\n",
       "  <tbody>\n",
       "    <tr>\n",
       "      <th>0</th>\n",
       "      <td>2016-02-29 09:00:00</td>\n",
       "      <td>Gwyneth_Panther_Office</td>\n",
       "      <td>464.3139</td>\n",
       "      <td>chilledwater</td>\n",
       "      <td>2</td>\n",
       "      <td>0</td>\n",
       "      <td>9</td>\n",
       "      <td>Panther</td>\n",
       "      <td>other</td>\n",
       "      <td>33370.0</td>\n",
       "      <td>16.70</td>\n",
       "    </tr>\n",
       "    <tr>\n",
       "      <th>1</th>\n",
       "      <td>2016-02-29 10:00:00</td>\n",
       "      <td>Gwyneth_Panther_Office</td>\n",
       "      <td>759.7864</td>\n",
       "      <td>chilledwater</td>\n",
       "      <td>2</td>\n",
       "      <td>0</td>\n",
       "      <td>10</td>\n",
       "      <td>Panther</td>\n",
       "      <td>other</td>\n",
       "      <td>33370.0</td>\n",
       "      <td>21.09</td>\n",
       "    </tr>\n",
       "    <tr>\n",
       "      <th>2</th>\n",
       "      <td>2016-02-29 11:00:00</td>\n",
       "      <td>Gwyneth_Panther_Office</td>\n",
       "      <td>801.9968</td>\n",
       "      <td>chilledwater</td>\n",
       "      <td>2</td>\n",
       "      <td>0</td>\n",
       "      <td>11</td>\n",
       "      <td>Panther</td>\n",
       "      <td>other</td>\n",
       "      <td>33370.0</td>\n",
       "      <td>21.70</td>\n",
       "    </tr>\n",
       "    <tr>\n",
       "      <th>3</th>\n",
       "      <td>2016-02-29 12:00:00</td>\n",
       "      <td>Gwyneth_Panther_Office</td>\n",
       "      <td>844.2072</td>\n",
       "      <td>chilledwater</td>\n",
       "      <td>2</td>\n",
       "      <td>0</td>\n",
       "      <td>12</td>\n",
       "      <td>Panther</td>\n",
       "      <td>other</td>\n",
       "      <td>33370.0</td>\n",
       "      <td>22.20</td>\n",
       "    </tr>\n",
       "    <tr>\n",
       "      <th>4</th>\n",
       "      <td>2016-02-29 13:00:00</td>\n",
       "      <td>Gwyneth_Panther_Office</td>\n",
       "      <td>928.6279</td>\n",
       "      <td>chilledwater</td>\n",
       "      <td>2</td>\n",
       "      <td>0</td>\n",
       "      <td>13</td>\n",
       "      <td>Panther</td>\n",
       "      <td>other</td>\n",
       "      <td>33370.0</td>\n",
       "      <td>23.91</td>\n",
       "    </tr>\n",
       "  </tbody>\n",
       "</table>\n",
       "</div>"
      ],
      "text/plain": [
       "            timestamp             building_id  meter_reading         meter  \\\n",
       "0 2016-02-29 09:00:00  Gwyneth_Panther_Office       464.3139  chilledwater   \n",
       "1 2016-02-29 10:00:00  Gwyneth_Panther_Office       759.7864  chilledwater   \n",
       "2 2016-02-29 11:00:00  Gwyneth_Panther_Office       801.9968  chilledwater   \n",
       "3 2016-02-29 12:00:00  Gwyneth_Panther_Office       844.2072  chilledwater   \n",
       "4 2016-02-29 13:00:00  Gwyneth_Panther_Office       928.6279  chilledwater   \n",
       "\n",
       "   month  weekday  hour  site_id primaryspaceusage     sqft  airTemperature  \n",
       "0      2        0     9  Panther             other  33370.0           16.70  \n",
       "1      2        0    10  Panther             other  33370.0           21.09  \n",
       "2      2        0    11  Panther             other  33370.0           21.70  \n",
       "3      2        0    12  Panther             other  33370.0           22.20  \n",
       "4      2        0    13  Panther             other  33370.0           23.91  "
      ]
     },
     "execution_count": 54,
     "metadata": {},
     "output_type": "execute_result"
    }
   ],
   "source": [
    "data.head()"
   ]
  },
  {
   "cell_type": "code",
   "execution_count": 55,
   "metadata": {},
   "outputs": [],
   "source": [
    "data.to_csv(path_meter_proc + \"dev_merged.csv\", index=False)"
   ]
  },
  {
   "cell_type": "markdown",
   "metadata": {},
   "source": [
    "# Predictive models"
   ]
  },
  {
   "cell_type": "markdown",
   "metadata": {},
   "source": [
    "## Long-term prediction: whole year 2017 prediction"
   ]
  },
  {
   "cell_type": "markdown",
   "metadata": {},
   "source": [
    "**Train:** whole year 2016 (01/2016 to 12/2016)<br>\n",
    "**Validation:** whole year 2017 (01/2017 to 12/2017)"
   ]
  },
  {
   "cell_type": "markdown",
   "metadata": {},
   "source": [
    "<img src=\"..\\\\figures\\\\split_longterm.png\">"
   ]
  },
  {
   "cell_type": "code",
   "execution_count": 4,
   "metadata": {},
   "outputs": [
    {
     "name": "stdout",
     "output_type": "stream",
     "text": [
      "Mem. usage decreased to 2278.42 Mb (39.8% reduction)\n"
     ]
    }
   ],
   "source": [
    "# Load dataset\n",
    "data = pd.read_csv(path_meter_proc + \"dev_merged.csv\")\n",
    "# Reduce memory\n",
    "data = reduce_mem_usage(data)"
   ]
  },
  {
   "cell_type": "code",
   "execution_count": 5,
   "metadata": {},
   "outputs": [],
   "source": [
    "# Rounds to 4 decimals\n",
    "data[\"meter_reading\"] = data['meter_reading'].astype(float).round(4)\n",
    "data[\"airTemperature\"] = data['airTemperature'].astype(float).round(2)"
   ]
  },
  {
   "cell_type": "code",
   "execution_count": 6,
   "metadata": {},
   "outputs": [
    {
     "name": "stdout",
     "output_type": "stream",
     "text": [
      "<class 'pandas.core.frame.DataFrame'>\n",
      "RangeIndex: 45077356 entries, 0 to 45077355\n",
      "Data columns (total 11 columns):\n",
      " #   Column             Dtype  \n",
      "---  ------             -----  \n",
      " 0   timestamp          object \n",
      " 1   building_id        object \n",
      " 2   meter_reading      float64\n",
      " 3   meter              object \n",
      " 4   month              int8   \n",
      " 5   weekday            int8   \n",
      " 6   hour               int8   \n",
      " 7   site_id            object \n",
      " 8   primaryspaceusage  object \n",
      " 9   sqft               float32\n",
      " 10  airTemperature     float64\n",
      "dtypes: float32(1), float64(2), int8(3), object(5)\n",
      "memory usage: 2.6+ GB\n"
     ]
    }
   ],
   "source": [
    "data.info()"
   ]
  },
  {
   "cell_type": "code",
   "execution_count": 7,
   "metadata": {},
   "outputs": [
    {
     "data": {
      "text/html": [
       "<div>\n",
       "<style scoped>\n",
       "    .dataframe tbody tr th:only-of-type {\n",
       "        vertical-align: middle;\n",
       "    }\n",
       "\n",
       "    .dataframe tbody tr th {\n",
       "        vertical-align: top;\n",
       "    }\n",
       "\n",
       "    .dataframe thead th {\n",
       "        text-align: right;\n",
       "    }\n",
       "</style>\n",
       "<table border=\"1\" class=\"dataframe\">\n",
       "  <thead>\n",
       "    <tr style=\"text-align: right;\">\n",
       "      <th></th>\n",
       "      <th>timestamp</th>\n",
       "      <th>building_id</th>\n",
       "      <th>meter_reading</th>\n",
       "      <th>meter</th>\n",
       "      <th>month</th>\n",
       "      <th>weekday</th>\n",
       "      <th>hour</th>\n",
       "      <th>site_id</th>\n",
       "      <th>primaryspaceusage</th>\n",
       "      <th>sqft</th>\n",
       "      <th>airTemperature</th>\n",
       "    </tr>\n",
       "  </thead>\n",
       "  <tbody>\n",
       "    <tr>\n",
       "      <th>0</th>\n",
       "      <td>2016-02-29 09:00:00</td>\n",
       "      <td>Gwyneth_Panther_Office</td>\n",
       "      <td>464.3139</td>\n",
       "      <td>chilledwater</td>\n",
       "      <td>2</td>\n",
       "      <td>0</td>\n",
       "      <td>9</td>\n",
       "      <td>Panther</td>\n",
       "      <td>other</td>\n",
       "      <td>33370.0</td>\n",
       "      <td>16.70</td>\n",
       "    </tr>\n",
       "    <tr>\n",
       "      <th>1</th>\n",
       "      <td>2016-02-29 10:00:00</td>\n",
       "      <td>Gwyneth_Panther_Office</td>\n",
       "      <td>759.7864</td>\n",
       "      <td>chilledwater</td>\n",
       "      <td>2</td>\n",
       "      <td>0</td>\n",
       "      <td>10</td>\n",
       "      <td>Panther</td>\n",
       "      <td>other</td>\n",
       "      <td>33370.0</td>\n",
       "      <td>21.09</td>\n",
       "    </tr>\n",
       "    <tr>\n",
       "      <th>2</th>\n",
       "      <td>2016-02-29 11:00:00</td>\n",
       "      <td>Gwyneth_Panther_Office</td>\n",
       "      <td>801.9968</td>\n",
       "      <td>chilledwater</td>\n",
       "      <td>2</td>\n",
       "      <td>0</td>\n",
       "      <td>11</td>\n",
       "      <td>Panther</td>\n",
       "      <td>other</td>\n",
       "      <td>33370.0</td>\n",
       "      <td>21.70</td>\n",
       "    </tr>\n",
       "    <tr>\n",
       "      <th>3</th>\n",
       "      <td>2016-02-29 12:00:00</td>\n",
       "      <td>Gwyneth_Panther_Office</td>\n",
       "      <td>844.2072</td>\n",
       "      <td>chilledwater</td>\n",
       "      <td>2</td>\n",
       "      <td>0</td>\n",
       "      <td>12</td>\n",
       "      <td>Panther</td>\n",
       "      <td>other</td>\n",
       "      <td>33370.0</td>\n",
       "      <td>22.20</td>\n",
       "    </tr>\n",
       "    <tr>\n",
       "      <th>4</th>\n",
       "      <td>2016-02-29 13:00:00</td>\n",
       "      <td>Gwyneth_Panther_Office</td>\n",
       "      <td>928.6279</td>\n",
       "      <td>chilledwater</td>\n",
       "      <td>2</td>\n",
       "      <td>0</td>\n",
       "      <td>13</td>\n",
       "      <td>Panther</td>\n",
       "      <td>other</td>\n",
       "      <td>33370.0</td>\n",
       "      <td>23.91</td>\n",
       "    </tr>\n",
       "  </tbody>\n",
       "</table>\n",
       "</div>"
      ],
      "text/plain": [
       "             timestamp             building_id  meter_reading         meter  \\\n",
       "0  2016-02-29 09:00:00  Gwyneth_Panther_Office       464.3139  chilledwater   \n",
       "1  2016-02-29 10:00:00  Gwyneth_Panther_Office       759.7864  chilledwater   \n",
       "2  2016-02-29 11:00:00  Gwyneth_Panther_Office       801.9968  chilledwater   \n",
       "3  2016-02-29 12:00:00  Gwyneth_Panther_Office       844.2072  chilledwater   \n",
       "4  2016-02-29 13:00:00  Gwyneth_Panther_Office       928.6279  chilledwater   \n",
       "\n",
       "   month  weekday  hour  site_id primaryspaceusage     sqft  airTemperature  \n",
       "0      2        0     9  Panther             other  33370.0           16.70  \n",
       "1      2        0    10  Panther             other  33370.0           21.09  \n",
       "2      2        0    11  Panther             other  33370.0           21.70  \n",
       "3      2        0    12  Panther             other  33370.0           22.20  \n",
       "4      2        0    13  Panther             other  33370.0           23.91  "
      ]
     },
     "execution_count": 7,
     "metadata": {},
     "output_type": "execute_result"
    }
   ],
   "source": [
    "data.head()"
   ]
  },
  {
   "cell_type": "code",
   "execution_count": 8,
   "metadata": {},
   "outputs": [],
   "source": [
    "# Converts to timestamp\n",
    "data[\"timestamp\"] = pd.to_datetime(data[\"timestamp\"], format='%Y-%m-%d %H:%M:%S')"
   ]
  },
  {
   "cell_type": "code",
   "execution_count": 9,
   "metadata": {},
   "outputs": [],
   "source": [
    "# Strategy split\n",
    "train = data[data[\"timestamp\"] < \"2017-01-01 00:00:00\"]\n",
    "val = data[data[\"timestamp\"] >= \"2017-01-01 00:00:00\"]\n",
    "del(data)"
   ]
  },
  {
   "cell_type": "markdown",
   "metadata": {},
   "source": [
    "Let's check we have the same buildings in both datasets:"
   ]
  },
  {
   "cell_type": "code",
   "execution_count": 10,
   "metadata": {},
   "outputs": [
    {
     "name": "stdout",
     "output_type": "stream",
     "text": [
      "Buildings in train: 1589\n",
      "Buildings in val: 1600\n",
      "Buildings in val AND train: 1565\n"
     ]
    }
   ],
   "source": [
    "# List of unique buildings in each dataset\n",
    "train_bdg = pd.DataFrame(train.building_id.unique()).rename(columns={0:\"train\"})\n",
    "val_bdg = pd.DataFrame(val.building_id.unique()).rename(columns={0:\"val\"})\n",
    "# Number of unique buildings in each dataset\n",
    "print(\"Buildings in train: \" + str(len(train_bdg)))\n",
    "print(\"Buildings in val: \" + str(len(val_bdg)))\n",
    "# list of shared buildings in both datasets\n",
    "shared_bdg = list(pd.merge(train_bdg, val_bdg, how=\"inner\", left_on=\"train\",right_on=\"val\").drop(\"val\",axis=1).rename(columns={\"train\":\"unique_bdg\"}).unique_bdg)\n",
    "print(\"Buildings in val AND train: \" + str(len(shared_bdg)))\n",
    "del(train_bdg, val_bdg)"
   ]
  },
  {
   "cell_type": "markdown",
   "metadata": {},
   "source": [
    "Let's select the shared buildings for the model:"
   ]
  },
  {
   "cell_type": "code",
   "execution_count": 11,
   "metadata": {},
   "outputs": [],
   "source": [
    "train = train[train.building_id.isin(shared_bdg) == True]\n",
    "val = val[val.building_id.isin(shared_bdg) == True]"
   ]
  },
  {
   "cell_type": "code",
   "execution_count": 12,
   "metadata": {},
   "outputs": [
    {
     "name": "stdout",
     "output_type": "stream",
     "text": [
      "Buildings in train: 1565\n",
      "Buildings in val: 1565\n",
      "Buildings in val AND train: 1565\n"
     ]
    }
   ],
   "source": [
    "# List of unique buildings in each dataset\n",
    "train_bdg = pd.DataFrame(train.building_id.unique()).rename(columns={0:\"train\"})\n",
    "val_bdg = pd.DataFrame(val.building_id.unique()).rename(columns={0:\"val\"})\n",
    "# Number of unique buildings in each dataset\n",
    "print(\"Buildings in train: \" + str(len(train_bdg)))\n",
    "print(\"Buildings in val: \" + str(len(val_bdg)))\n",
    "# list of shared buildings in both datasets\n",
    "shared_bdg = list(pd.merge(train_bdg, val_bdg, how=\"inner\", left_on=\"train\",right_on=\"val\").drop(\"val\",axis=1).rename(columns={\"train\":\"unique_bdg\"}).unique_bdg)\n",
    "print(\"Buildings in val AND train: \" + str(len(shared_bdg)))\n",
    "del(train_bdg, val_bdg, shared_bdg)"
   ]
  },
  {
   "cell_type": "markdown",
   "metadata": {},
   "source": [
    "### Real values"
   ]
  },
  {
   "cell_type": "code",
   "execution_count": 15,
   "metadata": {},
   "outputs": [],
   "source": [
    "val_real = val[[\"timestamp\",\"building_id\",\"meter\",\"meter_reading\"]]\n",
    "val_real.to_csv(\"..\\\\data\\\\predictions\\\\longterm_real.csv\", index=False)"
   ]
  },
  {
   "cell_type": "code",
   "execution_count": 16,
   "metadata": {},
   "outputs": [],
   "source": [
    "values, counts = np.unique(val_real.meter_reading, return_counts=True)"
   ]
  },
  {
   "cell_type": "code",
   "execution_count": 17,
   "metadata": {},
   "outputs": [
    {
     "name": "stdout",
     "output_type": "stream",
     "text": [
      "[0.00000000e+00 1.00000000e-04 2.00000000e-04 ... 4.73268938e+05\n",
      " 4.79129656e+05 4.94695375e+05]\n",
      "[1327286   59262   66623 ...       1       1       1]\n"
     ]
    }
   ],
   "source": [
    "print(values)\n",
    "print(counts)"
   ]
  },
  {
   "cell_type": "code",
   "execution_count": 18,
   "metadata": {},
   "outputs": [
    {
     "name": "stdout",
     "output_type": "stream",
     "text": [
      "Unique values: 3169834\n",
      "Min value: 0.0\n",
      "Max value: 494695.375\n"
     ]
    }
   ],
   "source": [
    "print(\"Unique values: \" + str(len(values)))\n",
    "print(\"Min value: \" + str(min(values)))\n",
    "print(\"Max value: \" + str(max(values)))"
   ]
  },
  {
   "cell_type": "code",
   "execution_count": 19,
   "metadata": {},
   "outputs": [],
   "source": [
    "del(val_real, values, counts)"
   ]
  },
  {
   "cell_type": "markdown",
   "metadata": {},
   "source": [
    "### Encoding and Data/Target split"
   ]
  },
  {
   "cell_type": "code",
   "execution_count": 13,
   "metadata": {},
   "outputs": [],
   "source": [
    "train = train.drop(\"timestamp\",axis=1)\n",
    "val = val.drop(\"timestamp\",axis=1)"
   ]
  },
  {
   "cell_type": "code",
   "execution_count": null,
   "metadata": {},
   "outputs": [],
   "source": [
    "\"\"\"train = train.set_index([\"timestamp\",\"building_id\"])\n",
    "val = val.set_index([\"timestamp\",\"building_id\"])\"\"\""
   ]
  },
  {
   "cell_type": "markdown",
   "metadata": {},
   "source": [
    "For LightGBM use only a label encoding (this algorith can handle categorical features by itself):"
   ]
  },
  {
   "cell_type": "code",
   "execution_count": 15,
   "metadata": {},
   "outputs": [],
   "source": [
    "# Label Encoder\n",
    "le_meter = LabelEncoder().fit(train.meter)\n",
    "train[\"meter\"] = le_meter.transform(train.meter)\n",
    "val[\"meter\"] = le_meter.transform(val.meter)"
   ]
  },
  {
   "cell_type": "code",
   "execution_count": 16,
   "metadata": {},
   "outputs": [],
   "source": [
    "# Label Encoder\n",
    "le_usage = LabelEncoder().fit(train.primaryspaceusage)\n",
    "train[\"primaryspaceusage\"] = le_usage.transform(train.primaryspaceusage)\n",
    "val[\"primaryspaceusage\"] = le_usage.transform(val.primaryspaceusage)"
   ]
  },
  {
   "cell_type": "code",
   "execution_count": 17,
   "metadata": {},
   "outputs": [],
   "source": [
    "# Label Encoder\n",
    "le_usage = LabelEncoder().fit(train.building_id)\n",
    "train[\"building_id\"] = le_usage.transform(train.building_id)\n",
    "val[\"building_id\"] = le_usage.transform(val.building_id)"
   ]
  },
  {
   "cell_type": "code",
   "execution_count": 18,
   "metadata": {},
   "outputs": [],
   "source": [
    "# Label Encoder\n",
    "le_usage = LabelEncoder().fit(train.site_id)\n",
    "train[\"site_id\"] = le_usage.transform(train.site_id)\n",
    "val[\"site_id\"] = le_usage.transform(val.site_id)"
   ]
  },
  {
   "cell_type": "code",
   "execution_count": 19,
   "metadata": {},
   "outputs": [],
   "source": [
    "# Split datasets\n",
    "X_train = train.drop(\"meter_reading\", axis=1)\n",
    "y_train = train[\"meter_reading\"]\n",
    "\n",
    "X_val = val.drop(\"meter_reading\", axis=1)\n",
    "y_val = val[\"meter_reading\"]\n",
    "\n",
    "del(train, val)"
   ]
  },
  {
   "cell_type": "markdown",
   "metadata": {},
   "source": [
    "### LightGBM prediction"
   ]
  },
  {
   "cell_type": "markdown",
   "metadata": {},
   "source": [
    "Default parameters: https://lightgbm.readthedocs.io/en/latest/Parameters.html"
   ]
  },
  {
   "cell_type": "code",
   "execution_count": 20,
   "metadata": {},
   "outputs": [],
   "source": [
    "# create dataset for lightgbm\n",
    "lgb_train = lgb.Dataset(\n",
    "    X_train,\n",
    "    y_train,\n",
    "    categorical_feature=[\"site_id\",\"building_id\",\"meter\",\"month\",\"weekday\",\"hour\",\"primaryspaceusage\"],\n",
    "    free_raw_data=False,\n",
    ")\n",
    "lgb_eval = lgb.Dataset(\n",
    "    X_val,\n",
    "    y_val,\n",
    "    categorical_feature=[\"site_id\",\"building_id\",\"meter\",\"month\",\"weekday\",\"hour\",\"primaryspaceusage\"],\n",
    "    reference=lgb_train,\n",
    "    free_raw_data=False,\n",
    ")"
   ]
  },
  {
   "cell_type": "code",
   "execution_count": 29,
   "metadata": {},
   "outputs": [],
   "source": [
    "# Parameters\n",
    "params = {\n",
    "    \"objective\": \"regression\",\n",
    "    \"metric\": \"rmse\",\n",
    "    \"random_state\": 55,\n",
    "    \"learning_rate\":0.01, # default 0.1\n",
    "    \"max_bin\":761, # Bin temperature by 0.1 ºC. default 255\n",
    "    \"num_leaves\": 2197 # Around 0.01% of training data. default 31\n",
    "}"
   ]
  },
  {
   "cell_type": "code",
   "execution_count": 30,
   "metadata": {},
   "outputs": [
    {
     "name": "stdout",
     "output_type": "stream",
     "text": [
      "Starting training...\n"
     ]
    },
    {
     "name": "stderr",
     "output_type": "stream",
     "text": [
      "C:\\ProgramData\\Anaconda3\\lib\\site-packages\\lightgbm\\basic.py:1243: UserWarning: Using categorical_feature in Dataset.\n",
      "  warnings.warn('Using categorical_feature in Dataset.')\n"
     ]
    },
    {
     "name": "stdout",
     "output_type": "stream",
     "text": [
      "Training until validation scores don't improve for 10000 rounds\n",
      "[1000]\tvalid_0's rmse: 113376\n",
      "[2000]\tvalid_0's rmse: 114943\n",
      "[3000]\tvalid_0's rmse: 115910\n",
      "[4000]\tvalid_0's rmse: 116508\n",
      "[5000]\tvalid_0's rmse: 116981\n",
      "[6000]\tvalid_0's rmse: 117324\n",
      "[7000]\tvalid_0's rmse: 117628\n",
      "[8000]\tvalid_0's rmse: 117882\n",
      "[9000]\tvalid_0's rmse: 118080\n",
      "[10000]\tvalid_0's rmse: 118268\n",
      "Early stopping, best iteration is:\n",
      "[1]\tvalid_0's rmse: 3973.13\n"
     ]
    }
   ],
   "source": [
    "# train\n",
    "print('Starting training...')\n",
    "gbm = lgb.train(params,\n",
    "                lgb_train,\n",
    "                valid_sets = lgb_eval,\n",
    "                num_boost_round=100000,\n",
    "                early_stopping_rounds=10000,\n",
    "                verbose_eval=1000)"
   ]
  },
  {
   "cell_type": "code",
   "execution_count": 31,
   "metadata": {},
   "outputs": [
    {
     "data": {
      "text/plain": [
       "array([ 293,   80,  209,   46,  166,    4,   17,  306, 1075])"
      ]
     },
     "execution_count": 31,
     "metadata": {},
     "output_type": "execute_result"
    }
   ],
   "source": [
    "gbm.feature_importance()"
   ]
  },
  {
   "cell_type": "code",
   "execution_count": 32,
   "metadata": {},
   "outputs": [
    {
     "data": {
      "text/plain": [
       "<matplotlib.axes._subplots.AxesSubplot at 0x1f68368fd48>"
      ]
     },
     "execution_count": 32,
     "metadata": {},
     "output_type": "execute_result"
    },
    {
     "data": {
      "image/png": "[encoded data removed]",
      "text/plain": [
       "<Figure size 432x288 with 1 Axes>"
      ]
     },
     "metadata": {
      "needs_background": "light"
     },
     "output_type": "display_data"
    }
   ],
   "source": [
    "lgb.plot_importance(gbm)"
   ]
  },
  {
   "cell_type": "code",
   "execution_count": 33,
   "metadata": {},
   "outputs": [
    {
     "name": "stdout",
     "output_type": "stream",
     "text": [
      "Starting predicting...\n",
      "Finish.\n"
     ]
    }
   ],
   "source": [
    "# predict\n",
    "print('Starting predicting...')\n",
    "y_pred = gbm.predict(X_val, num_iteration=gbm.best_iteration)\n",
    "print('Finish.')"
   ]
  },
  {
   "cell_type": "code",
   "execution_count": 34,
   "metadata": {},
   "outputs": [],
   "source": [
    "values, counts = np.unique(y_pred, return_counts=True)"
   ]
  },
  {
   "cell_type": "code",
   "execution_count": 35,
   "metadata": {},
   "outputs": [
    {
     "name": "stdout",
     "output_type": "stream",
     "text": [
      "[  1698.39969357   1698.44564018   1698.45764851 ... 137991.55189395\n",
      " 150026.12264395 159704.21789395]\n",
      "[ 229570 5804893  295462 ...      10      10      38]\n"
     ]
    }
   ],
   "source": [
    "print(values)\n",
    "print(counts)"
   ]
  },
  {
   "cell_type": "code",
   "execution_count": 36,
   "metadata": {},
   "outputs": [
    {
     "name": "stdout",
     "output_type": "stream",
     "text": [
      "Unique values: 2183\n",
      "Min value: 1698.3996935683324\n",
      "Max value: 159704.21789394814\n"
     ]
    }
   ],
   "source": [
    "print(\"Unique values: \" + str(len(values)))\n",
    "print(\"Min value: \" + str(min(values)))\n",
    "print(\"Max value: \" + str(max(values)))"
   ]
  },
  {
   "cell_type": "code",
   "execution_count": 37,
   "metadata": {},
   "outputs": [],
   "source": [
    "# Save LightGBM prediction\n",
    "pd.DataFrame(y_pred).to_csv(\"..\\\\data\\\\predictions\\\\longterm_LGBM.csv\", index=False, header=\"LGBM\")"
   ]
  },
  {
   "cell_type": "markdown",
   "metadata": {},
   "source": [
    "### Predictions dataset"
   ]
  },
  {
   "cell_type": "markdown",
   "metadata": {},
   "source": [
    "To export a single dataset with all the predictions."
   ]
  },
  {
   "cell_type": "code",
   "execution_count": null,
   "metadata": {},
   "outputs": [],
   "source": [
    "del(X_train, X_val, y_train, y_val)\n",
    "gc.collect()"
   ]
  },
  {
   "cell_type": "code",
   "execution_count": 5,
   "metadata": {},
   "outputs": [],
   "source": [
    "# Filepath\n",
    "files = glob(\"..\\\\data\\\\predictions\\\\longterm*\")"
   ]
  },
  {
   "cell_type": "code",
   "execution_count": 6,
   "metadata": {},
   "outputs": [
    {
     "data": {
      "text/plain": [
       "['..\\\\data\\\\predictions\\\\longterm_LGBM.csv',\n",
       " '..\\\\data\\\\predictions\\\\longterm_real.csv']"
      ]
     },
     "execution_count": 6,
     "metadata": {},
     "output_type": "execute_result"
    }
   ],
   "source": [
    "files"
   ]
  },
  {
   "cell_type": "code",
   "execution_count": 23,
   "metadata": {},
   "outputs": [],
   "source": [
    "df_pred = ConcatAllModels(files)"
   ]
  },
  {
   "cell_type": "code",
   "execution_count": 25,
   "metadata": {},
   "outputs": [],
   "source": [
    "df_pred = df_pred[[\"timestamp\",\"building_id\",\"meter\",\"meter_reading\",\"LGBM\"]]"
   ]
  },
  {
   "cell_type": "code",
   "execution_count": 26,
   "metadata": {},
   "outputs": [
    {
     "data": {
      "text/html": [
       "<div>\n",
       "<style scoped>\n",
       "    .dataframe tbody tr th:only-of-type {\n",
       "        vertical-align: middle;\n",
       "    }\n",
       "\n",
       "    .dataframe tbody tr th {\n",
       "        vertical-align: top;\n",
       "    }\n",
       "\n",
       "    .dataframe thead th {\n",
       "        text-align: right;\n",
       "    }\n",
       "</style>\n",
       "<table border=\"1\" class=\"dataframe\">\n",
       "  <thead>\n",
       "    <tr style=\"text-align: right;\">\n",
       "      <th></th>\n",
       "      <th>timestamp</th>\n",
       "      <th>building_id</th>\n",
       "      <th>meter</th>\n",
       "      <th>meter_reading</th>\n",
       "      <th>LGBM</th>\n",
       "    </tr>\n",
       "  </thead>\n",
       "  <tbody>\n",
       "    <tr>\n",
       "      <th>0</th>\n",
       "      <td>2017-04-17 14:00:00</td>\n",
       "      <td>Gwyneth_Panther_Office</td>\n",
       "      <td>chilledwater</td>\n",
       "      <td>0.0000</td>\n",
       "      <td>1710.470333</td>\n",
       "    </tr>\n",
       "    <tr>\n",
       "      <th>1</th>\n",
       "      <td>2017-04-17 15:00:00</td>\n",
       "      <td>Gwyneth_Panther_Office</td>\n",
       "      <td>chilledwater</td>\n",
       "      <td>295.4725</td>\n",
       "      <td>1710.470333</td>\n",
       "    </tr>\n",
       "    <tr>\n",
       "      <th>2</th>\n",
       "      <td>2017-04-17 16:00:00</td>\n",
       "      <td>Gwyneth_Panther_Office</td>\n",
       "      <td>chilledwater</td>\n",
       "      <td>1055.2589</td>\n",
       "      <td>1710.721023</td>\n",
       "    </tr>\n",
       "    <tr>\n",
       "      <th>3</th>\n",
       "      <td>2017-04-17 17:00:00</td>\n",
       "      <td>Gwyneth_Panther_Office</td>\n",
       "      <td>chilledwater</td>\n",
       "      <td>970.8382</td>\n",
       "      <td>1710.721023</td>\n",
       "    </tr>\n",
       "    <tr>\n",
       "      <th>4</th>\n",
       "      <td>2017-04-17 18:00:00</td>\n",
       "      <td>Gwyneth_Panther_Office</td>\n",
       "      <td>chilledwater</td>\n",
       "      <td>844.2072</td>\n",
       "      <td>1710.721023</td>\n",
       "    </tr>\n",
       "  </tbody>\n",
       "</table>\n",
       "</div>"
      ],
      "text/plain": [
       "             timestamp             building_id         meter  meter_reading  \\\n",
       "0  2017-04-17 14:00:00  Gwyneth_Panther_Office  chilledwater         0.0000   \n",
       "1  2017-04-17 15:00:00  Gwyneth_Panther_Office  chilledwater       295.4725   \n",
       "2  2017-04-17 16:00:00  Gwyneth_Panther_Office  chilledwater      1055.2589   \n",
       "3  2017-04-17 17:00:00  Gwyneth_Panther_Office  chilledwater       970.8382   \n",
       "4  2017-04-17 18:00:00  Gwyneth_Panther_Office  chilledwater       844.2072   \n",
       "\n",
       "          LGBM  \n",
       "0  1710.470333  \n",
       "1  1710.470333  \n",
       "2  1710.721023  \n",
       "3  1710.721023  \n",
       "4  1710.721023  "
      ]
     },
     "execution_count": 26,
     "metadata": {},
     "output_type": "execute_result"
    }
   ],
   "source": [
    "df_pred.head()"
   ]
  },
  {
   "cell_type": "code",
   "execution_count": 27,
   "metadata": {},
   "outputs": [],
   "source": [
    "# Saves files\n",
    "df_pred.to_csv(\"..\\\\data\\\\predictions\\\\longterm_pred.csv\", index=False)"
   ]
  },
  {
   "cell_type": "markdown",
   "metadata": {},
   "source": [
    "## Short term prediction"
   ]
  },
  {
   "cell_type": "markdown",
   "metadata": {},
   "source": [
    "**train:** 1 month (core winter and summer months)<br>\n",
    "**validation:** 3 days<br>\n",
    "**test:** 3 days"
   ]
  },
  {
   "cell_type": "markdown",
   "metadata": {},
   "source": [
    "<img src=\"..\\\\figures\\\\split_shorterm.png\">"
   ]
  },
  {
   "cell_type": "markdown",
   "metadata": {},
   "source": [
    "### Winter"
   ]
  },
  {
   "cell_type": "code",
   "execution_count": 5,
   "metadata": {},
   "outputs": [
    {
     "name": "stdout",
     "output_type": "stream",
     "text": [
      "Mem. usage decreased to 2278.42 Mb (39.8% reduction)\n"
     ]
    }
   ],
   "source": [
    "# Load dataset\n",
    "data = pd.read_csv(path_meter_proc + \"dev_merged.csv\")\n",
    "# Reduce memory\n",
    "data = reduce_mem_usage(data)"
   ]
  },
  {
   "cell_type": "code",
   "execution_count": 6,
   "metadata": {},
   "outputs": [],
   "source": [
    "# Rounds to 4 decimals\n",
    "data[\"meter_reading\"] = data['meter_reading'].astype(float).round(4)\n",
    "data[\"airTemperature\"] = data['airTemperature'].astype(float).round(2)"
   ]
  },
  {
   "cell_type": "code",
   "execution_count": 7,
   "metadata": {},
   "outputs": [
    {
     "name": "stdout",
     "output_type": "stream",
     "text": [
      "<class 'pandas.core.frame.DataFrame'>\n",
      "RangeIndex: 45077356 entries, 0 to 45077355\n",
      "Data columns (total 11 columns):\n",
      " #   Column             Dtype  \n",
      "---  ------             -----  \n",
      " 0   timestamp          object \n",
      " 1   building_id        object \n",
      " 2   meter_reading      float64\n",
      " 3   meter              object \n",
      " 4   month              int8   \n",
      " 5   weekday            int8   \n",
      " 6   hour               int8   \n",
      " 7   site_id            object \n",
      " 8   primaryspaceusage  object \n",
      " 9   sqft               float32\n",
      " 10  airTemperature     float64\n",
      "dtypes: float32(1), float64(2), int8(3), object(5)\n",
      "memory usage: 2.6+ GB\n"
     ]
    }
   ],
   "source": [
    "data.info()"
   ]
  },
  {
   "cell_type": "code",
   "execution_count": 8,
   "metadata": {},
   "outputs": [
    {
     "data": {
      "text/html": [
       "<div>\n",
       "<style scoped>\n",
       "    .dataframe tbody tr th:only-of-type {\n",
       "        vertical-align: middle;\n",
       "    }\n",
       "\n",
       "    .dataframe tbody tr th {\n",
       "        vertical-align: top;\n",
       "    }\n",
       "\n",
       "    .dataframe thead th {\n",
       "        text-align: right;\n",
       "    }\n",
       "</style>\n",
       "<table border=\"1\" class=\"dataframe\">\n",
       "  <thead>\n",
       "    <tr style=\"text-align: right;\">\n",
       "      <th></th>\n",
       "      <th>timestamp</th>\n",
       "      <th>building_id</th>\n",
       "      <th>meter_reading</th>\n",
       "      <th>meter</th>\n",
       "      <th>month</th>\n",
       "      <th>weekday</th>\n",
       "      <th>hour</th>\n",
       "      <th>site_id</th>\n",
       "      <th>primaryspaceusage</th>\n",
       "      <th>sqft</th>\n",
       "      <th>airTemperature</th>\n",
       "    </tr>\n",
       "  </thead>\n",
       "  <tbody>\n",
       "    <tr>\n",
       "      <th>0</th>\n",
       "      <td>2016-02-29 09:00:00</td>\n",
       "      <td>Gwyneth_Panther_Office</td>\n",
       "      <td>464.3139</td>\n",
       "      <td>chilledwater</td>\n",
       "      <td>2</td>\n",
       "      <td>0</td>\n",
       "      <td>9</td>\n",
       "      <td>Panther</td>\n",
       "      <td>other</td>\n",
       "      <td>33370.0</td>\n",
       "      <td>16.70</td>\n",
       "    </tr>\n",
       "    <tr>\n",
       "      <th>1</th>\n",
       "      <td>2016-02-29 10:00:00</td>\n",
       "      <td>Gwyneth_Panther_Office</td>\n",
       "      <td>759.7864</td>\n",
       "      <td>chilledwater</td>\n",
       "      <td>2</td>\n",
       "      <td>0</td>\n",
       "      <td>10</td>\n",
       "      <td>Panther</td>\n",
       "      <td>other</td>\n",
       "      <td>33370.0</td>\n",
       "      <td>21.09</td>\n",
       "    </tr>\n",
       "    <tr>\n",
       "      <th>2</th>\n",
       "      <td>2016-02-29 11:00:00</td>\n",
       "      <td>Gwyneth_Panther_Office</td>\n",
       "      <td>801.9968</td>\n",
       "      <td>chilledwater</td>\n",
       "      <td>2</td>\n",
       "      <td>0</td>\n",
       "      <td>11</td>\n",
       "      <td>Panther</td>\n",
       "      <td>other</td>\n",
       "      <td>33370.0</td>\n",
       "      <td>21.70</td>\n",
       "    </tr>\n",
       "    <tr>\n",
       "      <th>3</th>\n",
       "      <td>2016-02-29 12:00:00</td>\n",
       "      <td>Gwyneth_Panther_Office</td>\n",
       "      <td>844.2072</td>\n",
       "      <td>chilledwater</td>\n",
       "      <td>2</td>\n",
       "      <td>0</td>\n",
       "      <td>12</td>\n",
       "      <td>Panther</td>\n",
       "      <td>other</td>\n",
       "      <td>33370.0</td>\n",
       "      <td>22.20</td>\n",
       "    </tr>\n",
       "    <tr>\n",
       "      <th>4</th>\n",
       "      <td>2016-02-29 13:00:00</td>\n",
       "      <td>Gwyneth_Panther_Office</td>\n",
       "      <td>928.6279</td>\n",
       "      <td>chilledwater</td>\n",
       "      <td>2</td>\n",
       "      <td>0</td>\n",
       "      <td>13</td>\n",
       "      <td>Panther</td>\n",
       "      <td>other</td>\n",
       "      <td>33370.0</td>\n",
       "      <td>23.91</td>\n",
       "    </tr>\n",
       "  </tbody>\n",
       "</table>\n",
       "</div>"
      ],
      "text/plain": [
       "             timestamp             building_id  meter_reading         meter  \\\n",
       "0  2016-02-29 09:00:00  Gwyneth_Panther_Office       464.3139  chilledwater   \n",
       "1  2016-02-29 10:00:00  Gwyneth_Panther_Office       759.7864  chilledwater   \n",
       "2  2016-02-29 11:00:00  Gwyneth_Panther_Office       801.9968  chilledwater   \n",
       "3  2016-02-29 12:00:00  Gwyneth_Panther_Office       844.2072  chilledwater   \n",
       "4  2016-02-29 13:00:00  Gwyneth_Panther_Office       928.6279  chilledwater   \n",
       "\n",
       "   month  weekday  hour  site_id primaryspaceusage     sqft  airTemperature  \n",
       "0      2        0     9  Panther             other  33370.0           16.70  \n",
       "1      2        0    10  Panther             other  33370.0           21.09  \n",
       "2      2        0    11  Panther             other  33370.0           21.70  \n",
       "3      2        0    12  Panther             other  33370.0           22.20  \n",
       "4      2        0    13  Panther             other  33370.0           23.91  "
      ]
     },
     "execution_count": 8,
     "metadata": {},
     "output_type": "execute_result"
    }
   ],
   "source": [
    "data.head()"
   ]
  },
  {
   "cell_type": "code",
   "execution_count": 9,
   "metadata": {},
   "outputs": [],
   "source": [
    "# Converts to timestamp\n",
    "data[\"timestamp\"] = pd.to_datetime(data[\"timestamp\"], format='%Y-%m-%d %H:%M:%S')"
   ]
  },
  {
   "cell_type": "code",
   "execution_count": 10,
   "metadata": {},
   "outputs": [],
   "source": [
    "# Strategy split\n",
    "train = data[(data[\"timestamp\"] >= \"2017-01-01 00:00:00\") & (data[\"timestamp\"] < \"2017-02-01 00:00:00\")]\n",
    "val = data[(data[\"timestamp\"] >= \"2017-02-01 00:00:00\") & (data[\"timestamp\"] < \"2017-02-04 00:00:00\")]\n",
    "test = data[(data[\"timestamp\"] >= \"2017-02-04 00:00:00\") & (data[\"timestamp\"] < \"2017-02-07 00:00:00\")]\n",
    "del(data)"
   ]
  },
  {
   "cell_type": "markdown",
   "metadata": {},
   "source": [
    "Let's check we have the same buildings in all datasets:"
   ]
  },
  {
   "cell_type": "code",
   "execution_count": 11,
   "metadata": {},
   "outputs": [
    {
     "name": "stdout",
     "output_type": "stream",
     "text": [
      "Buildings in train: 1583\n",
      "Buildings in val: 1567\n",
      "Buildings in test: 1568\n",
      "Buildings in val AND train AND test: 1567\n"
     ]
    }
   ],
   "source": [
    "# List of unique buildings in each dataset\n",
    "train_bdg = pd.DataFrame(train.building_id.unique()).rename(columns={0:\"bdg\"})\n",
    "val_bdg = pd.DataFrame(val.building_id.unique()).rename(columns={0:\"bdg\"})\n",
    "test_bdg = pd.DataFrame(test.building_id.unique()).rename(columns={0:\"bdg\"})\n",
    "# Number of unique buildings in each dataset\n",
    "print(\"Buildings in train: \" + str(len(train_bdg)))\n",
    "print(\"Buildings in val: \" + str(len(val_bdg)))\n",
    "print(\"Buildings in test: \" + str(len(test_bdg)))\n",
    "# list of shared buildings in all datasets\n",
    "shared_bdg = list(pd.merge(train_bdg, val_bdg, how=\"inner\", on=\"bdg\").merge(test_bdg, how=\"inner\", on=\"bdg\").bdg)\n",
    "print(\"Buildings in val AND train AND test: \" + str(len(shared_bdg)))"
   ]
  },
  {
   "cell_type": "markdown",
   "metadata": {},
   "source": [
    "Let's select the shared buildings for the model:"
   ]
  },
  {
   "cell_type": "code",
   "execution_count": 13,
   "metadata": {},
   "outputs": [],
   "source": [
    "train = train[train.building_id.isin(shared_bdg) == True]\n",
    "val = val[val.building_id.isin(shared_bdg) == True]\n",
    "test = test[test.building_id.isin(shared_bdg) == True]"
   ]
  },
  {
   "cell_type": "markdown",
   "metadata": {},
   "source": [
    "### Real values"
   ]
  },
  {
   "cell_type": "code",
   "execution_count": 14,
   "metadata": {},
   "outputs": [],
   "source": [
    "test_real = val[[\"timestamp\",\"building_id\",\"meter\",\"meter_reading\"]]\n",
    "test_real.to_csv(\"..\\\\data\\\\predictions\\\\shortterm-winter_real.csv\", index=False)"
   ]
  },
  {
   "cell_type": "code",
   "execution_count": 15,
   "metadata": {},
   "outputs": [],
   "source": [
    "values, counts = np.unique(test_real.meter_reading, return_counts=True)"
   ]
  },
  {
   "cell_type": "code",
   "execution_count": 16,
   "metadata": {},
   "outputs": [
    {
     "name": "stdout",
     "output_type": "stream",
     "text": [
      "[0.00000000e+00 2.00000000e-04 4.00000000e-04 ... 8.25000000e+04\n",
      " 8.85014453e+04 9.48799297e+04]\n",
      "[8502  144  144 ...    1    1    1]\n"
     ]
    }
   ],
   "source": [
    "print(values)\n",
    "print(counts)"
   ]
  },
  {
   "cell_type": "code",
   "execution_count": 17,
   "metadata": {},
   "outputs": [
    {
     "name": "stdout",
     "output_type": "stream",
     "text": [
      "Unique values: 86500\n",
      "Min value: 0.0\n",
      "Max value: 94879.9297\n"
     ]
    }
   ],
   "source": [
    "print(\"Unique values: \" + str(len(values)))\n",
    "print(\"Min value: \" + str(min(values)))\n",
    "print(\"Max value: \" + str(max(values)))"
   ]
  },
  {
   "cell_type": "code",
   "execution_count": 19,
   "metadata": {},
   "outputs": [],
   "source": [
    "del(test_real, values, counts)"
   ]
  },
  {
   "cell_type": "markdown",
   "metadata": {},
   "source": [
    "### Encoding and Data/Target split"
   ]
  },
  {
   "cell_type": "code",
   "execution_count": 20,
   "metadata": {},
   "outputs": [],
   "source": [
    "train = train.drop(\"timestamp\",axis=1)\n",
    "val = val.drop(\"timestamp\",axis=1)\n",
    "test = test.drop(\"timestamp\",axis=1)"
   ]
  },
  {
   "cell_type": "markdown",
   "metadata": {},
   "source": [
    "For LightGBM use only a label encoding (this algorith can handle categorical features by itself):"
   ]
  },
  {
   "cell_type": "code",
   "execution_count": 21,
   "metadata": {},
   "outputs": [],
   "source": [
    "# Label Encoder\n",
    "le_meter = LabelEncoder().fit(train.meter)\n",
    "train[\"meter\"] = le_meter.transform(train.meter)\n",
    "val[\"meter\"] = le_meter.transform(val.meter)\n",
    "test[\"meter\"] = le_meter.transform(test.meter)"
   ]
  },
  {
   "cell_type": "code",
   "execution_count": 22,
   "metadata": {},
   "outputs": [],
   "source": [
    "# Label Encoder\n",
    "le_usage = LabelEncoder().fit(train.primaryspaceusage)\n",
    "train[\"primaryspaceusage\"] = le_usage.transform(train.primaryspaceusage)\n",
    "val[\"primaryspaceusage\"] = le_usage.transform(val.primaryspaceusage)\n",
    "test[\"primaryspaceusage\"] = le_usage.transform(test.primaryspaceusage)"
   ]
  },
  {
   "cell_type": "code",
   "execution_count": 23,
   "metadata": {},
   "outputs": [],
   "source": [
    "# Label Encoder\n",
    "le_usage = LabelEncoder().fit(train.building_id)\n",
    "train[\"building_id\"] = le_usage.transform(train.building_id)\n",
    "val[\"building_id\"] = le_usage.transform(val.building_id)\n",
    "test[\"building_id\"] = le_usage.transform(test.building_id)"
   ]
  },
  {
   "cell_type": "code",
   "execution_count": 24,
   "metadata": {},
   "outputs": [],
   "source": [
    "# Label Encoder\n",
    "le_usage = LabelEncoder().fit(train.site_id)\n",
    "train[\"site_id\"] = le_usage.transform(train.site_id)\n",
    "val[\"site_id\"] = le_usage.transform(val.site_id)\n",
    "test[\"site_id\"] = le_usage.transform(test.site_id)"
   ]
  },
  {
   "cell_type": "code",
   "execution_count": 28,
   "metadata": {},
   "outputs": [],
   "source": [
    "# Split datasets\n",
    "X_train = train.drop(\"meter_reading\", axis=1)\n",
    "y_train = train[\"meter_reading\"]\n",
    "\n",
    "X_val = val.drop(\"meter_reading\", axis=1)\n",
    "y_val = val[\"meter_reading\"]\n",
    "\n",
    "X_test = test.drop(\"meter_reading\", axis=1)\n",
    "y_test = test[\"meter_reading\"]\n",
    "\n",
    "del(train, val, test)"
   ]
  },
  {
   "cell_type": "markdown",
   "metadata": {},
   "source": [
    "### LightGBM prediction"
   ]
  },
  {
   "cell_type": "markdown",
   "metadata": {},
   "source": [
    "Default parameters: https://lightgbm.readthedocs.io/en/latest/Parameters.html"
   ]
  },
  {
   "cell_type": "code",
   "execution_count": 29,
   "metadata": {},
   "outputs": [],
   "source": [
    "# create dataset for lightgbm\n",
    "lgb_train = lgb.Dataset(\n",
    "    X_train,\n",
    "    y_train,\n",
    "    categorical_feature=[\"site_id\",\"building_id\",\"meter\",\"month\",\"weekday\",\"hour\",\"primaryspaceusage\"],\n",
    "    free_raw_data=False,\n",
    ")\n",
    "lgb_eval = lgb.Dataset(\n",
    "    X_val,\n",
    "    y_val,\n",
    "    categorical_feature=[\"site_id\",\"building_id\",\"meter\",\"month\",\"weekday\",\"hour\",\"primaryspaceusage\"],\n",
    "    reference=lgb_train,\n",
    "    free_raw_data=False,\n",
    ")\n",
    "\n",
    "lgb_test = lgb.Dataset(\n",
    "    X_test,\n",
    "    y_test,\n",
    "    categorical_feature=[\"site_id\",\"building_id\",\"meter\",\"month\",\"weekday\",\"hour\",\"primaryspaceusage\"],\n",
    "    reference=lgb_train,\n",
    "    free_raw_data=False,\n",
    ")"
   ]
  },
  {
   "cell_type": "code",
   "execution_count": 30,
   "metadata": {},
   "outputs": [],
   "source": [
    "# Parameters\n",
    "params = {\n",
    "    \"objective\": \"regression\",\n",
    "    \"metric\": \"rmse\",\n",
    "    \"random_state\": 55,\n",
    "    \"learning_rate\":0.01, # default 0.1\n",
    "    \"max_bin\":761, # Bin temperature by 0.1 ºC. default 255\n",
    "    \"num_leaves\": 2197 # Around 0.01% of training data. default 31\n",
    "}"
   ]
  },
  {
   "cell_type": "code",
   "execution_count": 31,
   "metadata": {},
   "outputs": [
    {
     "name": "stdout",
     "output_type": "stream",
     "text": [
      "Starting training...\n"
     ]
    },
    {
     "name": "stderr",
     "output_type": "stream",
     "text": [
      "C:\\ProgramData\\Anaconda3\\lib\\site-packages\\lightgbm\\basic.py:1243: UserWarning: Using categorical_feature in Dataset.\n",
      "  warnings.warn('Using categorical_feature in Dataset.')\n"
     ]
    },
    {
     "name": "stdout",
     "output_type": "stream",
     "text": [
      "Training until validation scores don't improve for 10000 rounds\n",
      "[1000]\tvalid_0's rmse: 760.108\n",
      "[2000]\tvalid_0's rmse: 780.563\n",
      "[3000]\tvalid_0's rmse: 797.874\n",
      "[4000]\tvalid_0's rmse: 805.833\n",
      "[5000]\tvalid_0's rmse: 810.404\n",
      "[6000]\tvalid_0's rmse: 815.668\n",
      "[7000]\tvalid_0's rmse: 818.829\n",
      "[8000]\tvalid_0's rmse: 821.719\n",
      "[9000]\tvalid_0's rmse: 824.869\n",
      "[10000]\tvalid_0's rmse: 828.572\n",
      "Early stopping, best iteration is:\n",
      "[376]\tvalid_0's rmse: 731.758\n"
     ]
    }
   ],
   "source": [
    "# train\n",
    "print('Starting training...')\n",
    "gbm = lgb.train(params,\n",
    "                lgb_train,\n",
    "                valid_sets = lgb_eval,\n",
    "                num_boost_round=100000,\n",
    "                early_stopping_rounds=10000,\n",
    "                verbose_eval=1000)"
   ]
  },
  {
   "cell_type": "code",
   "execution_count": 32,
   "metadata": {},
   "outputs": [
    {
     "data": {
      "text/plain": [
       "array([100264,  27692,      0,  41275,  73580,   2162,   9928, 173012,\n",
       "       397783])"
      ]
     },
     "execution_count": 32,
     "metadata": {},
     "output_type": "execute_result"
    }
   ],
   "source": [
    "gbm.feature_importance()"
   ]
  },
  {
   "cell_type": "code",
   "execution_count": 33,
   "metadata": {},
   "outputs": [
    {
     "data": {
      "text/plain": [
       "<matplotlib.axes._subplots.AxesSubplot at 0x1fe273554c8>"
      ]
     },
     "execution_count": 33,
     "metadata": {},
     "output_type": "execute_result"
    },
    {
     "data": {
      "image/png": "[encoded data removed]",
      "text/plain": [
       "<Figure size 432x288 with 1 Axes>"
      ]
     },
     "metadata": {
      "needs_background": "light"
     },
     "output_type": "display_data"
    }
   ],
   "source": [
    "lgb.plot_importance(gbm)"
   ]
  },
  {
   "cell_type": "code",
   "execution_count": 34,
   "metadata": {},
   "outputs": [
    {
     "name": "stdout",
     "output_type": "stream",
     "text": [
      "Starting predicting...\n",
      "Finish.\n"
     ]
    }
   ],
   "source": [
    "# predict\n",
    "print('Starting predicting...')\n",
    "y_pred = gbm.predict(X_test, num_iteration=gbm.best_iteration)\n",
    "print('Finish.')"
   ]
  },
  {
   "cell_type": "code",
   "execution_count": 35,
   "metadata": {},
   "outputs": [],
   "source": [
    "values, counts = np.unique(y_pred, return_counts=True)"
   ]
  },
  {
   "cell_type": "code",
   "execution_count": 36,
   "metadata": {},
   "outputs": [
    {
     "name": "stdout",
     "output_type": "stream",
     "text": [
      "[ -441.64330458  -439.83578342  -438.83045328 ... 67896.33722693\n",
      " 67930.16518602 69023.43386595]\n",
      "[1 1 1 ... 1 1 1]\n"
     ]
    }
   ],
   "source": [
    "print(values)\n",
    "print(counts)"
   ]
  },
  {
   "cell_type": "code",
   "execution_count": 37,
   "metadata": {},
   "outputs": [
    {
     "name": "stdout",
     "output_type": "stream",
     "text": [
      "Unique values: 140278\n",
      "Min value: -441.6433045755405\n",
      "Max value: 69023.43386594887\n"
     ]
    }
   ],
   "source": [
    "print(\"Unique values: \" + str(len(values)))\n",
    "print(\"Min value: \" + str(min(values)))\n",
    "print(\"Max value: \" + str(max(values)))"
   ]
  },
  {
   "cell_type": "code",
   "execution_count": 43,
   "metadata": {},
   "outputs": [],
   "source": [
    "# Save LightGBM prediction\n",
    "pd.DataFrame(y_pred).to_csv(\"..\\\\data\\\\predictions\\\\shortterm-winter_LGBM.csv\", index=False, header=\"LGBM\")"
   ]
  },
  {
   "cell_type": "markdown",
   "metadata": {},
   "source": [
    "### Predictions dataset"
   ]
  },
  {
   "cell_type": "markdown",
   "metadata": {},
   "source": [
    "To export a single dataset with all the predictions."
   ]
  },
  {
   "cell_type": "code",
   "execution_count": 39,
   "metadata": {},
   "outputs": [
    {
     "data": {
      "text/plain": [
       "286"
      ]
     },
     "execution_count": 39,
     "metadata": {},
     "output_type": "execute_result"
    }
   ],
   "source": [
    "del(X_train, X_val, y_train, y_val)\n",
    "gc.collect()"
   ]
  },
  {
   "cell_type": "code",
   "execution_count": 90,
   "metadata": {},
   "outputs": [],
   "source": [
    "# Filepath\n",
    "files = glob(\"..\\\\data\\\\predictions\\\\shortterm-winter*\")"
   ]
  },
  {
   "cell_type": "code",
   "execution_count": 91,
   "metadata": {},
   "outputs": [
    {
     "data": {
      "text/plain": [
       "['..\\\\data\\\\predictions\\\\shortterm-winter_LGBM.csv',\n",
       " '..\\\\data\\\\predictions\\\\shortterm-winter_real.csv']"
      ]
     },
     "execution_count": 91,
     "metadata": {},
     "output_type": "execute_result"
    }
   ],
   "source": [
    "files"
   ]
  },
  {
   "cell_type": "code",
   "execution_count": 92,
   "metadata": {},
   "outputs": [],
   "source": [
    "df_pred = ConcatAllModels(files)"
   ]
  },
  {
   "cell_type": "code",
   "execution_count": 93,
   "metadata": {},
   "outputs": [],
   "source": [
    "df_pred = df_pred[[\"timestamp\",\"building_id\",\"meter\",\"meter_reading\",\"LGBM\"]]"
   ]
  },
  {
   "cell_type": "code",
   "execution_count": 94,
   "metadata": {},
   "outputs": [
    {
     "data": {
      "text/html": [
       "<div>\n",
       "<style scoped>\n",
       "    .dataframe tbody tr th:only-of-type {\n",
       "        vertical-align: middle;\n",
       "    }\n",
       "\n",
       "    .dataframe tbody tr th {\n",
       "        vertical-align: top;\n",
       "    }\n",
       "\n",
       "    .dataframe thead th {\n",
       "        text-align: right;\n",
       "    }\n",
       "</style>\n",
       "<table border=\"1\" class=\"dataframe\">\n",
       "  <thead>\n",
       "    <tr style=\"text-align: right;\">\n",
       "      <th></th>\n",
       "      <th>timestamp</th>\n",
       "      <th>building_id</th>\n",
       "      <th>meter</th>\n",
       "      <th>meter_reading</th>\n",
       "      <th>LGBM</th>\n",
       "    </tr>\n",
       "  </thead>\n",
       "  <tbody>\n",
       "    <tr>\n",
       "      <th>0</th>\n",
       "      <td>2017-02-01 00:00:00</td>\n",
       "      <td>Jarrod_Panther_Lodging/residential</td>\n",
       "      <td>chilledwater</td>\n",
       "      <td>464.3139</td>\n",
       "      <td>1259.357777</td>\n",
       "    </tr>\n",
       "    <tr>\n",
       "      <th>1</th>\n",
       "      <td>2017-02-01 01:00:00</td>\n",
       "      <td>Jarrod_Panther_Lodging/residential</td>\n",
       "      <td>chilledwater</td>\n",
       "      <td>422.1036</td>\n",
       "      <td>1055.710598</td>\n",
       "    </tr>\n",
       "    <tr>\n",
       "      <th>2</th>\n",
       "      <td>2017-02-01 02:00:00</td>\n",
       "      <td>Jarrod_Panther_Lodging/residential</td>\n",
       "      <td>chilledwater</td>\n",
       "      <td>379.8932</td>\n",
       "      <td>899.462317</td>\n",
       "    </tr>\n",
       "    <tr>\n",
       "      <th>3</th>\n",
       "      <td>2017-02-01 03:00:00</td>\n",
       "      <td>Jarrod_Panther_Lodging/residential</td>\n",
       "      <td>chilledwater</td>\n",
       "      <td>295.4725</td>\n",
       "      <td>851.878107</td>\n",
       "    </tr>\n",
       "    <tr>\n",
       "      <th>4</th>\n",
       "      <td>2017-02-01 04:00:00</td>\n",
       "      <td>Jarrod_Panther_Lodging/residential</td>\n",
       "      <td>chilledwater</td>\n",
       "      <td>295.4725</td>\n",
       "      <td>769.181125</td>\n",
       "    </tr>\n",
       "  </tbody>\n",
       "</table>\n",
       "</div>"
      ],
      "text/plain": [
       "             timestamp                         building_id         meter  \\\n",
       "0  2017-02-01 00:00:00  Jarrod_Panther_Lodging/residential  chilledwater   \n",
       "1  2017-02-01 01:00:00  Jarrod_Panther_Lodging/residential  chilledwater   \n",
       "2  2017-02-01 02:00:00  Jarrod_Panther_Lodging/residential  chilledwater   \n",
       "3  2017-02-01 03:00:00  Jarrod_Panther_Lodging/residential  chilledwater   \n",
       "4  2017-02-01 04:00:00  Jarrod_Panther_Lodging/residential  chilledwater   \n",
       "\n",
       "   meter_reading         LGBM  \n",
       "0       464.3139  1259.357777  \n",
       "1       422.1036  1055.710598  \n",
       "2       379.8932   899.462317  \n",
       "3       295.4725   851.878107  \n",
       "4       295.4725   769.181125  "
      ]
     },
     "execution_count": 94,
     "metadata": {},
     "output_type": "execute_result"
    }
   ],
   "source": [
    "df_pred.head()"
   ]
  },
  {
   "cell_type": "code",
   "execution_count": 95,
   "metadata": {},
   "outputs": [],
   "source": [
    "# Saves files\n",
    "df_pred.to_csv(\"..\\\\data\\\\predictions\\\\shortterm-winter_pred.csv\", index=False)"
   ]
  },
  {
   "cell_type": "markdown",
   "metadata": {},
   "source": [
    "### Summer"
   ]
  },
  {
   "cell_type": "code",
   "execution_count": 50,
   "metadata": {},
   "outputs": [
    {
     "name": "stdout",
     "output_type": "stream",
     "text": [
      "Mem. usage decreased to 2278.42 Mb (39.8% reduction)\n"
     ]
    }
   ],
   "source": [
    "# Load dataset\n",
    "data = pd.read_csv(path_meter_proc + \"dev_merged.csv\")\n",
    "# Reduce memory\n",
    "data = reduce_mem_usage(data)"
   ]
  },
  {
   "cell_type": "code",
   "execution_count": 51,
   "metadata": {},
   "outputs": [],
   "source": [
    "# Rounds to 4 decimals\n",
    "data[\"meter_reading\"] = data['meter_reading'].astype(float).round(4)\n",
    "data[\"airTemperature\"] = data['airTemperature'].astype(float).round(2)"
   ]
  },
  {
   "cell_type": "code",
   "execution_count": 52,
   "metadata": {},
   "outputs": [
    {
     "name": "stdout",
     "output_type": "stream",
     "text": [
      "<class 'pandas.core.frame.DataFrame'>\n",
      "RangeIndex: 45077356 entries, 0 to 45077355\n",
      "Data columns (total 11 columns):\n",
      " #   Column             Dtype  \n",
      "---  ------             -----  \n",
      " 0   timestamp          object \n",
      " 1   building_id        object \n",
      " 2   meter_reading      float64\n",
      " 3   meter              object \n",
      " 4   month              int8   \n",
      " 5   weekday            int8   \n",
      " 6   hour               int8   \n",
      " 7   site_id            object \n",
      " 8   primaryspaceusage  object \n",
      " 9   sqft               float32\n",
      " 10  airTemperature     float64\n",
      "dtypes: float32(1), float64(2), int8(3), object(5)\n",
      "memory usage: 2.6+ GB\n"
     ]
    }
   ],
   "source": [
    "data.info()"
   ]
  },
  {
   "cell_type": "code",
   "execution_count": 53,
   "metadata": {},
   "outputs": [
    {
     "data": {
      "text/html": [
       "<div>\n",
       "<style scoped>\n",
       "    .dataframe tbody tr th:only-of-type {\n",
       "        vertical-align: middle;\n",
       "    }\n",
       "\n",
       "    .dataframe tbody tr th {\n",
       "        vertical-align: top;\n",
       "    }\n",
       "\n",
       "    .dataframe thead th {\n",
       "        text-align: right;\n",
       "    }\n",
       "</style>\n",
       "<table border=\"1\" class=\"dataframe\">\n",
       "  <thead>\n",
       "    <tr style=\"text-align: right;\">\n",
       "      <th></th>\n",
       "      <th>timestamp</th>\n",
       "      <th>building_id</th>\n",
       "      <th>meter_reading</th>\n",
       "      <th>meter</th>\n",
       "      <th>month</th>\n",
       "      <th>weekday</th>\n",
       "      <th>hour</th>\n",
       "      <th>site_id</th>\n",
       "      <th>primaryspaceusage</th>\n",
       "      <th>sqft</th>\n",
       "      <th>airTemperature</th>\n",
       "    </tr>\n",
       "  </thead>\n",
       "  <tbody>\n",
       "    <tr>\n",
       "      <th>0</th>\n",
       "      <td>2016-02-29 09:00:00</td>\n",
       "      <td>Gwyneth_Panther_Office</td>\n",
       "      <td>464.3139</td>\n",
       "      <td>chilledwater</td>\n",
       "      <td>2</td>\n",
       "      <td>0</td>\n",
       "      <td>9</td>\n",
       "      <td>Panther</td>\n",
       "      <td>other</td>\n",
       "      <td>33370.0</td>\n",
       "      <td>16.70</td>\n",
       "    </tr>\n",
       "    <tr>\n",
       "      <th>1</th>\n",
       "      <td>2016-02-29 10:00:00</td>\n",
       "      <td>Gwyneth_Panther_Office</td>\n",
       "      <td>759.7864</td>\n",
       "      <td>chilledwater</td>\n",
       "      <td>2</td>\n",
       "      <td>0</td>\n",
       "      <td>10</td>\n",
       "      <td>Panther</td>\n",
       "      <td>other</td>\n",
       "      <td>33370.0</td>\n",
       "      <td>21.09</td>\n",
       "    </tr>\n",
       "    <tr>\n",
       "      <th>2</th>\n",
       "      <td>2016-02-29 11:00:00</td>\n",
       "      <td>Gwyneth_Panther_Office</td>\n",
       "      <td>801.9968</td>\n",
       "      <td>chilledwater</td>\n",
       "      <td>2</td>\n",
       "      <td>0</td>\n",
       "      <td>11</td>\n",
       "      <td>Panther</td>\n",
       "      <td>other</td>\n",
       "      <td>33370.0</td>\n",
       "      <td>21.70</td>\n",
       "    </tr>\n",
       "    <tr>\n",
       "      <th>3</th>\n",
       "      <td>2016-02-29 12:00:00</td>\n",
       "      <td>Gwyneth_Panther_Office</td>\n",
       "      <td>844.2072</td>\n",
       "      <td>chilledwater</td>\n",
       "      <td>2</td>\n",
       "      <td>0</td>\n",
       "      <td>12</td>\n",
       "      <td>Panther</td>\n",
       "      <td>other</td>\n",
       "      <td>33370.0</td>\n",
       "      <td>22.20</td>\n",
       "    </tr>\n",
       "    <tr>\n",
       "      <th>4</th>\n",
       "      <td>2016-02-29 13:00:00</td>\n",
       "      <td>Gwyneth_Panther_Office</td>\n",
       "      <td>928.6279</td>\n",
       "      <td>chilledwater</td>\n",
       "      <td>2</td>\n",
       "      <td>0</td>\n",
       "      <td>13</td>\n",
       "      <td>Panther</td>\n",
       "      <td>other</td>\n",
       "      <td>33370.0</td>\n",
       "      <td>23.91</td>\n",
       "    </tr>\n",
       "  </tbody>\n",
       "</table>\n",
       "</div>"
      ],
      "text/plain": [
       "             timestamp             building_id  meter_reading         meter  \\\n",
       "0  2016-02-29 09:00:00  Gwyneth_Panther_Office       464.3139  chilledwater   \n",
       "1  2016-02-29 10:00:00  Gwyneth_Panther_Office       759.7864  chilledwater   \n",
       "2  2016-02-29 11:00:00  Gwyneth_Panther_Office       801.9968  chilledwater   \n",
       "3  2016-02-29 12:00:00  Gwyneth_Panther_Office       844.2072  chilledwater   \n",
       "4  2016-02-29 13:00:00  Gwyneth_Panther_Office       928.6279  chilledwater   \n",
       "\n",
       "   month  weekday  hour  site_id primaryspaceusage     sqft  airTemperature  \n",
       "0      2        0     9  Panther             other  33370.0           16.70  \n",
       "1      2        0    10  Panther             other  33370.0           21.09  \n",
       "2      2        0    11  Panther             other  33370.0           21.70  \n",
       "3      2        0    12  Panther             other  33370.0           22.20  \n",
       "4      2        0    13  Panther             other  33370.0           23.91  "
      ]
     },
     "execution_count": 53,
     "metadata": {},
     "output_type": "execute_result"
    }
   ],
   "source": [
    "data.head()"
   ]
  },
  {
   "cell_type": "code",
   "execution_count": 54,
   "metadata": {},
   "outputs": [],
   "source": [
    "# Converts to timestamp\n",
    "data[\"timestamp\"] = pd.to_datetime(data[\"timestamp\"], format='%Y-%m-%d %H:%M:%S')"
   ]
  },
  {
   "cell_type": "code",
   "execution_count": 55,
   "metadata": {},
   "outputs": [],
   "source": [
    "# Strategy split\n",
    "train = data[(data[\"timestamp\"] >= \"2017-07-01 00:00:00\") & (data[\"timestamp\"] < \"2017-08-01 00:00:00\")]\n",
    "val = data[(data[\"timestamp\"] >= \"2017-08-01 00:00:00\") & (data[\"timestamp\"] < \"2017-08-04 00:00:00\")]\n",
    "test = data[(data[\"timestamp\"] >= \"2017-08-04 00:00:00\") & (data[\"timestamp\"] < \"2017-08-07 00:00:00\")]\n",
    "del(data)"
   ]
  },
  {
   "cell_type": "markdown",
   "metadata": {},
   "source": [
    "Let's check we have the same buildings in all datasets:"
   ]
  },
  {
   "cell_type": "code",
   "execution_count": 56,
   "metadata": {},
   "outputs": [
    {
     "name": "stdout",
     "output_type": "stream",
     "text": [
      "Buildings in train: 1554\n",
      "Buildings in val: 1544\n",
      "Buildings in test: 1544\n",
      "Buildings in val AND train AND test: 1542\n"
     ]
    }
   ],
   "source": [
    "# List of unique buildings in each dataset\n",
    "train_bdg = pd.DataFrame(train.building_id.unique()).rename(columns={0:\"bdg\"})\n",
    "val_bdg = pd.DataFrame(val.building_id.unique()).rename(columns={0:\"bdg\"})\n",
    "test_bdg = pd.DataFrame(test.building_id.unique()).rename(columns={0:\"bdg\"})\n",
    "# Number of unique buildings in each dataset\n",
    "print(\"Buildings in train: \" + str(len(train_bdg)))\n",
    "print(\"Buildings in val: \" + str(len(val_bdg)))\n",
    "print(\"Buildings in test: \" + str(len(test_bdg)))\n",
    "# list of shared buildings in all datasets\n",
    "shared_bdg = list(pd.merge(train_bdg, val_bdg, how=\"inner\", on=\"bdg\").merge(test_bdg, how=\"inner\", on=\"bdg\").bdg)\n",
    "print(\"Buildings in val AND train AND test: \" + str(len(shared_bdg)))"
   ]
  },
  {
   "cell_type": "markdown",
   "metadata": {},
   "source": [
    "Let's select the shared buildings for the model:"
   ]
  },
  {
   "cell_type": "code",
   "execution_count": 57,
   "metadata": {},
   "outputs": [],
   "source": [
    "train = train[train.building_id.isin(shared_bdg) == True]\n",
    "val = val[val.building_id.isin(shared_bdg) == True]\n",
    "test = test[test.building_id.isin(shared_bdg) == True]"
   ]
  },
  {
   "cell_type": "markdown",
   "metadata": {},
   "source": [
    "### Real values"
   ]
  },
  {
   "cell_type": "code",
   "execution_count": 58,
   "metadata": {},
   "outputs": [],
   "source": [
    "test_real = val[[\"timestamp\",\"building_id\",\"meter\",\"meter_reading\"]]\n",
    "test_real.to_csv(\"..\\\\data\\\\predictions\\\\shortterm-summer_real.csv\", index=False)"
   ]
  },
  {
   "cell_type": "code",
   "execution_count": 59,
   "metadata": {},
   "outputs": [],
   "source": [
    "values, counts = np.unique(test_real.meter_reading, return_counts=True)"
   ]
  },
  {
   "cell_type": "code",
   "execution_count": 60,
   "metadata": {},
   "outputs": [
    {
     "name": "stdout",
     "output_type": "stream",
     "text": [
      "[0.00000000e+00 1.00000000e-04 2.00000000e-04 ... 6.11854375e+04\n",
      " 6.86182188e+04 7.08580781e+04]\n",
      "[12294   432   505 ...     1     1     1]\n"
     ]
    }
   ],
   "source": [
    "print(values)\n",
    "print(counts)"
   ]
  },
  {
   "cell_type": "code",
   "execution_count": 61,
   "metadata": {},
   "outputs": [
    {
     "name": "stdout",
     "output_type": "stream",
     "text": [
      "Unique values: 92318\n",
      "Min value: 0.0\n",
      "Max value: 70858.0781\n"
     ]
    }
   ],
   "source": [
    "print(\"Unique values: \" + str(len(values)))\n",
    "print(\"Min value: \" + str(min(values)))\n",
    "print(\"Max value: \" + str(max(values)))"
   ]
  },
  {
   "cell_type": "code",
   "execution_count": 62,
   "metadata": {},
   "outputs": [],
   "source": [
    "del(test_real, values, counts)"
   ]
  },
  {
   "cell_type": "markdown",
   "metadata": {},
   "source": [
    "### Encoding and Data/Target split"
   ]
  },
  {
   "cell_type": "code",
   "execution_count": 63,
   "metadata": {},
   "outputs": [],
   "source": [
    "train = train.drop(\"timestamp\",axis=1)\n",
    "val = val.drop(\"timestamp\",axis=1)\n",
    "test = test.drop(\"timestamp\",axis=1)"
   ]
  },
  {
   "cell_type": "markdown",
   "metadata": {},
   "source": [
    "For LightGBM use only a label encoding (this algorith can handle categorical features by itself):"
   ]
  },
  {
   "cell_type": "code",
   "execution_count": 64,
   "metadata": {},
   "outputs": [],
   "source": [
    "# Label Encoder\n",
    "le_meter = LabelEncoder().fit(train.meter)\n",
    "train[\"meter\"] = le_meter.transform(train.meter)\n",
    "val[\"meter\"] = le_meter.transform(val.meter)\n",
    "test[\"meter\"] = le_meter.transform(test.meter)"
   ]
  },
  {
   "cell_type": "code",
   "execution_count": 65,
   "metadata": {},
   "outputs": [],
   "source": [
    "# Label Encoder\n",
    "le_usage = LabelEncoder().fit(train.primaryspaceusage)\n",
    "train[\"primaryspaceusage\"] = le_usage.transform(train.primaryspaceusage)\n",
    "val[\"primaryspaceusage\"] = le_usage.transform(val.primaryspaceusage)\n",
    "test[\"primaryspaceusage\"] = le_usage.transform(test.primaryspaceusage)"
   ]
  },
  {
   "cell_type": "code",
   "execution_count": 66,
   "metadata": {},
   "outputs": [],
   "source": [
    "# Label Encoder\n",
    "le_usage = LabelEncoder().fit(train.building_id)\n",
    "train[\"building_id\"] = le_usage.transform(train.building_id)\n",
    "val[\"building_id\"] = le_usage.transform(val.building_id)\n",
    "test[\"building_id\"] = le_usage.transform(test.building_id)"
   ]
  },
  {
   "cell_type": "code",
   "execution_count": 67,
   "metadata": {},
   "outputs": [],
   "source": [
    "# Label Encoder\n",
    "le_usage = LabelEncoder().fit(train.site_id)\n",
    "train[\"site_id\"] = le_usage.transform(train.site_id)\n",
    "val[\"site_id\"] = le_usage.transform(val.site_id)\n",
    "test[\"site_id\"] = le_usage.transform(test.site_id)"
   ]
  },
  {
   "cell_type": "code",
   "execution_count": 68,
   "metadata": {},
   "outputs": [],
   "source": [
    "# Split datasets\n",
    "X_train = train.drop(\"meter_reading\", axis=1)\n",
    "y_train = train[\"meter_reading\"]\n",
    "\n",
    "X_val = val.drop(\"meter_reading\", axis=1)\n",
    "y_val = val[\"meter_reading\"]\n",
    "\n",
    "X_test = test.drop(\"meter_reading\", axis=1)\n",
    "y_test = test[\"meter_reading\"]\n",
    "\n",
    "del(train, val, test)"
   ]
  },
  {
   "cell_type": "markdown",
   "metadata": {},
   "source": [
    "### LightGBM prediction"
   ]
  },
  {
   "cell_type": "markdown",
   "metadata": {},
   "source": [
    "Default parameters: https://lightgbm.readthedocs.io/en/latest/Parameters.html"
   ]
  },
  {
   "cell_type": "code",
   "execution_count": 69,
   "metadata": {},
   "outputs": [],
   "source": [
    "# create dataset for lightgbm\n",
    "lgb_train = lgb.Dataset(\n",
    "    X_train,\n",
    "    y_train,\n",
    "    categorical_feature=[\"site_id\",\"building_id\",\"meter\",\"month\",\"weekday\",\"hour\",\"primaryspaceusage\"],\n",
    "    free_raw_data=False,\n",
    ")\n",
    "lgb_eval = lgb.Dataset(\n",
    "    X_val,\n",
    "    y_val,\n",
    "    categorical_feature=[\"site_id\",\"building_id\",\"meter\",\"month\",\"weekday\",\"hour\",\"primaryspaceusage\"],\n",
    "    reference=lgb_train,\n",
    "    free_raw_data=False,\n",
    ")\n",
    "\n",
    "lgb_test = lgb.Dataset(\n",
    "    X_test,\n",
    "    y_test,\n",
    "    categorical_feature=[\"site_id\",\"building_id\",\"meter\",\"month\",\"weekday\",\"hour\",\"primaryspaceusage\"],\n",
    "    reference=lgb_train,\n",
    "    free_raw_data=False,\n",
    ")"
   ]
  },
  {
   "cell_type": "code",
   "execution_count": 70,
   "metadata": {},
   "outputs": [],
   "source": [
    "# Parameters\n",
    "params = {\n",
    "    \"objective\": \"regression\",\n",
    "    \"metric\": \"rmse\",\n",
    "    \"random_state\": 55,\n",
    "    \"learning_rate\":0.01, # default 0.1\n",
    "    \"max_bin\":761, # Bin temperature by 0.1 ºC. default 255\n",
    "    \"num_leaves\": 2197 # Around 0.01% of training data. default 31\n",
    "}"
   ]
  },
  {
   "cell_type": "code",
   "execution_count": 71,
   "metadata": {},
   "outputs": [
    {
     "name": "stdout",
     "output_type": "stream",
     "text": [
      "Starting training...\n"
     ]
    },
    {
     "name": "stderr",
     "output_type": "stream",
     "text": [
      "C:\\ProgramData\\Anaconda3\\lib\\site-packages\\lightgbm\\basic.py:1243: UserWarning: Using categorical_feature in Dataset.\n",
      "  warnings.warn('Using categorical_feature in Dataset.')\n"
     ]
    },
    {
     "name": "stdout",
     "output_type": "stream",
     "text": [
      "Training until validation scores don't improve for 10000 rounds\n",
      "[1000]\tvalid_0's rmse: 1043.85\n",
      "[2000]\tvalid_0's rmse: 1076.6\n",
      "[3000]\tvalid_0's rmse: 1098.99\n",
      "[4000]\tvalid_0's rmse: 1115.63\n",
      "[5000]\tvalid_0's rmse: 1127.39\n",
      "[6000]\tvalid_0's rmse: 1135.8\n",
      "[7000]\tvalid_0's rmse: 1142.47\n",
      "[8000]\tvalid_0's rmse: 1148.25\n",
      "[9000]\tvalid_0's rmse: 1151.83\n",
      "[10000]\tvalid_0's rmse: 1154.39\n",
      "Early stopping, best iteration is:\n",
      "[141]\tvalid_0's rmse: 822.082\n"
     ]
    }
   ],
   "source": [
    "# train\n",
    "print('Starting training...')\n",
    "gbm = lgb.train(params,\n",
    "                lgb_train,\n",
    "                valid_sets = lgb_eval,\n",
    "                num_boost_round=100000,\n",
    "                early_stopping_rounds=10000,\n",
    "                verbose_eval=1000)"
   ]
  },
  {
   "cell_type": "code",
   "execution_count": 72,
   "metadata": {},
   "outputs": [
    {
     "data": {
      "text/plain": [
       "array([ 48059,  11624,      0,  15410,  31288,    589,   4234,  65737,\n",
       "       132695])"
      ]
     },
     "execution_count": 72,
     "metadata": {},
     "output_type": "execute_result"
    }
   ],
   "source": [
    "gbm.feature_importance()"
   ]
  },
  {
   "cell_type": "code",
   "execution_count": 73,
   "metadata": {},
   "outputs": [
    {
     "data": {
      "text/plain": [
       "<matplotlib.axes._subplots.AxesSubplot at 0x1fecd0f8588>"
      ]
     },
     "execution_count": 73,
     "metadata": {},
     "output_type": "execute_result"
    },
    {
     "data": {
      "image/png": "[encoded data removed]",
      "text/plain": [
       "<Figure size 432x288 with 1 Axes>"
      ]
     },
     "metadata": {
      "needs_background": "light"
     },
     "output_type": "display_data"
    }
   ],
   "source": [
    "lgb.plot_importance(gbm)"
   ]
  },
  {
   "cell_type": "code",
   "execution_count": 74,
   "metadata": {},
   "outputs": [
    {
     "name": "stdout",
     "output_type": "stream",
     "text": [
      "Starting predicting...\n",
      "Finish.\n"
     ]
    }
   ],
   "source": [
    "# predict\n",
    "print('Starting predicting...')\n",
    "y_pred = gbm.predict(X_test, num_iteration=gbm.best_iteration)\n",
    "print('Finish.')"
   ]
  },
  {
   "cell_type": "code",
   "execution_count": 75,
   "metadata": {},
   "outputs": [],
   "source": [
    "values, counts = np.unique(y_pred, return_counts=True)"
   ]
  },
  {
   "cell_type": "code",
   "execution_count": 76,
   "metadata": {},
   "outputs": [
    {
     "name": "stdout",
     "output_type": "stream",
     "text": [
      "[   73.88491224    94.09370852    94.41631054 ... 34060.32011671\n",
      " 34887.93604767 35736.74736845]\n",
      "[ 1  6 11 ...  1  1  1]\n"
     ]
    }
   ],
   "source": [
    "print(values)\n",
    "print(counts)"
   ]
  },
  {
   "cell_type": "code",
   "execution_count": 77,
   "metadata": {},
   "outputs": [
    {
     "name": "stdout",
     "output_type": "stream",
     "text": [
      "Unique values: 58538\n",
      "Min value: 73.88491223988439\n",
      "Max value: 35736.74736845064\n"
     ]
    }
   ],
   "source": [
    "print(\"Unique values: \" + str(len(values)))\n",
    "print(\"Min value: \" + str(min(values)))\n",
    "print(\"Max value: \" + str(max(values)))"
   ]
  },
  {
   "cell_type": "code",
   "execution_count": 78,
   "metadata": {},
   "outputs": [],
   "source": [
    "# Save LightGBM prediction\n",
    "pd.DataFrame(y_pred).to_csv(\"..\\\\data\\\\predictions\\\\shortterm-summer_LGBM.csv\", index=False, header=\"LGBM\")"
   ]
  },
  {
   "cell_type": "markdown",
   "metadata": {},
   "source": [
    "### Predictions dataset"
   ]
  },
  {
   "cell_type": "markdown",
   "metadata": {},
   "source": [
    "To export a single dataset with all the predictions."
   ]
  },
  {
   "cell_type": "code",
   "execution_count": 79,
   "metadata": {},
   "outputs": [
    {
     "data": {
      "text/plain": [
       "421"
      ]
     },
     "execution_count": 79,
     "metadata": {},
     "output_type": "execute_result"
    }
   ],
   "source": [
    "del(X_train, X_val, y_train, y_val)\n",
    "gc.collect()"
   ]
  },
  {
   "cell_type": "code",
   "execution_count": 80,
   "metadata": {},
   "outputs": [],
   "source": [
    "# Filepath\n",
    "files = glob(\"..\\\\data\\\\predictions\\\\shortterm-summer*\")"
   ]
  },
  {
   "cell_type": "code",
   "execution_count": 81,
   "metadata": {},
   "outputs": [
    {
     "data": {
      "text/plain": [
       "['..\\\\data\\\\predictions\\\\shortterm-summer_LGBM.csv',\n",
       " '..\\\\data\\\\predictions\\\\shortterm-summer_real.csv']"
      ]
     },
     "execution_count": 81,
     "metadata": {},
     "output_type": "execute_result"
    }
   ],
   "source": [
    "files"
   ]
  },
  {
   "cell_type": "code",
   "execution_count": 82,
   "metadata": {},
   "outputs": [],
   "source": [
    "df_pred = ConcatAllModels(files)"
   ]
  },
  {
   "cell_type": "code",
   "execution_count": 83,
   "metadata": {},
   "outputs": [],
   "source": [
    "df_pred = df_pred[[\"timestamp\",\"building_id\",\"meter\",\"meter_reading\",\"LGBM\"]]"
   ]
  },
  {
   "cell_type": "code",
   "execution_count": 84,
   "metadata": {},
   "outputs": [
    {
     "data": {
      "text/html": [
       "<div>\n",
       "<style scoped>\n",
       "    .dataframe tbody tr th:only-of-type {\n",
       "        vertical-align: middle;\n",
       "    }\n",
       "\n",
       "    .dataframe tbody tr th {\n",
       "        vertical-align: top;\n",
       "    }\n",
       "\n",
       "    .dataframe thead th {\n",
       "        text-align: right;\n",
       "    }\n",
       "</style>\n",
       "<table border=\"1\" class=\"dataframe\">\n",
       "  <thead>\n",
       "    <tr style=\"text-align: right;\">\n",
       "      <th></th>\n",
       "      <th>timestamp</th>\n",
       "      <th>building_id</th>\n",
       "      <th>meter</th>\n",
       "      <th>meter_reading</th>\n",
       "      <th>LGBM</th>\n",
       "    </tr>\n",
       "  </thead>\n",
       "  <tbody>\n",
       "    <tr>\n",
       "      <th>0</th>\n",
       "      <td>2017-08-01 00:00:00</td>\n",
       "      <td>Gwyneth_Panther_Office</td>\n",
       "      <td>chilledwater</td>\n",
       "      <td>844.2072</td>\n",
       "      <td>645.324614</td>\n",
       "    </tr>\n",
       "    <tr>\n",
       "      <th>1</th>\n",
       "      <td>2017-08-01 01:00:00</td>\n",
       "      <td>Gwyneth_Panther_Office</td>\n",
       "      <td>chilledwater</td>\n",
       "      <td>844.2072</td>\n",
       "      <td>620.794402</td>\n",
       "    </tr>\n",
       "    <tr>\n",
       "      <th>2</th>\n",
       "      <td>2017-08-01 02:00:00</td>\n",
       "      <td>Gwyneth_Panther_Office</td>\n",
       "      <td>chilledwater</td>\n",
       "      <td>801.9968</td>\n",
       "      <td>620.794402</td>\n",
       "    </tr>\n",
       "    <tr>\n",
       "      <th>3</th>\n",
       "      <td>2017-08-01 03:00:00</td>\n",
       "      <td>Gwyneth_Panther_Office</td>\n",
       "      <td>chilledwater</td>\n",
       "      <td>844.2072</td>\n",
       "      <td>659.043280</td>\n",
       "    </tr>\n",
       "    <tr>\n",
       "      <th>4</th>\n",
       "      <td>2017-08-01 04:00:00</td>\n",
       "      <td>Gwyneth_Panther_Office</td>\n",
       "      <td>chilledwater</td>\n",
       "      <td>844.2072</td>\n",
       "      <td>644.541422</td>\n",
       "    </tr>\n",
       "  </tbody>\n",
       "</table>\n",
       "</div>"
      ],
      "text/plain": [
       "             timestamp             building_id         meter  meter_reading  \\\n",
       "0  2017-08-01 00:00:00  Gwyneth_Panther_Office  chilledwater       844.2072   \n",
       "1  2017-08-01 01:00:00  Gwyneth_Panther_Office  chilledwater       844.2072   \n",
       "2  2017-08-01 02:00:00  Gwyneth_Panther_Office  chilledwater       801.9968   \n",
       "3  2017-08-01 03:00:00  Gwyneth_Panther_Office  chilledwater       844.2072   \n",
       "4  2017-08-01 04:00:00  Gwyneth_Panther_Office  chilledwater       844.2072   \n",
       "\n",
       "         LGBM  \n",
       "0  645.324614  \n",
       "1  620.794402  \n",
       "2  620.794402  \n",
       "3  659.043280  \n",
       "4  644.541422  "
      ]
     },
     "execution_count": 84,
     "metadata": {},
     "output_type": "execute_result"
    }
   ],
   "source": [
    "df_pred.head()"
   ]
  },
  {
   "cell_type": "code",
   "execution_count": 86,
   "metadata": {},
   "outputs": [],
   "source": [
    "# Saves files\n",
    "df_pred.to_csv(\"..\\\\data\\\\predictions\\\\shortterm-summer_pred.csv\", index=False)"
   ]
  }
 ],
 "metadata": {
  "kernelspec": {
   "display_name": "Python 3",
   "language": "python",
   "name": "python3"
  },
  "language_info": {
   "codemirror_mode": {
    "name": "ipython",
    "version": 3
   },
   "file_extension": ".py",
   "mimetype": "text/x-python",
   "name": "python",
   "nbconvert_exporter": "python",
   "pygments_lexer": "ipython3",
   "version": "3.7.6"
  }
 },
 "nbformat": 4,
 "nbformat_minor": 4
}
