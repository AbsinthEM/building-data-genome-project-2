{
 "cells": [
  {
   "cell_type": "markdown",
   "metadata": {},
   "source": [
    "# Building Data Genome Project 2.0\n",
    "## Predictive models"
   ]
  },
  {
   "cell_type": "markdown",
   "metadata": {},
   "source": [
    "Biam! (pic.biam@gmail.com)"
   ]
  },
  {
   "cell_type": "code",
   "execution_count": 1,
   "metadata": {},
   "outputs": [],
   "source": [
    "# data and numbers\n",
    "import numpy as np\n",
    "import pandas as pd\n",
    "import math\n",
    "import datetime\n",
    "from glob import glob\n",
    "import gc\n",
    "\n",
    "# Metrics & Models\n",
    "from sklearn.preprocessing import LabelEncoder\n",
    "import lightgbm as lgb"
   ]
  },
  {
   "cell_type": "code",
   "execution_count": 2,
   "metadata": {},
   "outputs": [],
   "source": [
    "path_metadata = \"..\\\\data\\\\metadata\\\\\"\n",
    "path_weather = \"..\\\\data\\\\weather\\\\\"\n",
    "path_meter_raw = \"..\\\\data\\\\meters\\\\raw\\\\\"\n",
    "path_meter_cleaned = \"..\\\\data\\\\meters\\\\cleaned\\\\\"\n",
    "path_meter_proc = \"..\\\\data\\\\meters\\\\processed\\\\\""
   ]
  },
  {
   "cell_type": "markdown",
   "metadata": {},
   "source": [
    "# Introduction"
   ]
  },
  {
   "cell_type": "code",
   "execution_count": null,
   "metadata": {},
   "outputs": [],
   "source": []
  },
  {
   "cell_type": "markdown",
   "metadata": {},
   "source": [
    "# Functions"
   ]
  },
  {
   "cell_type": "markdown",
   "metadata": {},
   "source": [
    "Source code for this function: https://www.kaggle.com/caesarlupum/ashrae-start-here-a-gentle-introduction"
   ]
  },
  {
   "cell_type": "code",
   "execution_count": 3,
   "metadata": {},
   "outputs": [],
   "source": [
    "## Function to reduce the DF size\n",
    "def reduce_mem_usage(df, verbose=True):\n",
    "    numerics = ['int16', 'int32', 'int64', 'float16', 'float32', 'float64']\n",
    "    start_mem = df.memory_usage().sum() / 1024**2    \n",
    "    for col in df.columns:\n",
    "        col_type = df[col].dtypes\n",
    "        if col_type in numerics:\n",
    "            c_min = df[col].min()\n",
    "            c_max = df[col].max()\n",
    "            if str(col_type)[:3] == 'int':\n",
    "                if c_min > np.iinfo(np.int8).min and c_max < np.iinfo(np.int8).max:\n",
    "                    df[col] = df[col].astype(np.int8)\n",
    "                elif c_min > np.iinfo(np.int16).min and c_max < np.iinfo(np.int16).max:\n",
    "                    df[col] = df[col].astype(np.int16)\n",
    "                elif c_min > np.iinfo(np.int32).min and c_max < np.iinfo(np.int32).max:\n",
    "                    df[col] = df[col].astype(np.int32)\n",
    "                elif c_min > np.iinfo(np.int64).min and c_max < np.iinfo(np.int64).max:\n",
    "                    df[col] = df[col].astype(np.int64)  \n",
    "            else:\n",
    "                if c_min > np.finfo(np.float16).min and c_max < np.finfo(np.float16).max:\n",
    "                    df[col] = df[col].astype(np.float16)\n",
    "                elif c_min > np.finfo(np.float32).min and c_max < np.finfo(np.float32).max:\n",
    "                    df[col] = df[col].astype(np.float32)\n",
    "                else:\n",
    "                    df[col] = df[col].astype(np.float64)    \n",
    "    end_mem = df.memory_usage().sum() / 1024**2\n",
    "    if verbose: print('Mem. usage decreased to {:5.2f} Mb ({:.1f}% reduction)'.format(end_mem, 100 * (start_mem - end_mem) / start_mem))\n",
    "    return df"
   ]
  },
  {
   "cell_type": "code",
   "execution_count": 4,
   "metadata": {},
   "outputs": [],
   "source": [
    "# This function concatenate all prediction in one dataframe\n",
    "# input: files directory list\n",
    "# output: single dataframe with all predictions\n",
    "\n",
    "def ConcatAllModels(files):\n",
    "    dfs = [] # empty list of the dataframes to create\n",
    "    for file in files: # for each file in directory\n",
    "        \n",
    "        model_name = file.split(\"\\\\\")[3].split(\"_\")[1].split(\".\")[0] # model_name to rename the model feature\n",
    "        \n",
    "        if model_name == \"real\": # don't rename column\n",
    "            \n",
    "            model = pd.read_csv(file) # load the dataset\n",
    "            \n",
    "        else: # rename column\n",
    "            \n",
    "            model = pd.read_csv(file, header=0, names=[model_name])\n",
    "            \n",
    "            \n",
    "        dfs.append(model) # append to list\n",
    "    complete_data = pd.concat(dfs, axis=1, ignore_index=False, sort=False) # concatenate all models\n",
    "   \n",
    "    return complete_data"
   ]
  },
  {
   "cell_type": "markdown",
   "metadata": {
    "toc-hr-collapsed": true
   },
   "source": [
    "# Datasets"
   ]
  },
  {
   "cell_type": "markdown",
   "metadata": {},
   "source": [
    "## Feature selection"
   ]
  },
  {
   "cell_type": "markdown",
   "metadata": {},
   "source": [
    "In this notebook only a selection of features will be used.<br>\n",
    "\n",
    "<i>Building metadata</i>\n",
    "<ul>\n",
    "    <li>Building ID*</li>\n",
    "    <li>Site ID*</li>\n",
    "    <li>Primary space usage</li>\n",
    "    <li>Building size (sqm)</li>\n",
    "</ul>\n",
    "<i>Weather data</i>\n",
    "<ul>\n",
    "    <li>Timestamp*</li>\n",
    "    <li>Site ID*</li>\n",
    "    <li>Air temperature</a></li>\n",
    "</ul>\n",
    "<i>Meter reading data</i>\n",
    "<ul>\n",
    "    <li>Timestamp*</li>\n",
    "    <li>Building ID*</li>\n",
    "    <li>meter</li>\n",
    "    <li>meter reading (target)</li>\n",
    "</ul>"
   ]
  },
  {
   "cell_type": "markdown",
   "metadata": {},
   "source": [
    "## Metadata"
   ]
  },
  {
   "cell_type": "markdown",
   "metadata": {},
   "source": [
    "**Buildings metadata**\n",
    "* `building_id`: building code-name with the structure <i>SiteID_[SimplifiedUsage](https://github.com/buds-lab/building-data-genome-project-2/wiki/Simplified-PSU)_UniqueName</i>.\n",
    "* `site_id`: animal-code-name for the site.\n",
    "* `building_id_kaggle`: building ID used for the [Kaggle competition](https://www.kaggle.com/c/ashrae-energy-prediction) (numeric).\n",
    "* `site_id_kaggle`: site ID used for the [Kaggle competition](https://www.kaggle.com/c/ashrae-energy-prediction) (numeric).\n",
    "* `primaryspaceusage`: Primary space usage of all buildings is mapped using the [energystar scheme building description types](https://www.energystar.gov/buildings/facility-owners-and-managers/existing-buildings/use-portfolio-manager/identify-your-property-type). \n",
    "* `sub_primaryspaceusage`: [energystar scheme building description types](https://www.energystar.gov/buildings/facility-owners-and-managers/existing-buildings/use-portfolio-manager/identify-your-property-type) subcategory.\n",
    "* `sqm`: Floor area of building in square meters (m2). \n",
    "* `lat`: Latitude of building location to city level.\n",
    "* `lng`: Longitude of building location to city level.\n",
    "* `timezone`: site's timezone.\n",
    "* `electricity`: presence of this kind of meter in the building. `Yes` if affirmative, `NaN` if negative.\n",
    "* `hotwater`: presence of this kind of meter in the building. `Yes` if affirmative, `NaN` if negative.\n",
    "* `chilledwater`: presence of this kind of meter in the building. `Yes` if affirmative, `NaN` if negative.\n",
    "* `steam`: presence of this kind of meter in the building. `Yes` if affirmative, `NaN` if negative.\n",
    "* `water`: presence of this kind of meter in the building. `Yes` if affirmative, `NaN` if negative.\n",
    "* `irrigation`: presence of this kind of meter in the building. `Yes` if affirmative, `NaN` if negative.\n",
    "* `solar`: presence of this kind of meter in the building. `Yes` if affirmative, `NaN` if negative.\n",
    "* `gas`: presence of this kind of meter in the building. `Yes` if affirmative, `NaN` if negative.\n",
    "* `industry`: Industry type corresponding to building.\n",
    "* `subindustry`: More detailed breakdown of Industry type corresponding to building.\n",
    "* `heatingtype`: Type of heating in corresponding building.\n",
    "* `yearbuilt`: Year corresponding to when building was first constructed, in the format YYYY.\n",
    "* `date_opened`: Date building was opened for use, in the format D/M/YYYY.\n",
    "* `numberoffloors`: Number of floors corresponding to building.\n",
    "* `occupants`: Usual number of occupants in the building.\n",
    "* `energystarscore`: Rating of building corresponding to building energystar scheme ([Energy Star Score](https://www.energystar.gov/buildings/facility-owners-and-managers/existing-buildings/use-portfolio-manager/understand-metrics/how-1-100)).\n",
    "* `eui`: [Energy use intensity](https://www.energystar.gov/buildings/facility-owners-and-managers/existing-buildings/use-portfolio-manager/understand-metrics/what-energy) of the building (kWh/year/m2).\n",
    "* `site_eui`: Energy (Consumed/Purchased) use intensity of the site (kWh/year/m2).\n",
    "* `source_eui`: Total primary energy consumption normalized by area (Takes into account conversion efficiency of primary energy into secondary energy).\n",
    "* `leed_level`: LEED rating of the building ([Leadership in Energy and Environmental Design](https://en.wikipedia.org/wiki/Leadership_in_Energy_and_Environmental_Design\")), most widely used green building rating system.\n",
    "* `rating`: Other building energy ratings."
   ]
  },
  {
   "cell_type": "code",
   "execution_count": 6,
   "metadata": {},
   "outputs": [
    {
     "name": "stdout",
     "output_type": "stream",
     "text": [
      "Mem. usage decreased to  0.04 Mb (12.5% reduction)\n",
      "<class 'pandas.core.frame.DataFrame'>\n",
      "RangeIndex: 1636 entries, 0 to 1635\n",
      "Data columns (total 4 columns):\n",
      " #   Column             Non-Null Count  Dtype  \n",
      "---  ------             --------------  -----  \n",
      " 0   building_id        1636 non-null   object \n",
      " 1   site_id            1636 non-null   object \n",
      " 2   primaryspaceusage  1615 non-null   object \n",
      " 3   sqm                1636 non-null   float32\n",
      "dtypes: float32(1), object(3)\n",
      "memory usage: 44.9+ KB\n"
     ]
    }
   ],
   "source": [
    "# Buildings metadata\n",
    "metadata = pd.read_csv(path_metadata + \"metadata.csv\", usecols = [\"building_id\",\n",
    "                                                                 \"site_id\",\n",
    "                                                                 \"primaryspaceusage\",\n",
    "                                                                 \"sqm\",\n",
    "                                                                 ])\n",
    "\n",
    "metadata = reduce_mem_usage(metadata)\n",
    "metadata.info()"
   ]
  },
  {
   "cell_type": "code",
   "execution_count": 7,
   "metadata": {},
   "outputs": [
    {
     "data": {
      "text/plain": [
       "building_id          0.000000\n",
       "site_id              0.000000\n",
       "primaryspaceusage    1.283619\n",
       "sqm                  0.000000\n",
       "dtype: float64"
      ]
     },
     "execution_count": 7,
     "metadata": {},
     "output_type": "execute_result"
    }
   ],
   "source": [
    "# missing values\n",
    "metadata.isna().sum()*100/len(metadata)"
   ]
  },
  {
   "cell_type": "code",
   "execution_count": 8,
   "metadata": {},
   "outputs": [
    {
     "data": {
      "text/html": [
       "<div>\n",
       "<style scoped>\n",
       "    .dataframe tbody tr th:only-of-type {\n",
       "        vertical-align: middle;\n",
       "    }\n",
       "\n",
       "    .dataframe tbody tr th {\n",
       "        vertical-align: top;\n",
       "    }\n",
       "\n",
       "    .dataframe thead th {\n",
       "        text-align: right;\n",
       "    }\n",
       "</style>\n",
       "<table border=\"1\" class=\"dataframe\">\n",
       "  <thead>\n",
       "    <tr style=\"text-align: right;\">\n",
       "      <th></th>\n",
       "      <th>building_id</th>\n",
       "      <th>site_id</th>\n",
       "      <th>primaryspaceusage</th>\n",
       "      <th>sqm</th>\n",
       "    </tr>\n",
       "  </thead>\n",
       "  <tbody>\n",
       "    <tr>\n",
       "      <th>1179</th>\n",
       "      <td>Swan_unknown_Reyna</td>\n",
       "      <td>Swan</td>\n",
       "      <td>NaN</td>\n",
       "      <td>6154.500000</td>\n",
       "    </tr>\n",
       "    <tr>\n",
       "      <th>1180</th>\n",
       "      <td>Swan_unknown_Douglas</td>\n",
       "      <td>Swan</td>\n",
       "      <td>NaN</td>\n",
       "      <td>7736.200195</td>\n",
       "    </tr>\n",
       "    <tr>\n",
       "      <th>1181</th>\n",
       "      <td>Swan_unknown_Darrin</td>\n",
       "      <td>Swan</td>\n",
       "      <td>NaN</td>\n",
       "      <td>6319.799805</td>\n",
       "    </tr>\n",
       "    <tr>\n",
       "      <th>1182</th>\n",
       "      <td>Swan_unknown_Ike</td>\n",
       "      <td>Swan</td>\n",
       "      <td>NaN</td>\n",
       "      <td>6928.100098</td>\n",
       "    </tr>\n",
       "    <tr>\n",
       "      <th>1183</th>\n",
       "      <td>Swan_unknown_Esteban</td>\n",
       "      <td>Swan</td>\n",
       "      <td>NaN</td>\n",
       "      <td>6976.399902</td>\n",
       "    </tr>\n",
       "    <tr>\n",
       "      <th>1184</th>\n",
       "      <td>Swan_unknown_Christoper</td>\n",
       "      <td>Swan</td>\n",
       "      <td>NaN</td>\n",
       "      <td>8636.599609</td>\n",
       "    </tr>\n",
       "    <tr>\n",
       "      <th>1185</th>\n",
       "      <td>Swan_unknown_Isaiah</td>\n",
       "      <td>Swan</td>\n",
       "      <td>NaN</td>\n",
       "      <td>14806.299805</td>\n",
       "    </tr>\n",
       "    <tr>\n",
       "      <th>1186</th>\n",
       "      <td>Swan_unknown_Tom</td>\n",
       "      <td>Swan</td>\n",
       "      <td>NaN</td>\n",
       "      <td>4645.000000</td>\n",
       "    </tr>\n",
       "    <tr>\n",
       "      <th>1187</th>\n",
       "      <td>Swan_unknown_Jan</td>\n",
       "      <td>Swan</td>\n",
       "      <td>NaN</td>\n",
       "      <td>14952.000000</td>\n",
       "    </tr>\n",
       "    <tr>\n",
       "      <th>1188</th>\n",
       "      <td>Swan_unknown_Andres</td>\n",
       "      <td>Swan</td>\n",
       "      <td>NaN</td>\n",
       "      <td>11538.700195</td>\n",
       "    </tr>\n",
       "    <tr>\n",
       "      <th>1189</th>\n",
       "      <td>Swan_unknown_Jerold</td>\n",
       "      <td>Swan</td>\n",
       "      <td>NaN</td>\n",
       "      <td>7746.600098</td>\n",
       "    </tr>\n",
       "    <tr>\n",
       "      <th>1190</th>\n",
       "      <td>Swan_unknown_Rocco</td>\n",
       "      <td>Swan</td>\n",
       "      <td>NaN</td>\n",
       "      <td>4779.200195</td>\n",
       "    </tr>\n",
       "    <tr>\n",
       "      <th>1191</th>\n",
       "      <td>Swan_unknown_Raquel</td>\n",
       "      <td>Swan</td>\n",
       "      <td>NaN</td>\n",
       "      <td>11381.500000</td>\n",
       "    </tr>\n",
       "    <tr>\n",
       "      <th>1192</th>\n",
       "      <td>Swan_unknown_Wendy</td>\n",
       "      <td>Swan</td>\n",
       "      <td>NaN</td>\n",
       "      <td>7149.100098</td>\n",
       "    </tr>\n",
       "    <tr>\n",
       "      <th>1193</th>\n",
       "      <td>Swan_unknown_Yoshiko</td>\n",
       "      <td>Swan</td>\n",
       "      <td>NaN</td>\n",
       "      <td>1465.400024</td>\n",
       "    </tr>\n",
       "    <tr>\n",
       "      <th>1194</th>\n",
       "      <td>Swan_unknown_Allison</td>\n",
       "      <td>Swan</td>\n",
       "      <td>NaN</td>\n",
       "      <td>1699.800049</td>\n",
       "    </tr>\n",
       "    <tr>\n",
       "      <th>1195</th>\n",
       "      <td>Swan_unknown_Valeria</td>\n",
       "      <td>Swan</td>\n",
       "      <td>NaN</td>\n",
       "      <td>1238.300049</td>\n",
       "    </tr>\n",
       "    <tr>\n",
       "      <th>1196</th>\n",
       "      <td>Swan_unknown_Rudy</td>\n",
       "      <td>Swan</td>\n",
       "      <td>NaN</td>\n",
       "      <td>6394.600098</td>\n",
       "    </tr>\n",
       "    <tr>\n",
       "      <th>1197</th>\n",
       "      <td>Swan_unknown_Fabian</td>\n",
       "      <td>Swan</td>\n",
       "      <td>NaN</td>\n",
       "      <td>4233.600098</td>\n",
       "    </tr>\n",
       "    <tr>\n",
       "      <th>1198</th>\n",
       "      <td>Swan_unknown_Noelia</td>\n",
       "      <td>Swan</td>\n",
       "      <td>NaN</td>\n",
       "      <td>943.900024</td>\n",
       "    </tr>\n",
       "    <tr>\n",
       "      <th>1199</th>\n",
       "      <td>Swan_unknown_Bette</td>\n",
       "      <td>Swan</td>\n",
       "      <td>NaN</td>\n",
       "      <td>5777.299805</td>\n",
       "    </tr>\n",
       "  </tbody>\n",
       "</table>\n",
       "</div>"
      ],
      "text/plain": [
       "                  building_id site_id primaryspaceusage           sqm\n",
       "1179       Swan_unknown_Reyna    Swan               NaN   6154.500000\n",
       "1180     Swan_unknown_Douglas    Swan               NaN   7736.200195\n",
       "1181      Swan_unknown_Darrin    Swan               NaN   6319.799805\n",
       "1182         Swan_unknown_Ike    Swan               NaN   6928.100098\n",
       "1183     Swan_unknown_Esteban    Swan               NaN   6976.399902\n",
       "1184  Swan_unknown_Christoper    Swan               NaN   8636.599609\n",
       "1185      Swan_unknown_Isaiah    Swan               NaN  14806.299805\n",
       "1186         Swan_unknown_Tom    Swan               NaN   4645.000000\n",
       "1187         Swan_unknown_Jan    Swan               NaN  14952.000000\n",
       "1188      Swan_unknown_Andres    Swan               NaN  11538.700195\n",
       "1189      Swan_unknown_Jerold    Swan               NaN   7746.600098\n",
       "1190       Swan_unknown_Rocco    Swan               NaN   4779.200195\n",
       "1191      Swan_unknown_Raquel    Swan               NaN  11381.500000\n",
       "1192       Swan_unknown_Wendy    Swan               NaN   7149.100098\n",
       "1193     Swan_unknown_Yoshiko    Swan               NaN   1465.400024\n",
       "1194     Swan_unknown_Allison    Swan               NaN   1699.800049\n",
       "1195     Swan_unknown_Valeria    Swan               NaN   1238.300049\n",
       "1196        Swan_unknown_Rudy    Swan               NaN   6394.600098\n",
       "1197      Swan_unknown_Fabian    Swan               NaN   4233.600098\n",
       "1198      Swan_unknown_Noelia    Swan               NaN    943.900024\n",
       "1199       Swan_unknown_Bette    Swan               NaN   5777.299805"
      ]
     },
     "execution_count": 8,
     "metadata": {},
     "output_type": "execute_result"
    }
   ],
   "source": [
    "metadata[metadata.primaryspaceusage.isna() == True]"
   ]
  },
  {
   "cell_type": "code",
   "execution_count": 9,
   "metadata": {},
   "outputs": [],
   "source": [
    "metadata.primaryspaceusage.fillna(\"Unknown\", inplace=True)"
   ]
  },
  {
   "cell_type": "code",
   "execution_count": 10,
   "metadata": {},
   "outputs": [
    {
     "data": {
      "text/plain": [
       "building_id          0.0\n",
       "site_id              0.0\n",
       "primaryspaceusage    0.0\n",
       "sqm                  0.0\n",
       "dtype: float64"
      ]
     },
     "execution_count": 10,
     "metadata": {},
     "output_type": "execute_result"
    }
   ],
   "source": [
    "# missing values\n",
    "metadata.isna().sum()*100/len(metadata)"
   ]
  },
  {
   "cell_type": "markdown",
   "metadata": {},
   "source": [
    "## Weather"
   ]
  },
  {
   "cell_type": "markdown",
   "metadata": {},
   "source": [
    "**Weather** \n",
    "* `timestamp`: date and time in the format YYYY-MM-DD hh:mm:ss. Local timezone. \n",
    "* `site_id`: animal-code-name for the site. * `airTemperature`: The temperature of the air in degrees Celsius (ºC). \n",
    "* `cloudCoverage`: Portion of the sky covered in clouds, in [oktas](https://en.wikipedia.org/wiki/Okta). \n",
    "* `dewTemperature`: The dew point (the temperature to which a given parcel of air must be cooled at constant pressure and water vapor content in order for saturation to occur) in degrees Celsius (ºC). \n",
    "* `precipDepth1HR`: The depth of liquid precipitation that is measured over a one hour accumulation period (mm). \n",
    "* `precipDepth6HR`: The depth of liquid precipitation that is measured over a six hour accumulation period (mm). \n",
    "* `seaLvlPressure`: The air pressure relative to Mean Sea Level (MSL) (mbar or hPa). \n",
    "* `windDirection`: The angle, measured in a clockwise direction, between true north and the direction from which the wind is blowing (degrees). \n",
    "* `windSpeed`: The rate of horizontal travel of air past a fixed point (m/s)."
   ]
  },
  {
   "cell_type": "code",
   "execution_count": 11,
   "metadata": {},
   "outputs": [
    {
     "name": "stdout",
     "output_type": "stream",
     "text": [
      "Mem. usage decreased to  5.68 Mb (25.0% reduction)\n",
      "<class 'pandas.core.frame.DataFrame'>\n",
      "RangeIndex: 331166 entries, 0 to 331165\n",
      "Data columns (total 3 columns):\n",
      " #   Column          Non-Null Count   Dtype  \n",
      "---  ------          --------------   -----  \n",
      " 0   timestamp       331166 non-null  object \n",
      " 1   site_id         331166 non-null  object \n",
      " 2   airTemperature  331038 non-null  float16\n",
      "dtypes: float16(1), object(2)\n",
      "memory usage: 5.7+ MB\n"
     ]
    }
   ],
   "source": [
    "# Weather data\n",
    "weather = pd.read_csv(path_weather + \"weather.csv\", usecols = [\"timestamp\",\n",
    "                                                                  \"site_id\",\n",
    "                                                                  \"airTemperature\"\n",
    "                                                                  ])\n",
    "weather = reduce_mem_usage(weather)\n",
    "weather.info()"
   ]
  },
  {
   "cell_type": "code",
   "execution_count": 12,
   "metadata": {},
   "outputs": [
    {
     "data": {
      "text/plain": [
       "timestamp         0.000000\n",
       "site_id           0.000000\n",
       "airTemperature    0.038651\n",
       "dtype: float64"
      ]
     },
     "execution_count": 12,
     "metadata": {},
     "output_type": "execute_result"
    }
   ],
   "source": [
    "weather.isna().sum()*100/len(weather)"
   ]
  },
  {
   "cell_type": "code",
   "execution_count": 14,
   "metadata": {},
   "outputs": [],
   "source": [
    "# Fill NaN with interpolation\n",
    "weather.airTemperature.interpolate(method=\"linear\",inplace=True)"
   ]
  },
  {
   "cell_type": "code",
   "execution_count": 15,
   "metadata": {},
   "outputs": [
    {
     "data": {
      "text/plain": [
       "timestamp         0.0\n",
       "site_id           0.0\n",
       "airTemperature    0.0\n",
       "dtype: float64"
      ]
     },
     "execution_count": 15,
     "metadata": {},
     "output_type": "execute_result"
    }
   ],
   "source": [
    "weather.isna().sum()*100/len(weather)"
   ]
  },
  {
   "cell_type": "markdown",
   "metadata": {},
   "source": [
    "## Meters"
   ]
  },
  {
   "cell_type": "markdown",
   "metadata": {},
   "source": [
    "### Join all cleaned datasets"
   ]
  },
  {
   "cell_type": "code",
   "execution_count": 16,
   "metadata": {},
   "outputs": [],
   "source": [
    "# files in directory\n",
    "files = glob(path_meter_cleaned + \"*.csv\")"
   ]
  },
  {
   "cell_type": "code",
   "execution_count": 17,
   "metadata": {},
   "outputs": [
    {
     "data": {
      "text/plain": [
       "['..\\\\data\\\\meters\\\\cleaned\\\\chilledwater_cleaned.csv',\n",
       " '..\\\\data\\\\meters\\\\cleaned\\\\electricity_cleaned.csv',\n",
       " '..\\\\data\\\\meters\\\\cleaned\\\\gas_cleaned.csv',\n",
       " '..\\\\data\\\\meters\\\\cleaned\\\\hotwater_cleaned.csv',\n",
       " '..\\\\data\\\\meters\\\\cleaned\\\\irrigation_cleaned.csv',\n",
       " '..\\\\data\\\\meters\\\\cleaned\\\\solar_cleaned.csv',\n",
       " '..\\\\data\\\\meters\\\\cleaned\\\\steam_cleaned.csv',\n",
       " '..\\\\data\\\\meters\\\\cleaned\\\\water_cleaned.csv']"
      ]
     },
     "execution_count": 17,
     "metadata": {},
     "output_type": "execute_result"
    }
   ],
   "source": [
    "files"
   ]
  },
  {
   "cell_type": "code",
   "execution_count": 18,
   "metadata": {},
   "outputs": [],
   "source": [
    "dfs = [] # empty list of the dataframes to create\n",
    "for file in files: # for each file in directory\n",
    "    meter_type = file.split(\"\\\\\")[4].split(\".\")[0].split(\"_\")[0]# meter_type to rename the value feature\n",
    "    meter = pd.read_csv(file) # load the dataset\n",
    "    meter = pd.melt(meter, id_vars = \"timestamp\", var_name = \"building_id\", value_name = \"meter_reading\") # melt dataset\n",
    "    meter[\"meter\"] = str(meter_type) # adds column with the meter type\n",
    "    dfs.append(meter) # append to list\n",
    "complete_data = pd.concat(dfs, axis=0, ignore_index=True) # concatenate all meter\n",
    "del(dfs, meter, file, files, meter_type)"
   ]
  },
  {
   "cell_type": "code",
   "execution_count": 19,
   "metadata": {},
   "outputs": [
    {
     "data": {
      "text/html": [
       "<div>\n",
       "<style scoped>\n",
       "    .dataframe tbody tr th:only-of-type {\n",
       "        vertical-align: middle;\n",
       "    }\n",
       "\n",
       "    .dataframe tbody tr th {\n",
       "        vertical-align: top;\n",
       "    }\n",
       "\n",
       "    .dataframe thead th {\n",
       "        text-align: right;\n",
       "    }\n",
       "</style>\n",
       "<table border=\"1\" class=\"dataframe\">\n",
       "  <thead>\n",
       "    <tr style=\"text-align: right;\">\n",
       "      <th></th>\n",
       "      <th>timestamp</th>\n",
       "      <th>building_id</th>\n",
       "      <th>meter_reading</th>\n",
       "      <th>meter</th>\n",
       "    </tr>\n",
       "  </thead>\n",
       "  <tbody>\n",
       "    <tr>\n",
       "      <th>0</th>\n",
       "      <td>2016-01-01 00:00:00</td>\n",
       "      <td>Panther_office_Clementine</td>\n",
       "      <td>NaN</td>\n",
       "      <td>chilledwater</td>\n",
       "    </tr>\n",
       "    <tr>\n",
       "      <th>1</th>\n",
       "      <td>2016-01-01 01:00:00</td>\n",
       "      <td>Panther_office_Clementine</td>\n",
       "      <td>NaN</td>\n",
       "      <td>chilledwater</td>\n",
       "    </tr>\n",
       "    <tr>\n",
       "      <th>2</th>\n",
       "      <td>2016-01-01 02:00:00</td>\n",
       "      <td>Panther_office_Clementine</td>\n",
       "      <td>NaN</td>\n",
       "      <td>chilledwater</td>\n",
       "    </tr>\n",
       "    <tr>\n",
       "      <th>3</th>\n",
       "      <td>2016-01-01 03:00:00</td>\n",
       "      <td>Panther_office_Clementine</td>\n",
       "      <td>NaN</td>\n",
       "      <td>chilledwater</td>\n",
       "    </tr>\n",
       "    <tr>\n",
       "      <th>4</th>\n",
       "      <td>2016-01-01 04:00:00</td>\n",
       "      <td>Panther_office_Clementine</td>\n",
       "      <td>NaN</td>\n",
       "      <td>chilledwater</td>\n",
       "    </tr>\n",
       "  </tbody>\n",
       "</table>\n",
       "</div>"
      ],
      "text/plain": [
       "             timestamp                building_id  meter_reading         meter\n",
       "0  2016-01-01 00:00:00  Panther_office_Clementine            NaN  chilledwater\n",
       "1  2016-01-01 01:00:00  Panther_office_Clementine            NaN  chilledwater\n",
       "2  2016-01-01 02:00:00  Panther_office_Clementine            NaN  chilledwater\n",
       "3  2016-01-01 03:00:00  Panther_office_Clementine            NaN  chilledwater\n",
       "4  2016-01-01 04:00:00  Panther_office_Clementine            NaN  chilledwater"
      ]
     },
     "execution_count": 19,
     "metadata": {},
     "output_type": "execute_result"
    }
   ],
   "source": [
    "complete_data.head()"
   ]
  },
  {
   "cell_type": "code",
   "execution_count": 20,
   "metadata": {},
   "outputs": [
    {
     "data": {
      "text/plain": [
       "electricity     27684432\n",
       "chilledwater     9736920\n",
       "steam            6491280\n",
       "hotwater         3245640\n",
       "gas              3105288\n",
       "water            2561424\n",
       "irrigation        649128\n",
       "solar              87720\n",
       "Name: meter, dtype: int64"
      ]
     },
     "execution_count": 20,
     "metadata": {},
     "output_type": "execute_result"
    }
   ],
   "source": [
    "# Check the meters\n",
    "complete_data[\"meter\"].value_counts()"
   ]
  },
  {
   "cell_type": "code",
   "execution_count": 10,
   "metadata": {},
   "outputs": [
    {
     "data": {
      "text/plain": [
       "1636"
      ]
     },
     "execution_count": 10,
     "metadata": {},
     "output_type": "execute_result"
    }
   ],
   "source": [
    "# Check number of buildings\n",
    "len(np.unique(complete_data[\"building_id\"]))"
   ]
  },
  {
   "cell_type": "code",
   "execution_count": 21,
   "metadata": {},
   "outputs": [],
   "source": [
    "# Export dataset\n",
    "complete_data.to_csv(path_meter_proc + \"allmeters_cleaned.csv\", index=False)"
   ]
  },
  {
   "cell_type": "markdown",
   "metadata": {},
   "source": [
    "**All meters dataset (meter reading)**\n",
    "*   `timestamp`: date and time in the format YYYY-MM-DD hh:mm:ss. 2016 and 2017 data.\n",
    "*   `building_id`: building code-name with the structure _UniqueFirstName_SiteID_primaryspaceusage_.\n",
    "*   `meter_reading`: meter reading in kilowatt hour (kWh) .\n",
    "*   `meter`: meter type, `chilledwater`, `electricity`, `gas`, `hotwater`, `irrigation`, `steam` or `water`."
   ]
  },
  {
   "cell_type": "code",
   "execution_count": 26,
   "metadata": {},
   "outputs": [
    {
     "name": "stdout",
     "output_type": "stream",
     "text": [
      "Mem. usage decreased to 1430.26 Mb (12.5% reduction)\n",
      "<class 'pandas.core.frame.DataFrame'>\n",
      "RangeIndex: 53561832 entries, 0 to 53561831\n",
      "Data columns (total 4 columns):\n",
      " #   Column         Dtype  \n",
      "---  ------         -----  \n",
      " 0   timestamp      object \n",
      " 1   building_id    object \n",
      " 2   meter_reading  float32\n",
      " 3   meter          object \n",
      "dtypes: float32(1), object(3)\n",
      "memory usage: 1.4+ GB\n"
     ]
    }
   ],
   "source": [
    "# Meters data\n",
    "data = pd.read_csv(path_meter_proc + \"allmeters_cleaned.csv\")\n",
    "data = reduce_mem_usage(data)\n",
    "data.info()"
   ]
  },
  {
   "cell_type": "code",
   "execution_count": 27,
   "metadata": {},
   "outputs": [
    {
     "data": {
      "text/plain": [
       "timestamp         0.000000\n",
       "building_id       0.000000\n",
       "meter_reading    15.695718\n",
       "meter             0.000000\n",
       "dtype: float64"
      ]
     },
     "execution_count": 27,
     "metadata": {},
     "output_type": "execute_result"
    }
   ],
   "source": [
    "# missing data\n",
    "data.isna().sum()*100/len(data)"
   ]
  },
  {
   "cell_type": "code",
   "execution_count": 28,
   "metadata": {},
   "outputs": [
    {
     "data": {
      "text/plain": [
       "1636"
      ]
     },
     "execution_count": 28,
     "metadata": {},
     "output_type": "execute_result"
    }
   ],
   "source": [
    "# number of buildings in dataset\n",
    "len(data.building_id.unique())"
   ]
  },
  {
   "cell_type": "code",
   "execution_count": 29,
   "metadata": {},
   "outputs": [],
   "source": [
    "# Drop missings\n",
    "data.dropna(inplace=True)"
   ]
  },
  {
   "cell_type": "code",
   "execution_count": 30,
   "metadata": {},
   "outputs": [
    {
     "data": {
      "text/plain": [
       "timestamp        0.0\n",
       "building_id      0.0\n",
       "meter_reading    0.0\n",
       "meter            0.0\n",
       "dtype: float64"
      ]
     },
     "execution_count": 30,
     "metadata": {},
     "output_type": "execute_result"
    }
   ],
   "source": [
    "# missing data\n",
    "data.isna().sum()*100/len(data)"
   ]
  },
  {
   "cell_type": "code",
   "execution_count": 31,
   "metadata": {},
   "outputs": [
    {
     "data": {
      "text/plain": [
       "1631"
      ]
     },
     "execution_count": 31,
     "metadata": {},
     "output_type": "execute_result"
    }
   ],
   "source": [
    "# number of buildings in dataset after dropping Nan\n",
    "len(data.building_id.unique())"
   ]
  },
  {
   "cell_type": "markdown",
   "metadata": {},
   "source": [
    "# Feature engineering based on EDA"
   ]
  },
  {
   "cell_type": "markdown",
   "metadata": {},
   "source": [
    "Based on [EDA of meter readings](https://github.com/buds-lab/building-data-genome-project-2/blob/master/notebooks/03_EDA-meter-reading.ipynb):\n",
    "\n",
    "*   _Healthcare_, _Food sales and services_ and _Utility_ usages shows the highest meter reading values.\n",
    "*   _Hotwater_ meter shows the highest meter reading values.\n",
    "*   Monthly behaviour (meter-reading median) shows higher readings in warm season.\n",
    "*   Hourly behaviour (meter-reading median) shows gihger values from 6 to 19 hs.\n",
    "*   Weekday behaviour: lowers during weekends.\n",
    "\n",
    "Based on this observations _month_, _day of the week_ and _hour of the day_ will be added. `primaryspaceusage` categories (16) will be reduced to _healthcare, food, utility_ and _other_. `meter` categories (8) will be preserved. Final features will be:\n",
    "\n",
    "*   Timestamp*\n",
    "*   Site ID\n",
    "*   Building ID\n",
    "*   Month\n",
    "*   Hour\n",
    "*   Day of the week\n",
    "*   Usage (dummy, 4 levels: _healthcare, food, utility, other_)\n",
    "*   Building size (sqft)\n",
    "*   Air temperature\n",
    "*   Meter (dummy, 8 levels)\n",
    "*   Meter reading / target"
   ]
  },
  {
   "cell_type": "code",
   "execution_count": 33,
   "metadata": {},
   "outputs": [],
   "source": [
    "# Reduce primary space usage categories to 3: Healthcare, Utilty, other\n",
    "metadata.loc[(metadata[\"primaryspaceusage\"] != \"Healthcare\") & (metadata[\"primaryspaceusage\"] != \"Utility\") & (metadata[\"primaryspaceusage\"] != \"Food sales and service\"), \"primaryspaceusage\"] = \"other\""
   ]
  },
  {
   "cell_type": "code",
   "execution_count": 34,
   "metadata": {},
   "outputs": [
    {
     "data": {
      "text/plain": [
       "array(['other', 'Food sales and service', 'Healthcare', 'Utility'],\n",
       "      dtype=object)"
      ]
     },
     "execution_count": 34,
     "metadata": {},
     "output_type": "execute_result"
    }
   ],
   "source": [
    "# Check new categories\n",
    "metadata.primaryspaceusage.unique()"
   ]
  },
  {
   "cell_type": "code",
   "execution_count": 35,
   "metadata": {},
   "outputs": [],
   "source": [
    "# Converts to timestamp\n",
    "data[\"timestamp\"] = pd.to_datetime(data[\"timestamp\"], format='%Y-%m-%d %H:%M:%S')\n",
    "weather[\"timestamp\"] = pd.to_datetime(weather[\"timestamp\"], format='%Y-%m-%d %H:%M:%S')"
   ]
  },
  {
   "cell_type": "code",
   "execution_count": 36,
   "metadata": {},
   "outputs": [],
   "source": [
    "# Add features\n",
    "data[\"month\"] = data.timestamp.dt.month\n",
    "data[\"weekday\"] = data.timestamp.dt.weekday\n",
    "data[\"hour\"] = data.timestamp.dt.hour"
   ]
  },
  {
   "cell_type": "code",
   "execution_count": 37,
   "metadata": {},
   "outputs": [],
   "source": [
    "# Merge datasets\n",
    "data = pd.merge(data, metadata, how=\"left\", on=\"building_id\").merge(weather, how=\"left\", on = [\"timestamp\", \"site_id\"])"
   ]
  },
  {
   "cell_type": "code",
   "execution_count": 38,
   "metadata": {},
   "outputs": [
    {
     "data": {
      "text/html": [
       "<div>\n",
       "<style scoped>\n",
       "    .dataframe tbody tr th:only-of-type {\n",
       "        vertical-align: middle;\n",
       "    }\n",
       "\n",
       "    .dataframe tbody tr th {\n",
       "        vertical-align: top;\n",
       "    }\n",
       "\n",
       "    .dataframe thead th {\n",
       "        text-align: right;\n",
       "    }\n",
       "</style>\n",
       "<table border=\"1\" class=\"dataframe\">\n",
       "  <thead>\n",
       "    <tr style=\"text-align: right;\">\n",
       "      <th></th>\n",
       "      <th>timestamp</th>\n",
       "      <th>building_id</th>\n",
       "      <th>meter_reading</th>\n",
       "      <th>meter</th>\n",
       "      <th>month</th>\n",
       "      <th>weekday</th>\n",
       "      <th>hour</th>\n",
       "      <th>site_id</th>\n",
       "      <th>primaryspaceusage</th>\n",
       "      <th>sqm</th>\n",
       "      <th>airTemperature</th>\n",
       "    </tr>\n",
       "  </thead>\n",
       "  <tbody>\n",
       "    <tr>\n",
       "      <th>0</th>\n",
       "      <td>2016-02-29 09:00:00</td>\n",
       "      <td>Panther_office_Clementine</td>\n",
       "      <td>136.076904</td>\n",
       "      <td>chilledwater</td>\n",
       "      <td>2</td>\n",
       "      <td>0</td>\n",
       "      <td>9</td>\n",
       "      <td>Panther</td>\n",
       "      <td>other</td>\n",
       "      <td>3100.199951</td>\n",
       "      <td>16.703125</td>\n",
       "    </tr>\n",
       "    <tr>\n",
       "      <th>1</th>\n",
       "      <td>2016-02-29 10:00:00</td>\n",
       "      <td>Panther_office_Clementine</td>\n",
       "      <td>222.671402</td>\n",
       "      <td>chilledwater</td>\n",
       "      <td>2</td>\n",
       "      <td>0</td>\n",
       "      <td>10</td>\n",
       "      <td>Panther</td>\n",
       "      <td>other</td>\n",
       "      <td>3100.199951</td>\n",
       "      <td>21.093750</td>\n",
       "    </tr>\n",
       "    <tr>\n",
       "      <th>2</th>\n",
       "      <td>2016-02-29 11:00:00</td>\n",
       "      <td>Panther_office_Clementine</td>\n",
       "      <td>235.042007</td>\n",
       "      <td>chilledwater</td>\n",
       "      <td>2</td>\n",
       "      <td>0</td>\n",
       "      <td>11</td>\n",
       "      <td>Panther</td>\n",
       "      <td>other</td>\n",
       "      <td>3100.199951</td>\n",
       "      <td>21.703125</td>\n",
       "    </tr>\n",
       "    <tr>\n",
       "      <th>3</th>\n",
       "      <td>2016-02-29 12:00:00</td>\n",
       "      <td>Panther_office_Clementine</td>\n",
       "      <td>247.412598</td>\n",
       "      <td>chilledwater</td>\n",
       "      <td>2</td>\n",
       "      <td>0</td>\n",
       "      <td>12</td>\n",
       "      <td>Panther</td>\n",
       "      <td>other</td>\n",
       "      <td>3100.199951</td>\n",
       "      <td>22.203125</td>\n",
       "    </tr>\n",
       "    <tr>\n",
       "      <th>4</th>\n",
       "      <td>2016-02-29 13:00:00</td>\n",
       "      <td>Panther_office_Clementine</td>\n",
       "      <td>272.153900</td>\n",
       "      <td>chilledwater</td>\n",
       "      <td>2</td>\n",
       "      <td>0</td>\n",
       "      <td>13</td>\n",
       "      <td>Panther</td>\n",
       "      <td>other</td>\n",
       "      <td>3100.199951</td>\n",
       "      <td>23.906250</td>\n",
       "    </tr>\n",
       "  </tbody>\n",
       "</table>\n",
       "</div>"
      ],
      "text/plain": [
       "            timestamp                building_id  meter_reading         meter  \\\n",
       "0 2016-02-29 09:00:00  Panther_office_Clementine     136.076904  chilledwater   \n",
       "1 2016-02-29 10:00:00  Panther_office_Clementine     222.671402  chilledwater   \n",
       "2 2016-02-29 11:00:00  Panther_office_Clementine     235.042007  chilledwater   \n",
       "3 2016-02-29 12:00:00  Panther_office_Clementine     247.412598  chilledwater   \n",
       "4 2016-02-29 13:00:00  Panther_office_Clementine     272.153900  chilledwater   \n",
       "\n",
       "   month  weekday  hour  site_id primaryspaceusage          sqm  \\\n",
       "0      2        0     9  Panther             other  3100.199951   \n",
       "1      2        0    10  Panther             other  3100.199951   \n",
       "2      2        0    11  Panther             other  3100.199951   \n",
       "3      2        0    12  Panther             other  3100.199951   \n",
       "4      2        0    13  Panther             other  3100.199951   \n",
       "\n",
       "   airTemperature  \n",
       "0       16.703125  \n",
       "1       21.093750  \n",
       "2       21.703125  \n",
       "3       22.203125  \n",
       "4       23.906250  "
      ]
     },
     "execution_count": 38,
     "metadata": {},
     "output_type": "execute_result"
    }
   ],
   "source": [
    "data.head()"
   ]
  },
  {
   "cell_type": "code",
   "execution_count": 39,
   "metadata": {},
   "outputs": [],
   "source": [
    "del(weather, metadata)"
   ]
  },
  {
   "cell_type": "code",
   "execution_count": 40,
   "metadata": {},
   "outputs": [
    {
     "data": {
      "text/plain": [
       "timestamp            0.000000\n",
       "building_id          0.000000\n",
       "meter_reading        0.000000\n",
       "meter                0.000000\n",
       "month                0.000000\n",
       "weekday              0.000000\n",
       "hour                 0.000000\n",
       "site_id              0.000000\n",
       "primaryspaceusage    0.000000\n",
       "sqm                  0.000000\n",
       "airTemperature       0.407504\n",
       "dtype: float64"
      ]
     },
     "execution_count": 40,
     "metadata": {},
     "output_type": "execute_result"
    }
   ],
   "source": [
    "# Missing values\n",
    "data.isna().sum()*100/len(data)"
   ]
  },
  {
   "cell_type": "code",
   "execution_count": 41,
   "metadata": {},
   "outputs": [],
   "source": [
    "data.airTemperature.interpolate(method=\"linear\", inplace=True)"
   ]
  },
  {
   "cell_type": "code",
   "execution_count": 42,
   "metadata": {},
   "outputs": [
    {
     "data": {
      "text/plain": [
       "timestamp            0.0\n",
       "building_id          0.0\n",
       "meter_reading        0.0\n",
       "meter                0.0\n",
       "month                0.0\n",
       "weekday              0.0\n",
       "hour                 0.0\n",
       "site_id              0.0\n",
       "primaryspaceusage    0.0\n",
       "sqm                  0.0\n",
       "airTemperature       0.0\n",
       "dtype: float64"
      ]
     },
     "execution_count": 42,
     "metadata": {},
     "output_type": "execute_result"
    }
   ],
   "source": [
    "data.isna().sum()*100/len(data)"
   ]
  },
  {
   "cell_type": "code",
   "execution_count": 43,
   "metadata": {},
   "outputs": [],
   "source": [
    "# Rounds to 4 decimals\n",
    "data[\"meter_reading\"] = data['meter_reading'].astype(float).round(4)\n",
    "data[\"airTemperature\"] = data['airTemperature'].astype(float).round(2)"
   ]
  },
  {
   "cell_type": "code",
   "execution_count": 44,
   "metadata": {},
   "outputs": [
    {
     "data": {
      "text/html": [
       "<div>\n",
       "<style scoped>\n",
       "    .dataframe tbody tr th:only-of-type {\n",
       "        vertical-align: middle;\n",
       "    }\n",
       "\n",
       "    .dataframe tbody tr th {\n",
       "        vertical-align: top;\n",
       "    }\n",
       "\n",
       "    .dataframe thead th {\n",
       "        text-align: right;\n",
       "    }\n",
       "</style>\n",
       "<table border=\"1\" class=\"dataframe\">\n",
       "  <thead>\n",
       "    <tr style=\"text-align: right;\">\n",
       "      <th></th>\n",
       "      <th>timestamp</th>\n",
       "      <th>building_id</th>\n",
       "      <th>meter_reading</th>\n",
       "      <th>meter</th>\n",
       "      <th>month</th>\n",
       "      <th>weekday</th>\n",
       "      <th>hour</th>\n",
       "      <th>site_id</th>\n",
       "      <th>primaryspaceusage</th>\n",
       "      <th>sqm</th>\n",
       "      <th>airTemperature</th>\n",
       "    </tr>\n",
       "  </thead>\n",
       "  <tbody>\n",
       "    <tr>\n",
       "      <th>0</th>\n",
       "      <td>2016-02-29 09:00:00</td>\n",
       "      <td>Panther_office_Clementine</td>\n",
       "      <td>136.0769</td>\n",
       "      <td>chilledwater</td>\n",
       "      <td>2</td>\n",
       "      <td>0</td>\n",
       "      <td>9</td>\n",
       "      <td>Panther</td>\n",
       "      <td>other</td>\n",
       "      <td>3100.199951</td>\n",
       "      <td>16.70</td>\n",
       "    </tr>\n",
       "    <tr>\n",
       "      <th>1</th>\n",
       "      <td>2016-02-29 10:00:00</td>\n",
       "      <td>Panther_office_Clementine</td>\n",
       "      <td>222.6714</td>\n",
       "      <td>chilledwater</td>\n",
       "      <td>2</td>\n",
       "      <td>0</td>\n",
       "      <td>10</td>\n",
       "      <td>Panther</td>\n",
       "      <td>other</td>\n",
       "      <td>3100.199951</td>\n",
       "      <td>21.09</td>\n",
       "    </tr>\n",
       "    <tr>\n",
       "      <th>2</th>\n",
       "      <td>2016-02-29 11:00:00</td>\n",
       "      <td>Panther_office_Clementine</td>\n",
       "      <td>235.0420</td>\n",
       "      <td>chilledwater</td>\n",
       "      <td>2</td>\n",
       "      <td>0</td>\n",
       "      <td>11</td>\n",
       "      <td>Panther</td>\n",
       "      <td>other</td>\n",
       "      <td>3100.199951</td>\n",
       "      <td>21.70</td>\n",
       "    </tr>\n",
       "    <tr>\n",
       "      <th>3</th>\n",
       "      <td>2016-02-29 12:00:00</td>\n",
       "      <td>Panther_office_Clementine</td>\n",
       "      <td>247.4126</td>\n",
       "      <td>chilledwater</td>\n",
       "      <td>2</td>\n",
       "      <td>0</td>\n",
       "      <td>12</td>\n",
       "      <td>Panther</td>\n",
       "      <td>other</td>\n",
       "      <td>3100.199951</td>\n",
       "      <td>22.20</td>\n",
       "    </tr>\n",
       "    <tr>\n",
       "      <th>4</th>\n",
       "      <td>2016-02-29 13:00:00</td>\n",
       "      <td>Panther_office_Clementine</td>\n",
       "      <td>272.1539</td>\n",
       "      <td>chilledwater</td>\n",
       "      <td>2</td>\n",
       "      <td>0</td>\n",
       "      <td>13</td>\n",
       "      <td>Panther</td>\n",
       "      <td>other</td>\n",
       "      <td>3100.199951</td>\n",
       "      <td>23.91</td>\n",
       "    </tr>\n",
       "  </tbody>\n",
       "</table>\n",
       "</div>"
      ],
      "text/plain": [
       "            timestamp                building_id  meter_reading         meter  \\\n",
       "0 2016-02-29 09:00:00  Panther_office_Clementine       136.0769  chilledwater   \n",
       "1 2016-02-29 10:00:00  Panther_office_Clementine       222.6714  chilledwater   \n",
       "2 2016-02-29 11:00:00  Panther_office_Clementine       235.0420  chilledwater   \n",
       "3 2016-02-29 12:00:00  Panther_office_Clementine       247.4126  chilledwater   \n",
       "4 2016-02-29 13:00:00  Panther_office_Clementine       272.1539  chilledwater   \n",
       "\n",
       "   month  weekday  hour  site_id primaryspaceusage          sqm  \\\n",
       "0      2        0     9  Panther             other  3100.199951   \n",
       "1      2        0    10  Panther             other  3100.199951   \n",
       "2      2        0    11  Panther             other  3100.199951   \n",
       "3      2        0    12  Panther             other  3100.199951   \n",
       "4      2        0    13  Panther             other  3100.199951   \n",
       "\n",
       "   airTemperature  \n",
       "0           16.70  \n",
       "1           21.09  \n",
       "2           21.70  \n",
       "3           22.20  \n",
       "4           23.91  "
      ]
     },
     "execution_count": 44,
     "metadata": {},
     "output_type": "execute_result"
    }
   ],
   "source": [
    "data.head()"
   ]
  },
  {
   "cell_type": "code",
   "execution_count": 45,
   "metadata": {},
   "outputs": [],
   "source": [
    "data.to_csv(path_meter_proc + \"dev_merged.csv\", index=False)"
   ]
  },
  {
   "cell_type": "markdown",
   "metadata": {},
   "source": [
    "# Predictive models"
   ]
  },
  {
   "cell_type": "markdown",
   "metadata": {},
   "source": [
    "## Long-term prediction: whole year 2017 prediction"
   ]
  },
  {
   "cell_type": "markdown",
   "metadata": {},
   "source": [
    "**Train:** whole year 2016 (01/2016 to 12/2016)<br>\n",
    "**Validation:** whole year 2017 (01/2017 to 12/2017)"
   ]
  },
  {
   "cell_type": "markdown",
   "metadata": {},
   "source": [
    "<img src=\"..\\\\figures\\\\split_longterm.png\">"
   ]
  },
  {
   "cell_type": "code",
   "execution_count": 5,
   "metadata": {},
   "outputs": [
    {
     "name": "stdout",
     "output_type": "stream",
     "text": [
      "Mem. usage decreased to 2282.59 Mb (39.8% reduction)\n"
     ]
    }
   ],
   "source": [
    "# Load dataset\n",
    "data = pd.read_csv(path_meter_proc + \"dev_merged.csv\")\n",
    "# Reduce memory\n",
    "data = reduce_mem_usage(data)"
   ]
  },
  {
   "cell_type": "code",
   "execution_count": 6,
   "metadata": {},
   "outputs": [],
   "source": [
    "# Rounds to 4 decimals\n",
    "data[\"meter_reading\"] = data['meter_reading'].astype(float).round(4)\n",
    "data[\"airTemperature\"] = data['airTemperature'].astype(float).round(2)\n",
    "data[\"sqm\"] = data['sqm'].astype(float).round(2)"
   ]
  },
  {
   "cell_type": "code",
   "execution_count": 7,
   "metadata": {},
   "outputs": [
    {
     "name": "stdout",
     "output_type": "stream",
     "text": [
      "<class 'pandas.core.frame.DataFrame'>\n",
      "RangeIndex: 45159855 entries, 0 to 45159854\n",
      "Data columns (total 11 columns):\n",
      " #   Column             Dtype  \n",
      "---  ------             -----  \n",
      " 0   timestamp          object \n",
      " 1   building_id        object \n",
      " 2   meter_reading      float64\n",
      " 3   meter              object \n",
      " 4   month              int8   \n",
      " 5   weekday            int8   \n",
      " 6   hour               int8   \n",
      " 7   site_id            object \n",
      " 8   primaryspaceusage  object \n",
      " 9   sqm                float64\n",
      " 10  airTemperature     float64\n",
      "dtypes: float64(3), int8(3), object(5)\n",
      "memory usage: 2.8+ GB\n"
     ]
    }
   ],
   "source": [
    "data.info()"
   ]
  },
  {
   "cell_type": "code",
   "execution_count": 8,
   "metadata": {},
   "outputs": [
    {
     "data": {
      "text/html": [
       "<div>\n",
       "<style scoped>\n",
       "    .dataframe tbody tr th:only-of-type {\n",
       "        vertical-align: middle;\n",
       "    }\n",
       "\n",
       "    .dataframe tbody tr th {\n",
       "        vertical-align: top;\n",
       "    }\n",
       "\n",
       "    .dataframe thead th {\n",
       "        text-align: right;\n",
       "    }\n",
       "</style>\n",
       "<table border=\"1\" class=\"dataframe\">\n",
       "  <thead>\n",
       "    <tr style=\"text-align: right;\">\n",
       "      <th></th>\n",
       "      <th>timestamp</th>\n",
       "      <th>building_id</th>\n",
       "      <th>meter_reading</th>\n",
       "      <th>meter</th>\n",
       "      <th>month</th>\n",
       "      <th>weekday</th>\n",
       "      <th>hour</th>\n",
       "      <th>site_id</th>\n",
       "      <th>primaryspaceusage</th>\n",
       "      <th>sqm</th>\n",
       "      <th>airTemperature</th>\n",
       "    </tr>\n",
       "  </thead>\n",
       "  <tbody>\n",
       "    <tr>\n",
       "      <th>0</th>\n",
       "      <td>2016-02-29 09:00:00</td>\n",
       "      <td>Panther_office_Clementine</td>\n",
       "      <td>136.0769</td>\n",
       "      <td>chilledwater</td>\n",
       "      <td>2</td>\n",
       "      <td>0</td>\n",
       "      <td>9</td>\n",
       "      <td>Panther</td>\n",
       "      <td>other</td>\n",
       "      <td>3100.2</td>\n",
       "      <td>16.70</td>\n",
       "    </tr>\n",
       "    <tr>\n",
       "      <th>1</th>\n",
       "      <td>2016-02-29 10:00:00</td>\n",
       "      <td>Panther_office_Clementine</td>\n",
       "      <td>222.6714</td>\n",
       "      <td>chilledwater</td>\n",
       "      <td>2</td>\n",
       "      <td>0</td>\n",
       "      <td>10</td>\n",
       "      <td>Panther</td>\n",
       "      <td>other</td>\n",
       "      <td>3100.2</td>\n",
       "      <td>21.09</td>\n",
       "    </tr>\n",
       "    <tr>\n",
       "      <th>2</th>\n",
       "      <td>2016-02-29 11:00:00</td>\n",
       "      <td>Panther_office_Clementine</td>\n",
       "      <td>235.0420</td>\n",
       "      <td>chilledwater</td>\n",
       "      <td>2</td>\n",
       "      <td>0</td>\n",
       "      <td>11</td>\n",
       "      <td>Panther</td>\n",
       "      <td>other</td>\n",
       "      <td>3100.2</td>\n",
       "      <td>21.70</td>\n",
       "    </tr>\n",
       "    <tr>\n",
       "      <th>3</th>\n",
       "      <td>2016-02-29 12:00:00</td>\n",
       "      <td>Panther_office_Clementine</td>\n",
       "      <td>247.4126</td>\n",
       "      <td>chilledwater</td>\n",
       "      <td>2</td>\n",
       "      <td>0</td>\n",
       "      <td>12</td>\n",
       "      <td>Panther</td>\n",
       "      <td>other</td>\n",
       "      <td>3100.2</td>\n",
       "      <td>22.20</td>\n",
       "    </tr>\n",
       "    <tr>\n",
       "      <th>4</th>\n",
       "      <td>2016-02-29 13:00:00</td>\n",
       "      <td>Panther_office_Clementine</td>\n",
       "      <td>272.1539</td>\n",
       "      <td>chilledwater</td>\n",
       "      <td>2</td>\n",
       "      <td>0</td>\n",
       "      <td>13</td>\n",
       "      <td>Panther</td>\n",
       "      <td>other</td>\n",
       "      <td>3100.2</td>\n",
       "      <td>23.91</td>\n",
       "    </tr>\n",
       "  </tbody>\n",
       "</table>\n",
       "</div>"
      ],
      "text/plain": [
       "             timestamp                building_id  meter_reading  \\\n",
       "0  2016-02-29 09:00:00  Panther_office_Clementine       136.0769   \n",
       "1  2016-02-29 10:00:00  Panther_office_Clementine       222.6714   \n",
       "2  2016-02-29 11:00:00  Panther_office_Clementine       235.0420   \n",
       "3  2016-02-29 12:00:00  Panther_office_Clementine       247.4126   \n",
       "4  2016-02-29 13:00:00  Panther_office_Clementine       272.1539   \n",
       "\n",
       "          meter  month  weekday  hour  site_id primaryspaceusage     sqm  \\\n",
       "0  chilledwater      2        0     9  Panther             other  3100.2   \n",
       "1  chilledwater      2        0    10  Panther             other  3100.2   \n",
       "2  chilledwater      2        0    11  Panther             other  3100.2   \n",
       "3  chilledwater      2        0    12  Panther             other  3100.2   \n",
       "4  chilledwater      2        0    13  Panther             other  3100.2   \n",
       "\n",
       "   airTemperature  \n",
       "0           16.70  \n",
       "1           21.09  \n",
       "2           21.70  \n",
       "3           22.20  \n",
       "4           23.91  "
      ]
     },
     "execution_count": 8,
     "metadata": {},
     "output_type": "execute_result"
    }
   ],
   "source": [
    "data.head()"
   ]
  },
  {
   "cell_type": "code",
   "execution_count": 9,
   "metadata": {},
   "outputs": [],
   "source": [
    "# Converts to timestamp\n",
    "data[\"timestamp\"] = pd.to_datetime(data[\"timestamp\"], format='%Y-%m-%d %H:%M:%S')"
   ]
  },
  {
   "cell_type": "code",
   "execution_count": 10,
   "metadata": {},
   "outputs": [],
   "source": [
    "# Strategy split\n",
    "train = data[data[\"timestamp\"] < \"2017-01-01 00:00:00\"]\n",
    "val = data[data[\"timestamp\"] >= \"2017-01-01 00:00:00\"]\n",
    "del(data)"
   ]
  },
  {
   "cell_type": "markdown",
   "metadata": {},
   "source": [
    "Let's check we have the same buildings in both datasets:"
   ]
  },
  {
   "cell_type": "code",
   "execution_count": 11,
   "metadata": {},
   "outputs": [
    {
     "name": "stdout",
     "output_type": "stream",
     "text": [
      "Buildings in train: 1596\n",
      "Buildings in val: 1608\n",
      "Buildings in val AND train: 1573\n"
     ]
    }
   ],
   "source": [
    "# List of unique buildings in each dataset\n",
    "train_bdg = pd.DataFrame(train.building_id.unique()).rename(columns={0:\"train\"})\n",
    "val_bdg = pd.DataFrame(val.building_id.unique()).rename(columns={0:\"val\"})\n",
    "# Number of unique buildings in each dataset\n",
    "print(\"Buildings in train: \" + str(len(train_bdg)))\n",
    "print(\"Buildings in val: \" + str(len(val_bdg)))\n",
    "# list of shared buildings in both datasets\n",
    "shared_bdg = list(pd.merge(train_bdg, val_bdg, how=\"inner\", left_on=\"train\",right_on=\"val\").drop(\"val\",axis=1).rename(columns={\"train\":\"unique_bdg\"}).unique_bdg)\n",
    "print(\"Buildings in val AND train: \" + str(len(shared_bdg)))\n",
    "del(train_bdg, val_bdg)"
   ]
  },
  {
   "cell_type": "markdown",
   "metadata": {},
   "source": [
    "Let's select the shared buildings for the model:"
   ]
  },
  {
   "cell_type": "code",
   "execution_count": 12,
   "metadata": {},
   "outputs": [],
   "source": [
    "train = train[train.building_id.isin(shared_bdg) == True]\n",
    "val = val[val.building_id.isin(shared_bdg) == True]"
   ]
  },
  {
   "cell_type": "code",
   "execution_count": 13,
   "metadata": {},
   "outputs": [
    {
     "name": "stdout",
     "output_type": "stream",
     "text": [
      "Buildings in train: 1573\n",
      "Buildings in val: 1573\n",
      "Buildings in val AND train: 1573\n"
     ]
    }
   ],
   "source": [
    "# List of unique buildings in each dataset\n",
    "train_bdg = pd.DataFrame(train.building_id.unique()).rename(columns={0:\"train\"})\n",
    "val_bdg = pd.DataFrame(val.building_id.unique()).rename(columns={0:\"val\"})\n",
    "# Number of unique buildings in each dataset\n",
    "print(\"Buildings in train: \" + str(len(train_bdg)))\n",
    "print(\"Buildings in val: \" + str(len(val_bdg)))\n",
    "# list of shared buildings in both datasets\n",
    "shared_bdg = list(pd.merge(train_bdg, val_bdg, how=\"inner\", left_on=\"train\",right_on=\"val\").drop(\"val\",axis=1).rename(columns={\"train\":\"unique_bdg\"}).unique_bdg)\n",
    "print(\"Buildings in val AND train: \" + str(len(shared_bdg)))\n",
    "del(train_bdg, val_bdg, shared_bdg)"
   ]
  },
  {
   "cell_type": "markdown",
   "metadata": {},
   "source": [
    "### Real values"
   ]
  },
  {
   "cell_type": "code",
   "execution_count": 17,
   "metadata": {},
   "outputs": [],
   "source": [
    "val_real = val[[\"timestamp\",\"building_id\",\"meter\",\"meter_reading\"]]\n",
    "val_real.to_csv(\"..\\\\data\\\\predictions\\\\longterm_real.csv\", index=False)"
   ]
  },
  {
   "cell_type": "code",
   "execution_count": 18,
   "metadata": {},
   "outputs": [],
   "source": [
    "values, counts = np.unique(val_real.meter_reading, return_counts=True)"
   ]
  },
  {
   "cell_type": "code",
   "execution_count": 19,
   "metadata": {},
   "outputs": [
    {
     "name": "stdout",
     "output_type": "stream",
     "text": [
      "[0.0000000e+00 1.0000000e-04 2.0000000e-04 ... 1.1338267e+07 1.1361868e+07\n",
      " 1.1652669e+07]\n",
      "[1172059   60043   66981 ...       1       1       1]\n"
     ]
    }
   ],
   "source": [
    "print(values)\n",
    "print(counts)"
   ]
  },
  {
   "cell_type": "code",
   "execution_count": 20,
   "metadata": {},
   "outputs": [
    {
     "name": "stdout",
     "output_type": "stream",
     "text": [
      "Unique values: 3294346\n",
      "Min value: 0.0\n",
      "Max value: 11652669.0\n"
     ]
    }
   ],
   "source": [
    "print(\"Unique values: \" + str(len(values)))\n",
    "print(\"Min value: \" + str(min(values)))\n",
    "print(\"Max value: \" + str(max(values)))"
   ]
  },
  {
   "cell_type": "code",
   "execution_count": 21,
   "metadata": {},
   "outputs": [],
   "source": [
    "del(val_real, values, counts)"
   ]
  },
  {
   "cell_type": "markdown",
   "metadata": {},
   "source": [
    "### Encoding and Data/Target split"
   ]
  },
  {
   "cell_type": "code",
   "execution_count": 14,
   "metadata": {},
   "outputs": [],
   "source": [
    "train = train.drop(\"timestamp\",axis=1)\n",
    "val = val.drop(\"timestamp\",axis=1)"
   ]
  },
  {
   "cell_type": "code",
   "execution_count": 15,
   "metadata": {},
   "outputs": [
    {
     "data": {
      "text/plain": [
       "'train = train.set_index([\"timestamp\",\"building_id\"])\\nval = val.set_index([\"timestamp\",\"building_id\"])'"
      ]
     },
     "execution_count": 15,
     "metadata": {},
     "output_type": "execute_result"
    }
   ],
   "source": [
    "\"\"\"train = train.set_index([\"timestamp\",\"building_id\"])\n",
    "val = val.set_index([\"timestamp\",\"building_id\"])\"\"\""
   ]
  },
  {
   "cell_type": "markdown",
   "metadata": {},
   "source": [
    "For LightGBM use only a label encoding (this algorith can handle categorical features by itself):"
   ]
  },
  {
   "cell_type": "code",
   "execution_count": 16,
   "metadata": {},
   "outputs": [],
   "source": [
    "# Label Encoder\n",
    "le_meter = LabelEncoder().fit(train.meter)\n",
    "train[\"meter\"] = le_meter.transform(train.meter)\n",
    "val[\"meter\"] = le_meter.transform(val.meter)"
   ]
  },
  {
   "cell_type": "code",
   "execution_count": 17,
   "metadata": {},
   "outputs": [],
   "source": [
    "# Label Encoder\n",
    "le_usage = LabelEncoder().fit(train.primaryspaceusage)\n",
    "train[\"primaryspaceusage\"] = le_usage.transform(train.primaryspaceusage)\n",
    "val[\"primaryspaceusage\"] = le_usage.transform(val.primaryspaceusage)"
   ]
  },
  {
   "cell_type": "code",
   "execution_count": 18,
   "metadata": {},
   "outputs": [],
   "source": [
    "# Label Encoder\n",
    "le_usage = LabelEncoder().fit(train.building_id)\n",
    "train[\"building_id\"] = le_usage.transform(train.building_id)\n",
    "val[\"building_id\"] = le_usage.transform(val.building_id)"
   ]
  },
  {
   "cell_type": "code",
   "execution_count": 19,
   "metadata": {},
   "outputs": [],
   "source": [
    "# Label Encoder\n",
    "le_usage = LabelEncoder().fit(train.site_id)\n",
    "train[\"site_id\"] = le_usage.transform(train.site_id)\n",
    "val[\"site_id\"] = le_usage.transform(val.site_id)"
   ]
  },
  {
   "cell_type": "code",
   "execution_count": 20,
   "metadata": {},
   "outputs": [],
   "source": [
    "# Split datasets\n",
    "X_train = train.drop(\"meter_reading\", axis=1)\n",
    "y_train = train[\"meter_reading\"]\n",
    "\n",
    "X_val = val.drop(\"meter_reading\", axis=1)\n",
    "y_val = val[\"meter_reading\"]\n",
    "\n",
    "del(train, val)"
   ]
  },
  {
   "cell_type": "markdown",
   "metadata": {},
   "source": [
    "### LightGBM prediction"
   ]
  },
  {
   "cell_type": "markdown",
   "metadata": {},
   "source": [
    "Default parameters: https://lightgbm.readthedocs.io/en/latest/Parameters.html"
   ]
  },
  {
   "cell_type": "code",
   "execution_count": 21,
   "metadata": {},
   "outputs": [],
   "source": [
    "# create dataset for lightgbm\n",
    "lgb_train = lgb.Dataset(\n",
    "    X_train,\n",
    "    y_train,\n",
    "    categorical_feature=[\"site_id\",\"building_id\",\"meter\",\"month\",\"weekday\",\"hour\",\"primaryspaceusage\"],\n",
    "    free_raw_data=False,\n",
    ")\n",
    "lgb_eval = lgb.Dataset(\n",
    "    X_val,\n",
    "    y_val,\n",
    "    categorical_feature=[\"site_id\",\"building_id\",\"meter\",\"month\",\"weekday\",\"hour\",\"primaryspaceusage\"],\n",
    "    reference=lgb_train,\n",
    "    free_raw_data=False,\n",
    ")"
   ]
  },
  {
   "cell_type": "code",
   "execution_count": 22,
   "metadata": {},
   "outputs": [],
   "source": [
    "# Parameters\n",
    "params = {\n",
    "    \"objective\": \"regression\",\n",
    "    \"metric\": \"rmse\",\n",
    "    \"random_state\": 55,\n",
    "    \"learning_rate\":0.01, # default 0.1\n",
    "    \"max_bin\":761, # Bin temperature by 0.1 ºC. default 255\n",
    "    \"num_leaves\": 2197 # Around 0.01% of training data. default 31\n",
    "}"
   ]
  },
  {
   "cell_type": "code",
   "execution_count": 23,
   "metadata": {},
   "outputs": [
    {
     "name": "stdout",
     "output_type": "stream",
     "text": [
      "Starting training...\n"
     ]
    },
    {
     "name": "stderr",
     "output_type": "stream",
     "text": [
      "C:\\ProgramData\\Anaconda3\\lib\\site-packages\\lightgbm\\basic.py:1243: UserWarning: Using categorical_feature in Dataset.\n",
      "  warnings.warn('Using categorical_feature in Dataset.')\n"
     ]
    },
    {
     "name": "stdout",
     "output_type": "stream",
     "text": [
      "Training until validation scores don't improve for 1000 rounds\n",
      "[100]\tvalid_0's rmse: 65947.2\n",
      "[200]\tvalid_0's rmse: 69372.8\n",
      "[300]\tvalid_0's rmse: 74052.1\n",
      "[400]\tvalid_0's rmse: 76203.6\n",
      "[500]\tvalid_0's rmse: 77146\n",
      "[600]\tvalid_0's rmse: 77587.7\n",
      "[700]\tvalid_0's rmse: 77821.8\n",
      "[800]\tvalid_0's rmse: 77939\n",
      "[900]\tvalid_0's rmse: 78055.2\n",
      "[1000]\tvalid_0's rmse: 78142.1\n",
      "[1100]\tvalid_0's rmse: 78207.4\n",
      "Early stopping, best iteration is:\n",
      "[118]\tvalid_0's rmse: 65460.4\n"
     ]
    }
   ],
   "source": [
    "# train\n",
    "print('Starting training...')\n",
    "gbm = lgb.train(params,\n",
    "                lgb_train,\n",
    "                valid_sets = lgb_eval,\n",
    "                num_boost_round=100000,\n",
    "                early_stopping_rounds=1000,\n",
    "                verbose_eval=100)"
   ]
  },
  {
   "cell_type": "code",
   "execution_count": 24,
   "metadata": {},
   "outputs": [
    {
     "data": {
      "text/plain": [
       "array([ 20502,   3831,  26406,   7240,  23767,     88,   9593,  46592,\n",
       "       121109])"
      ]
     },
     "execution_count": 24,
     "metadata": {},
     "output_type": "execute_result"
    }
   ],
   "source": [
    "gbm.feature_importance()"
   ]
  },
  {
   "cell_type": "code",
   "execution_count": 25,
   "metadata": {},
   "outputs": [
    {
     "data": {
      "text/plain": [
       "<matplotlib.axes._subplots.AxesSubplot at 0x20802309148>"
      ]
     },
     "execution_count": 25,
     "metadata": {},
     "output_type": "execute_result"
    },
    {
     "data": {
      "image/png": "[encoded data removed]",
      "text/plain": [
       "<Figure size 432x288 with 1 Axes>"
      ]
     },
     "metadata": {
      "needs_background": "light"
     },
     "output_type": "display_data"
    }
   ],
   "source": [
    "lgb.plot_importance(gbm)"
   ]
  },
  {
   "cell_type": "code",
   "execution_count": 26,
   "metadata": {},
   "outputs": [
    {
     "name": "stdout",
     "output_type": "stream",
     "text": [
      "Starting predicting...\n",
      "Finish.\n"
     ]
    }
   ],
   "source": [
    "# predict\n",
    "print('Starting predicting...')\n",
    "y_pred = gbm.predict(X_val, num_iteration=gbm.best_iteration)\n",
    "print('Finish.')"
   ]
  },
  {
   "cell_type": "code",
   "execution_count": 27,
   "metadata": {},
   "outputs": [],
   "source": [
    "values, counts = np.unique(y_pred, return_counts=True)"
   ]
  },
  {
   "cell_type": "code",
   "execution_count": 28,
   "metadata": {},
   "outputs": [
    {
     "name": "stdout",
     "output_type": "stream",
     "text": [
      "[ -20861.83535049  -16711.03494208  -15477.18063906 ... 5446747.41123732\n",
      " 5457606.94802551 5461055.37838995]\n",
      "[ 2 17  1 ...  2  2  2]\n"
     ]
    }
   ],
   "source": [
    "print(values)\n",
    "print(counts)"
   ]
  },
  {
   "cell_type": "code",
   "execution_count": 29,
   "metadata": {},
   "outputs": [
    {
     "name": "stdout",
     "output_type": "stream",
     "text": [
      "Unique values: 297352\n",
      "Min value: -20861.835350485555\n",
      "Max value: 5461055.378389948\n"
     ]
    }
   ],
   "source": [
    "print(\"Unique values: \" + str(len(values)))\n",
    "print(\"Min value: \" + str(min(values)))\n",
    "print(\"Max value: \" + str(max(values)))"
   ]
  },
  {
   "cell_type": "code",
   "execution_count": 30,
   "metadata": {},
   "outputs": [],
   "source": [
    "# Save LightGBM prediction\n",
    "pd.DataFrame(y_pred).to_csv(\"..\\\\data\\\\predictions\\\\longterm_LGBM.csv\", index=False, header=\"LGBM\")"
   ]
  },
  {
   "cell_type": "markdown",
   "metadata": {},
   "source": [
    "### Predictions dataset"
   ]
  },
  {
   "cell_type": "markdown",
   "metadata": {},
   "source": [
    "To export a single dataset with all the predictions."
   ]
  },
  {
   "cell_type": "code",
   "execution_count": 31,
   "metadata": {},
   "outputs": [
    {
     "data": {
      "text/plain": [
       "256"
      ]
     },
     "execution_count": 31,
     "metadata": {},
     "output_type": "execute_result"
    }
   ],
   "source": [
    "del(X_train, X_val, y_train, y_val)\n",
    "gc.collect()"
   ]
  },
  {
   "cell_type": "code",
   "execution_count": 32,
   "metadata": {},
   "outputs": [],
   "source": [
    "# Filepath\n",
    "files = glob(\"..\\\\data\\\\predictions\\\\longterm*\")"
   ]
  },
  {
   "cell_type": "code",
   "execution_count": 33,
   "metadata": {},
   "outputs": [
    {
     "data": {
      "text/plain": [
       "['..\\\\data\\\\predictions\\\\longterm_LGBM.csv',\n",
       " '..\\\\data\\\\predictions\\\\longterm_real.csv']"
      ]
     },
     "execution_count": 33,
     "metadata": {},
     "output_type": "execute_result"
    }
   ],
   "source": [
    "files"
   ]
  },
  {
   "cell_type": "code",
   "execution_count": 34,
   "metadata": {},
   "outputs": [],
   "source": [
    "df_pred = ConcatAllModels(files)"
   ]
  },
  {
   "cell_type": "code",
   "execution_count": 35,
   "metadata": {},
   "outputs": [],
   "source": [
    "df_pred = df_pred[[\"timestamp\",\"building_id\",\"meter\",\"meter_reading\",\"LGBM\"]]"
   ]
  },
  {
   "cell_type": "code",
   "execution_count": 36,
   "metadata": {},
   "outputs": [
    {
     "data": {
      "text/html": [
       "<div>\n",
       "<style scoped>\n",
       "    .dataframe tbody tr th:only-of-type {\n",
       "        vertical-align: middle;\n",
       "    }\n",
       "\n",
       "    .dataframe tbody tr th {\n",
       "        vertical-align: top;\n",
       "    }\n",
       "\n",
       "    .dataframe thead th {\n",
       "        text-align: right;\n",
       "    }\n",
       "</style>\n",
       "<table border=\"1\" class=\"dataframe\">\n",
       "  <thead>\n",
       "    <tr style=\"text-align: right;\">\n",
       "      <th></th>\n",
       "      <th>timestamp</th>\n",
       "      <th>building_id</th>\n",
       "      <th>meter</th>\n",
       "      <th>meter_reading</th>\n",
       "      <th>LGBM</th>\n",
       "    </tr>\n",
       "  </thead>\n",
       "  <tbody>\n",
       "    <tr>\n",
       "      <th>0</th>\n",
       "      <td>2017-04-17 14:00:00</td>\n",
       "      <td>Panther_office_Clementine</td>\n",
       "      <td>chilledwater</td>\n",
       "      <td>0.0000</td>\n",
       "      <td>4587.771116</td>\n",
       "    </tr>\n",
       "    <tr>\n",
       "      <th>1</th>\n",
       "      <td>2017-04-17 15:00:00</td>\n",
       "      <td>Panther_office_Clementine</td>\n",
       "      <td>chilledwater</td>\n",
       "      <td>86.5944</td>\n",
       "      <td>4587.771116</td>\n",
       "    </tr>\n",
       "    <tr>\n",
       "      <th>2</th>\n",
       "      <td>2017-04-17 16:00:00</td>\n",
       "      <td>Panther_office_Clementine</td>\n",
       "      <td>chilledwater</td>\n",
       "      <td>309.2658</td>\n",
       "      <td>4587.771116</td>\n",
       "    </tr>\n",
       "    <tr>\n",
       "      <th>3</th>\n",
       "      <td>2017-04-17 17:00:00</td>\n",
       "      <td>Panther_office_Clementine</td>\n",
       "      <td>chilledwater</td>\n",
       "      <td>284.5245</td>\n",
       "      <td>4587.771116</td>\n",
       "    </tr>\n",
       "    <tr>\n",
       "      <th>4</th>\n",
       "      <td>2017-04-17 18:00:00</td>\n",
       "      <td>Panther_office_Clementine</td>\n",
       "      <td>chilledwater</td>\n",
       "      <td>247.4126</td>\n",
       "      <td>4587.771116</td>\n",
       "    </tr>\n",
       "  </tbody>\n",
       "</table>\n",
       "</div>"
      ],
      "text/plain": [
       "             timestamp                building_id         meter  \\\n",
       "0  2017-04-17 14:00:00  Panther_office_Clementine  chilledwater   \n",
       "1  2017-04-17 15:00:00  Panther_office_Clementine  chilledwater   \n",
       "2  2017-04-17 16:00:00  Panther_office_Clementine  chilledwater   \n",
       "3  2017-04-17 17:00:00  Panther_office_Clementine  chilledwater   \n",
       "4  2017-04-17 18:00:00  Panther_office_Clementine  chilledwater   \n",
       "\n",
       "   meter_reading         LGBM  \n",
       "0         0.0000  4587.771116  \n",
       "1        86.5944  4587.771116  \n",
       "2       309.2658  4587.771116  \n",
       "3       284.5245  4587.771116  \n",
       "4       247.4126  4587.771116  "
      ]
     },
     "execution_count": 36,
     "metadata": {},
     "output_type": "execute_result"
    }
   ],
   "source": [
    "df_pred.head()"
   ]
  },
  {
   "cell_type": "code",
   "execution_count": 37,
   "metadata": {},
   "outputs": [],
   "source": [
    "# Saves files\n",
    "df_pred.to_csv(\"..\\\\data\\\\predictions\\\\longterm_pred.csv\", index=False)"
   ]
  },
  {
   "cell_type": "markdown",
   "metadata": {},
   "source": [
    "## Short term prediction"
   ]
  },
  {
   "cell_type": "markdown",
   "metadata": {},
   "source": [
    "**train:** 1 month (core winter and summer months)<br>\n",
    "**validation:** 3 days<br>\n",
    "**test:** 3 days"
   ]
  },
  {
   "cell_type": "markdown",
   "metadata": {},
   "source": [
    "<img src=\"..\\\\figures\\\\split_shorterm.png\">"
   ]
  },
  {
   "cell_type": "markdown",
   "metadata": {},
   "source": [
    "### Winter"
   ]
  },
  {
   "cell_type": "code",
   "execution_count": 5,
   "metadata": {},
   "outputs": [
    {
     "name": "stdout",
     "output_type": "stream",
     "text": [
      "Mem. usage decreased to 2282.59 Mb (39.8% reduction)\n"
     ]
    }
   ],
   "source": [
    "# Load dataset\n",
    "data = pd.read_csv(path_meter_proc + \"dev_merged.csv\")\n",
    "# Reduce memory\n",
    "data = reduce_mem_usage(data)"
   ]
  },
  {
   "cell_type": "code",
   "execution_count": 6,
   "metadata": {},
   "outputs": [],
   "source": [
    "# Rounds to 4 decimals\n",
    "data[\"meter_reading\"] = data['meter_reading'].astype(float).round(4)\n",
    "data[\"airTemperature\"] = data['airTemperature'].astype(float).round(2)"
   ]
  },
  {
   "cell_type": "code",
   "execution_count": 7,
   "metadata": {},
   "outputs": [
    {
     "name": "stdout",
     "output_type": "stream",
     "text": [
      "<class 'pandas.core.frame.DataFrame'>\n",
      "RangeIndex: 45159855 entries, 0 to 45159854\n",
      "Data columns (total 11 columns):\n",
      " #   Column             Dtype  \n",
      "---  ------             -----  \n",
      " 0   timestamp          object \n",
      " 1   building_id        object \n",
      " 2   meter_reading      float64\n",
      " 3   meter              object \n",
      " 4   month              int8   \n",
      " 5   weekday            int8   \n",
      " 6   hour               int8   \n",
      " 7   site_id            object \n",
      " 8   primaryspaceusage  object \n",
      " 9   sqm                float32\n",
      " 10  airTemperature     float64\n",
      "dtypes: float32(1), float64(2), int8(3), object(5)\n",
      "memory usage: 2.6+ GB\n"
     ]
    }
   ],
   "source": [
    "data.info()"
   ]
  },
  {
   "cell_type": "code",
   "execution_count": 8,
   "metadata": {},
   "outputs": [
    {
     "data": {
      "text/html": [
       "<div>\n",
       "<style scoped>\n",
       "    .dataframe tbody tr th:only-of-type {\n",
       "        vertical-align: middle;\n",
       "    }\n",
       "\n",
       "    .dataframe tbody tr th {\n",
       "        vertical-align: top;\n",
       "    }\n",
       "\n",
       "    .dataframe thead th {\n",
       "        text-align: right;\n",
       "    }\n",
       "</style>\n",
       "<table border=\"1\" class=\"dataframe\">\n",
       "  <thead>\n",
       "    <tr style=\"text-align: right;\">\n",
       "      <th></th>\n",
       "      <th>timestamp</th>\n",
       "      <th>building_id</th>\n",
       "      <th>meter_reading</th>\n",
       "      <th>meter</th>\n",
       "      <th>month</th>\n",
       "      <th>weekday</th>\n",
       "      <th>hour</th>\n",
       "      <th>site_id</th>\n",
       "      <th>primaryspaceusage</th>\n",
       "      <th>sqm</th>\n",
       "      <th>airTemperature</th>\n",
       "    </tr>\n",
       "  </thead>\n",
       "  <tbody>\n",
       "    <tr>\n",
       "      <th>0</th>\n",
       "      <td>2016-02-29 09:00:00</td>\n",
       "      <td>Panther_office_Clementine</td>\n",
       "      <td>136.0769</td>\n",
       "      <td>chilledwater</td>\n",
       "      <td>2</td>\n",
       "      <td>0</td>\n",
       "      <td>9</td>\n",
       "      <td>Panther</td>\n",
       "      <td>other</td>\n",
       "      <td>3100.199951</td>\n",
       "      <td>16.70</td>\n",
       "    </tr>\n",
       "    <tr>\n",
       "      <th>1</th>\n",
       "      <td>2016-02-29 10:00:00</td>\n",
       "      <td>Panther_office_Clementine</td>\n",
       "      <td>222.6714</td>\n",
       "      <td>chilledwater</td>\n",
       "      <td>2</td>\n",
       "      <td>0</td>\n",
       "      <td>10</td>\n",
       "      <td>Panther</td>\n",
       "      <td>other</td>\n",
       "      <td>3100.199951</td>\n",
       "      <td>21.09</td>\n",
       "    </tr>\n",
       "    <tr>\n",
       "      <th>2</th>\n",
       "      <td>2016-02-29 11:00:00</td>\n",
       "      <td>Panther_office_Clementine</td>\n",
       "      <td>235.0420</td>\n",
       "      <td>chilledwater</td>\n",
       "      <td>2</td>\n",
       "      <td>0</td>\n",
       "      <td>11</td>\n",
       "      <td>Panther</td>\n",
       "      <td>other</td>\n",
       "      <td>3100.199951</td>\n",
       "      <td>21.70</td>\n",
       "    </tr>\n",
       "    <tr>\n",
       "      <th>3</th>\n",
       "      <td>2016-02-29 12:00:00</td>\n",
       "      <td>Panther_office_Clementine</td>\n",
       "      <td>247.4126</td>\n",
       "      <td>chilledwater</td>\n",
       "      <td>2</td>\n",
       "      <td>0</td>\n",
       "      <td>12</td>\n",
       "      <td>Panther</td>\n",
       "      <td>other</td>\n",
       "      <td>3100.199951</td>\n",
       "      <td>22.20</td>\n",
       "    </tr>\n",
       "    <tr>\n",
       "      <th>4</th>\n",
       "      <td>2016-02-29 13:00:00</td>\n",
       "      <td>Panther_office_Clementine</td>\n",
       "      <td>272.1539</td>\n",
       "      <td>chilledwater</td>\n",
       "      <td>2</td>\n",
       "      <td>0</td>\n",
       "      <td>13</td>\n",
       "      <td>Panther</td>\n",
       "      <td>other</td>\n",
       "      <td>3100.199951</td>\n",
       "      <td>23.91</td>\n",
       "    </tr>\n",
       "  </tbody>\n",
       "</table>\n",
       "</div>"
      ],
      "text/plain": [
       "             timestamp                building_id  meter_reading  \\\n",
       "0  2016-02-29 09:00:00  Panther_office_Clementine       136.0769   \n",
       "1  2016-02-29 10:00:00  Panther_office_Clementine       222.6714   \n",
       "2  2016-02-29 11:00:00  Panther_office_Clementine       235.0420   \n",
       "3  2016-02-29 12:00:00  Panther_office_Clementine       247.4126   \n",
       "4  2016-02-29 13:00:00  Panther_office_Clementine       272.1539   \n",
       "\n",
       "          meter  month  weekday  hour  site_id primaryspaceusage          sqm  \\\n",
       "0  chilledwater      2        0     9  Panther             other  3100.199951   \n",
       "1  chilledwater      2        0    10  Panther             other  3100.199951   \n",
       "2  chilledwater      2        0    11  Panther             other  3100.199951   \n",
       "3  chilledwater      2        0    12  Panther             other  3100.199951   \n",
       "4  chilledwater      2        0    13  Panther             other  3100.199951   \n",
       "\n",
       "   airTemperature  \n",
       "0           16.70  \n",
       "1           21.09  \n",
       "2           21.70  \n",
       "3           22.20  \n",
       "4           23.91  "
      ]
     },
     "execution_count": 8,
     "metadata": {},
     "output_type": "execute_result"
    }
   ],
   "source": [
    "data.head()"
   ]
  },
  {
   "cell_type": "code",
   "execution_count": 9,
   "metadata": {},
   "outputs": [],
   "source": [
    "# Converts to timestamp\n",
    "data[\"timestamp\"] = pd.to_datetime(data[\"timestamp\"], format='%Y-%m-%d %H:%M:%S')"
   ]
  },
  {
   "cell_type": "code",
   "execution_count": 10,
   "metadata": {},
   "outputs": [],
   "source": [
    "# Strategy split\n",
    "train = data[(data[\"timestamp\"] >= \"2017-01-01 00:00:00\") & (data[\"timestamp\"] < \"2017-02-01 00:00:00\")]\n",
    "val = data[(data[\"timestamp\"] >= \"2017-02-01 00:00:00\") & (data[\"timestamp\"] < \"2017-02-04 00:00:00\")]\n",
    "test = data[(data[\"timestamp\"] >= \"2017-02-04 00:00:00\") & (data[\"timestamp\"] < \"2017-02-07 00:00:00\")]\n",
    "del(data)"
   ]
  },
  {
   "cell_type": "markdown",
   "metadata": {},
   "source": [
    "Let's check we have the same buildings in all datasets:"
   ]
  },
  {
   "cell_type": "code",
   "execution_count": 11,
   "metadata": {},
   "outputs": [
    {
     "name": "stdout",
     "output_type": "stream",
     "text": [
      "Buildings in train: 1588\n",
      "Buildings in val: 1569\n",
      "Buildings in test: 1570\n",
      "Buildings in val AND train AND test: 1569\n"
     ]
    }
   ],
   "source": [
    "# List of unique buildings in each dataset\n",
    "train_bdg = pd.DataFrame(train.building_id.unique()).rename(columns={0:\"bdg\"})\n",
    "val_bdg = pd.DataFrame(val.building_id.unique()).rename(columns={0:\"bdg\"})\n",
    "test_bdg = pd.DataFrame(test.building_id.unique()).rename(columns={0:\"bdg\"})\n",
    "# Number of unique buildings in each dataset\n",
    "print(\"Buildings in train: \" + str(len(train_bdg)))\n",
    "print(\"Buildings in val: \" + str(len(val_bdg)))\n",
    "print(\"Buildings in test: \" + str(len(test_bdg)))\n",
    "# list of shared buildings in all datasets\n",
    "shared_bdg = list(pd.merge(train_bdg, val_bdg, how=\"inner\", on=\"bdg\").merge(test_bdg, how=\"inner\", on=\"bdg\").bdg)\n",
    "print(\"Buildings in val AND train AND test: \" + str(len(shared_bdg)))"
   ]
  },
  {
   "cell_type": "markdown",
   "metadata": {},
   "source": [
    "Let's select the shared buildings for the model:"
   ]
  },
  {
   "cell_type": "code",
   "execution_count": 12,
   "metadata": {},
   "outputs": [],
   "source": [
    "train = train[train.building_id.isin(shared_bdg) == True]\n",
    "val = val[val.building_id.isin(shared_bdg) == True]\n",
    "test = test[test.building_id.isin(shared_bdg) == True]"
   ]
  },
  {
   "cell_type": "markdown",
   "metadata": {},
   "source": [
    "### Real values"
   ]
  },
  {
   "cell_type": "code",
   "execution_count": 13,
   "metadata": {},
   "outputs": [],
   "source": [
    "test_real = val[[\"timestamp\",\"building_id\",\"meter\",\"meter_reading\"]]\n",
    "test_real.to_csv(\"..\\\\data\\\\predictions\\\\shortterm-winter_real.csv\", index=False)"
   ]
  },
  {
   "cell_type": "code",
   "execution_count": 14,
   "metadata": {},
   "outputs": [],
   "source": [
    "values, counts = np.unique(test_real.meter_reading, return_counts=True)"
   ]
  },
  {
   "cell_type": "code",
   "execution_count": 15,
   "metadata": {},
   "outputs": [
    {
     "name": "stdout",
     "output_type": "stream",
     "text": [
      "[0.000000e+00 1.000000e-04 2.000000e-04 ... 1.948266e+06 1.970678e+06\n",
      " 2.515609e+06]\n",
      "[7516    1  144 ...    1    1    1]\n"
     ]
    }
   ],
   "source": [
    "print(values)\n",
    "print(counts)"
   ]
  },
  {
   "cell_type": "code",
   "execution_count": 16,
   "metadata": {},
   "outputs": [
    {
     "name": "stdout",
     "output_type": "stream",
     "text": [
      "Unique values: 88216\n",
      "Min value: 0.0\n",
      "Max value: 2515609.0\n"
     ]
    }
   ],
   "source": [
    "print(\"Unique values: \" + str(len(values)))\n",
    "print(\"Min value: \" + str(min(values)))\n",
    "print(\"Max value: \" + str(max(values)))"
   ]
  },
  {
   "cell_type": "code",
   "execution_count": 17,
   "metadata": {},
   "outputs": [],
   "source": [
    "del(test_real, values, counts)"
   ]
  },
  {
   "cell_type": "markdown",
   "metadata": {},
   "source": [
    "### Encoding and Data/Target split"
   ]
  },
  {
   "cell_type": "code",
   "execution_count": 18,
   "metadata": {},
   "outputs": [],
   "source": [
    "train = train.drop(\"timestamp\",axis=1)\n",
    "val = val.drop(\"timestamp\",axis=1)\n",
    "test = test.drop(\"timestamp\",axis=1)"
   ]
  },
  {
   "cell_type": "markdown",
   "metadata": {},
   "source": [
    "For LightGBM use only a label encoding (this algorith can handle categorical features by itself):"
   ]
  },
  {
   "cell_type": "code",
   "execution_count": 19,
   "metadata": {},
   "outputs": [],
   "source": [
    "# Label Encoder\n",
    "le_meter = LabelEncoder().fit(train.meter)\n",
    "train[\"meter\"] = le_meter.transform(train.meter)\n",
    "val[\"meter\"] = le_meter.transform(val.meter)\n",
    "test[\"meter\"] = le_meter.transform(test.meter)"
   ]
  },
  {
   "cell_type": "code",
   "execution_count": 20,
   "metadata": {},
   "outputs": [],
   "source": [
    "# Label Encoder\n",
    "le_usage = LabelEncoder().fit(train.primaryspaceusage)\n",
    "train[\"primaryspaceusage\"] = le_usage.transform(train.primaryspaceusage)\n",
    "val[\"primaryspaceusage\"] = le_usage.transform(val.primaryspaceusage)\n",
    "test[\"primaryspaceusage\"] = le_usage.transform(test.primaryspaceusage)"
   ]
  },
  {
   "cell_type": "code",
   "execution_count": 21,
   "metadata": {},
   "outputs": [],
   "source": [
    "# Label Encoder\n",
    "le_usage = LabelEncoder().fit(train.building_id)\n",
    "train[\"building_id\"] = le_usage.transform(train.building_id)\n",
    "val[\"building_id\"] = le_usage.transform(val.building_id)\n",
    "test[\"building_id\"] = le_usage.transform(test.building_id)"
   ]
  },
  {
   "cell_type": "code",
   "execution_count": 22,
   "metadata": {},
   "outputs": [],
   "source": [
    "# Label Encoder\n",
    "le_usage = LabelEncoder().fit(train.site_id)\n",
    "train[\"site_id\"] = le_usage.transform(train.site_id)\n",
    "val[\"site_id\"] = le_usage.transform(val.site_id)\n",
    "test[\"site_id\"] = le_usage.transform(test.site_id)"
   ]
  },
  {
   "cell_type": "code",
   "execution_count": 23,
   "metadata": {},
   "outputs": [],
   "source": [
    "# Split datasets\n",
    "X_train = train.drop(\"meter_reading\", axis=1)\n",
    "y_train = train[\"meter_reading\"]\n",
    "\n",
    "X_val = val.drop(\"meter_reading\", axis=1)\n",
    "y_val = val[\"meter_reading\"]\n",
    "\n",
    "X_test = test.drop(\"meter_reading\", axis=1)\n",
    "y_test = test[\"meter_reading\"]\n",
    "\n",
    "del(train, val, test)"
   ]
  },
  {
   "cell_type": "markdown",
   "metadata": {},
   "source": [
    "### LightGBM prediction"
   ]
  },
  {
   "cell_type": "markdown",
   "metadata": {},
   "source": [
    "Default parameters: https://lightgbm.readthedocs.io/en/latest/Parameters.html"
   ]
  },
  {
   "cell_type": "code",
   "execution_count": 24,
   "metadata": {},
   "outputs": [],
   "source": [
    "# create dataset for lightgbm\n",
    "lgb_train = lgb.Dataset(\n",
    "    X_train,\n",
    "    y_train,\n",
    "    categorical_feature=[\"site_id\",\"building_id\",\"meter\",\"month\",\"weekday\",\"hour\",\"primaryspaceusage\"],\n",
    "    free_raw_data=False,\n",
    ")\n",
    "lgb_eval = lgb.Dataset(\n",
    "    X_val,\n",
    "    y_val,\n",
    "    categorical_feature=[\"site_id\",\"building_id\",\"meter\",\"month\",\"weekday\",\"hour\",\"primaryspaceusage\"],\n",
    "    reference=lgb_train,\n",
    "    free_raw_data=False,\n",
    ")\n",
    "\n",
    "lgb_test = lgb.Dataset(\n",
    "    X_test,\n",
    "    y_test,\n",
    "    categorical_feature=[\"site_id\",\"building_id\",\"meter\",\"month\",\"weekday\",\"hour\",\"primaryspaceusage\"],\n",
    "    reference=lgb_train,\n",
    "    free_raw_data=False,\n",
    ")"
   ]
  },
  {
   "cell_type": "code",
   "execution_count": 25,
   "metadata": {},
   "outputs": [],
   "source": [
    "# Parameters\n",
    "params = {\n",
    "    \"objective\": \"regression\",\n",
    "    \"metric\": \"rmse\",\n",
    "    \"random_state\": 55,\n",
    "    \"learning_rate\":0.01, # default 0.1\n",
    "    \"max_bin\":761, # Bin temperature by 0.1 ºC. default 255\n",
    "    \"num_leaves\": 2197 # Around 0.01% of training data. default 31\n",
    "}"
   ]
  },
  {
   "cell_type": "code",
   "execution_count": 27,
   "metadata": {},
   "outputs": [
    {
     "name": "stdout",
     "output_type": "stream",
     "text": [
      "Starting training...\n",
      "Training until validation scores don't improve for 1000 rounds\n",
      "[100]\tvalid_0's rmse: 35090.9\n",
      "[200]\tvalid_0's rmse: 28968.7\n",
      "[300]\tvalid_0's rmse: 28369.8\n",
      "[400]\tvalid_0's rmse: 28928\n",
      "[500]\tvalid_0's rmse: 29703.9\n",
      "[600]\tvalid_0's rmse: 30277.1\n",
      "[700]\tvalid_0's rmse: 30870.1\n",
      "[800]\tvalid_0's rmse: 31469.3\n",
      "[900]\tvalid_0's rmse: 32006\n",
      "[1000]\tvalid_0's rmse: 32553.8\n",
      "[1100]\tvalid_0's rmse: 33087.1\n",
      "[1200]\tvalid_0's rmse: 33691.3\n",
      "[1300]\tvalid_0's rmse: 34104.9\n",
      "Early stopping, best iteration is:\n",
      "[308]\tvalid_0's rmse: 28347.9\n"
     ]
    }
   ],
   "source": [
    "# train\n",
    "print('Starting training...')\n",
    "gbm = lgb.train(params,\n",
    "                lgb_train,\n",
    "                valid_sets = lgb_eval,\n",
    "                num_boost_round=100000,\n",
    "                early_stopping_rounds=1000,\n",
    "                verbose_eval=100)"
   ]
  },
  {
   "cell_type": "code",
   "execution_count": 28,
   "metadata": {},
   "outputs": [
    {
     "data": {
      "text/plain": [
       "array([ 30324,   7122,      0,  22131,  32469,    199,  15523, 141765,\n",
       "       426835])"
      ]
     },
     "execution_count": 28,
     "metadata": {},
     "output_type": "execute_result"
    }
   ],
   "source": [
    "gbm.feature_importance()"
   ]
  },
  {
   "cell_type": "code",
   "execution_count": 29,
   "metadata": {},
   "outputs": [
    {
     "data": {
      "text/plain": [
       "<matplotlib.axes._subplots.AxesSubplot at 0x2b482398a48>"
      ]
     },
     "execution_count": 29,
     "metadata": {},
     "output_type": "execute_result"
    },
    {
     "data": {
      "image/png": "[encoded data removed]",
      "text/plain": [
       "<Figure size 432x288 with 1 Axes>"
      ]
     },
     "metadata": {
      "needs_background": "light"
     },
     "output_type": "display_data"
    }
   ],
   "source": [
    "lgb.plot_importance(gbm)"
   ]
  },
  {
   "cell_type": "code",
   "execution_count": 30,
   "metadata": {},
   "outputs": [
    {
     "name": "stdout",
     "output_type": "stream",
     "text": [
      "Starting predicting...\n",
      "Finish.\n"
     ]
    }
   ],
   "source": [
    "# predict\n",
    "print('Starting predicting...')\n",
    "y_pred = gbm.predict(X_test, num_iteration=gbm.best_iteration)\n",
    "print('Finish.')"
   ]
  },
  {
   "cell_type": "code",
   "execution_count": 31,
   "metadata": {},
   "outputs": [],
   "source": [
    "values, counts = np.unique(y_pred, return_counts=True)"
   ]
  },
  {
   "cell_type": "code",
   "execution_count": 32,
   "metadata": {},
   "outputs": [
    {
     "name": "stdout",
     "output_type": "stream",
     "text": [
      "[ -29293.54747989  -25588.66143363  -18595.23392189 ... 1604770.26321889\n",
      " 1613952.32240056 1624990.92041385]\n",
      "[1 1 1 ... 1 1 1]\n"
     ]
    }
   ],
   "source": [
    "print(values)\n",
    "print(counts)"
   ]
  },
  {
   "cell_type": "code",
   "execution_count": 33,
   "metadata": {},
   "outputs": [
    {
     "name": "stdout",
     "output_type": "stream",
     "text": [
      "Unique values: 35616\n",
      "Min value: -29293.54747989481\n",
      "Max value: 1624990.9204138473\n"
     ]
    }
   ],
   "source": [
    "print(\"Unique values: \" + str(len(values)))\n",
    "print(\"Min value: \" + str(min(values)))\n",
    "print(\"Max value: \" + str(max(values)))"
   ]
  },
  {
   "cell_type": "code",
   "execution_count": 34,
   "metadata": {},
   "outputs": [],
   "source": [
    "# Save LightGBM prediction\n",
    "pd.DataFrame(y_pred).to_csv(\"..\\\\data\\\\predictions\\\\shortterm-winter_LGBM.csv\", index=False, header=\"LGBM\")"
   ]
  },
  {
   "cell_type": "markdown",
   "metadata": {},
   "source": [
    "### Predictions dataset"
   ]
  },
  {
   "cell_type": "markdown",
   "metadata": {},
   "source": [
    "To export a single dataset with all the predictions."
   ]
  },
  {
   "cell_type": "code",
   "execution_count": 35,
   "metadata": {},
   "outputs": [
    {
     "data": {
      "text/plain": [
       "256"
      ]
     },
     "execution_count": 35,
     "metadata": {},
     "output_type": "execute_result"
    }
   ],
   "source": [
    "del(X_train, X_val, y_train, y_val)\n",
    "gc.collect()"
   ]
  },
  {
   "cell_type": "code",
   "execution_count": 36,
   "metadata": {},
   "outputs": [],
   "source": [
    "# Filepath\n",
    "files = glob(\"..\\\\data\\\\predictions\\\\shortterm-winter*\")"
   ]
  },
  {
   "cell_type": "code",
   "execution_count": 37,
   "metadata": {},
   "outputs": [
    {
     "data": {
      "text/plain": [
       "['..\\\\data\\\\predictions\\\\shortterm-winter_LGBM.csv',\n",
       " '..\\\\data\\\\predictions\\\\shortterm-winter_real.csv']"
      ]
     },
     "execution_count": 37,
     "metadata": {},
     "output_type": "execute_result"
    }
   ],
   "source": [
    "files"
   ]
  },
  {
   "cell_type": "code",
   "execution_count": 38,
   "metadata": {},
   "outputs": [],
   "source": [
    "df_pred = ConcatAllModels(files)"
   ]
  },
  {
   "cell_type": "code",
   "execution_count": 39,
   "metadata": {},
   "outputs": [],
   "source": [
    "df_pred = df_pred[[\"timestamp\",\"building_id\",\"meter\",\"meter_reading\",\"LGBM\"]]"
   ]
  },
  {
   "cell_type": "code",
   "execution_count": 40,
   "metadata": {},
   "outputs": [
    {
     "data": {
      "text/html": [
       "<div>\n",
       "<style scoped>\n",
       "    .dataframe tbody tr th:only-of-type {\n",
       "        vertical-align: middle;\n",
       "    }\n",
       "\n",
       "    .dataframe tbody tr th {\n",
       "        vertical-align: top;\n",
       "    }\n",
       "\n",
       "    .dataframe thead th {\n",
       "        text-align: right;\n",
       "    }\n",
       "</style>\n",
       "<table border=\"1\" class=\"dataframe\">\n",
       "  <thead>\n",
       "    <tr style=\"text-align: right;\">\n",
       "      <th></th>\n",
       "      <th>timestamp</th>\n",
       "      <th>building_id</th>\n",
       "      <th>meter</th>\n",
       "      <th>meter_reading</th>\n",
       "      <th>LGBM</th>\n",
       "    </tr>\n",
       "  </thead>\n",
       "  <tbody>\n",
       "    <tr>\n",
       "      <th>0</th>\n",
       "      <td>2017-02-01 00:00:00</td>\n",
       "      <td>Panther_lodging_Cora</td>\n",
       "      <td>chilledwater</td>\n",
       "      <td>136.0769</td>\n",
       "      <td>1464.273186</td>\n",
       "    </tr>\n",
       "    <tr>\n",
       "      <th>1</th>\n",
       "      <td>2017-02-01 01:00:00</td>\n",
       "      <td>Panther_lodging_Cora</td>\n",
       "      <td>chilledwater</td>\n",
       "      <td>123.7063</td>\n",
       "      <td>1458.233921</td>\n",
       "    </tr>\n",
       "    <tr>\n",
       "      <th>2</th>\n",
       "      <td>2017-02-01 02:00:00</td>\n",
       "      <td>Panther_lodging_Cora</td>\n",
       "      <td>chilledwater</td>\n",
       "      <td>111.3357</td>\n",
       "      <td>1045.975740</td>\n",
       "    </tr>\n",
       "    <tr>\n",
       "      <th>3</th>\n",
       "      <td>2017-02-01 03:00:00</td>\n",
       "      <td>Panther_lodging_Cora</td>\n",
       "      <td>chilledwater</td>\n",
       "      <td>86.5944</td>\n",
       "      <td>1045.975740</td>\n",
       "    </tr>\n",
       "    <tr>\n",
       "      <th>4</th>\n",
       "      <td>2017-02-01 04:00:00</td>\n",
       "      <td>Panther_lodging_Cora</td>\n",
       "      <td>chilledwater</td>\n",
       "      <td>86.5944</td>\n",
       "      <td>1045.975740</td>\n",
       "    </tr>\n",
       "  </tbody>\n",
       "</table>\n",
       "</div>"
      ],
      "text/plain": [
       "             timestamp           building_id         meter  meter_reading  \\\n",
       "0  2017-02-01 00:00:00  Panther_lodging_Cora  chilledwater       136.0769   \n",
       "1  2017-02-01 01:00:00  Panther_lodging_Cora  chilledwater       123.7063   \n",
       "2  2017-02-01 02:00:00  Panther_lodging_Cora  chilledwater       111.3357   \n",
       "3  2017-02-01 03:00:00  Panther_lodging_Cora  chilledwater        86.5944   \n",
       "4  2017-02-01 04:00:00  Panther_lodging_Cora  chilledwater        86.5944   \n",
       "\n",
       "          LGBM  \n",
       "0  1464.273186  \n",
       "1  1458.233921  \n",
       "2  1045.975740  \n",
       "3  1045.975740  \n",
       "4  1045.975740  "
      ]
     },
     "execution_count": 40,
     "metadata": {},
     "output_type": "execute_result"
    }
   ],
   "source": [
    "df_pred.head()"
   ]
  },
  {
   "cell_type": "code",
   "execution_count": 41,
   "metadata": {},
   "outputs": [],
   "source": [
    "# Saves files\n",
    "df_pred.to_csv(\"..\\\\data\\\\predictions\\\\shortterm-winter_pred.csv\", index=False)"
   ]
  },
  {
   "cell_type": "markdown",
   "metadata": {},
   "source": [
    "### Summer"
   ]
  },
  {
   "cell_type": "code",
   "execution_count": 5,
   "metadata": {},
   "outputs": [
    {
     "name": "stdout",
     "output_type": "stream",
     "text": [
      "Mem. usage decreased to 2282.59 Mb (39.8% reduction)\n"
     ]
    }
   ],
   "source": [
    "# Load dataset\n",
    "data = pd.read_csv(path_meter_proc + \"dev_merged.csv\")\n",
    "# Reduce memory\n",
    "data = reduce_mem_usage(data)"
   ]
  },
  {
   "cell_type": "code",
   "execution_count": 6,
   "metadata": {},
   "outputs": [],
   "source": [
    "# Rounds to 4 decimals\n",
    "data[\"meter_reading\"] = data['meter_reading'].astype(float).round(4)\n",
    "data[\"airTemperature\"] = data['airTemperature'].astype(float).round(2)"
   ]
  },
  {
   "cell_type": "code",
   "execution_count": 7,
   "metadata": {},
   "outputs": [
    {
     "name": "stdout",
     "output_type": "stream",
     "text": [
      "<class 'pandas.core.frame.DataFrame'>\n",
      "RangeIndex: 45159855 entries, 0 to 45159854\n",
      "Data columns (total 11 columns):\n",
      " #   Column             Dtype  \n",
      "---  ------             -----  \n",
      " 0   timestamp          object \n",
      " 1   building_id        object \n",
      " 2   meter_reading      float64\n",
      " 3   meter              object \n",
      " 4   month              int8   \n",
      " 5   weekday            int8   \n",
      " 6   hour               int8   \n",
      " 7   site_id            object \n",
      " 8   primaryspaceusage  object \n",
      " 9   sqm                float32\n",
      " 10  airTemperature     float64\n",
      "dtypes: float32(1), float64(2), int8(3), object(5)\n",
      "memory usage: 2.6+ GB\n"
     ]
    }
   ],
   "source": [
    "data.info()"
   ]
  },
  {
   "cell_type": "code",
   "execution_count": 8,
   "metadata": {},
   "outputs": [
    {
     "data": {
      "text/html": [
       "<div>\n",
       "<style scoped>\n",
       "    .dataframe tbody tr th:only-of-type {\n",
       "        vertical-align: middle;\n",
       "    }\n",
       "\n",
       "    .dataframe tbody tr th {\n",
       "        vertical-align: top;\n",
       "    }\n",
       "\n",
       "    .dataframe thead th {\n",
       "        text-align: right;\n",
       "    }\n",
       "</style>\n",
       "<table border=\"1\" class=\"dataframe\">\n",
       "  <thead>\n",
       "    <tr style=\"text-align: right;\">\n",
       "      <th></th>\n",
       "      <th>timestamp</th>\n",
       "      <th>building_id</th>\n",
       "      <th>meter_reading</th>\n",
       "      <th>meter</th>\n",
       "      <th>month</th>\n",
       "      <th>weekday</th>\n",
       "      <th>hour</th>\n",
       "      <th>site_id</th>\n",
       "      <th>primaryspaceusage</th>\n",
       "      <th>sqm</th>\n",
       "      <th>airTemperature</th>\n",
       "    </tr>\n",
       "  </thead>\n",
       "  <tbody>\n",
       "    <tr>\n",
       "      <th>0</th>\n",
       "      <td>2016-02-29 09:00:00</td>\n",
       "      <td>Panther_office_Clementine</td>\n",
       "      <td>136.0769</td>\n",
       "      <td>chilledwater</td>\n",
       "      <td>2</td>\n",
       "      <td>0</td>\n",
       "      <td>9</td>\n",
       "      <td>Panther</td>\n",
       "      <td>other</td>\n",
       "      <td>3100.199951</td>\n",
       "      <td>16.70</td>\n",
       "    </tr>\n",
       "    <tr>\n",
       "      <th>1</th>\n",
       "      <td>2016-02-29 10:00:00</td>\n",
       "      <td>Panther_office_Clementine</td>\n",
       "      <td>222.6714</td>\n",
       "      <td>chilledwater</td>\n",
       "      <td>2</td>\n",
       "      <td>0</td>\n",
       "      <td>10</td>\n",
       "      <td>Panther</td>\n",
       "      <td>other</td>\n",
       "      <td>3100.199951</td>\n",
       "      <td>21.09</td>\n",
       "    </tr>\n",
       "    <tr>\n",
       "      <th>2</th>\n",
       "      <td>2016-02-29 11:00:00</td>\n",
       "      <td>Panther_office_Clementine</td>\n",
       "      <td>235.0420</td>\n",
       "      <td>chilledwater</td>\n",
       "      <td>2</td>\n",
       "      <td>0</td>\n",
       "      <td>11</td>\n",
       "      <td>Panther</td>\n",
       "      <td>other</td>\n",
       "      <td>3100.199951</td>\n",
       "      <td>21.70</td>\n",
       "    </tr>\n",
       "    <tr>\n",
       "      <th>3</th>\n",
       "      <td>2016-02-29 12:00:00</td>\n",
       "      <td>Panther_office_Clementine</td>\n",
       "      <td>247.4126</td>\n",
       "      <td>chilledwater</td>\n",
       "      <td>2</td>\n",
       "      <td>0</td>\n",
       "      <td>12</td>\n",
       "      <td>Panther</td>\n",
       "      <td>other</td>\n",
       "      <td>3100.199951</td>\n",
       "      <td>22.20</td>\n",
       "    </tr>\n",
       "    <tr>\n",
       "      <th>4</th>\n",
       "      <td>2016-02-29 13:00:00</td>\n",
       "      <td>Panther_office_Clementine</td>\n",
       "      <td>272.1539</td>\n",
       "      <td>chilledwater</td>\n",
       "      <td>2</td>\n",
       "      <td>0</td>\n",
       "      <td>13</td>\n",
       "      <td>Panther</td>\n",
       "      <td>other</td>\n",
       "      <td>3100.199951</td>\n",
       "      <td>23.91</td>\n",
       "    </tr>\n",
       "  </tbody>\n",
       "</table>\n",
       "</div>"
      ],
      "text/plain": [
       "             timestamp                building_id  meter_reading  \\\n",
       "0  2016-02-29 09:00:00  Panther_office_Clementine       136.0769   \n",
       "1  2016-02-29 10:00:00  Panther_office_Clementine       222.6714   \n",
       "2  2016-02-29 11:00:00  Panther_office_Clementine       235.0420   \n",
       "3  2016-02-29 12:00:00  Panther_office_Clementine       247.4126   \n",
       "4  2016-02-29 13:00:00  Panther_office_Clementine       272.1539   \n",
       "\n",
       "          meter  month  weekday  hour  site_id primaryspaceusage          sqm  \\\n",
       "0  chilledwater      2        0     9  Panther             other  3100.199951   \n",
       "1  chilledwater      2        0    10  Panther             other  3100.199951   \n",
       "2  chilledwater      2        0    11  Panther             other  3100.199951   \n",
       "3  chilledwater      2        0    12  Panther             other  3100.199951   \n",
       "4  chilledwater      2        0    13  Panther             other  3100.199951   \n",
       "\n",
       "   airTemperature  \n",
       "0           16.70  \n",
       "1           21.09  \n",
       "2           21.70  \n",
       "3           22.20  \n",
       "4           23.91  "
      ]
     },
     "execution_count": 8,
     "metadata": {},
     "output_type": "execute_result"
    }
   ],
   "source": [
    "data.head()"
   ]
  },
  {
   "cell_type": "code",
   "execution_count": 9,
   "metadata": {},
   "outputs": [],
   "source": [
    "# Converts to timestamp\n",
    "data[\"timestamp\"] = pd.to_datetime(data[\"timestamp\"], format='%Y-%m-%d %H:%M:%S')"
   ]
  },
  {
   "cell_type": "code",
   "execution_count": 10,
   "metadata": {},
   "outputs": [],
   "source": [
    "# Strategy split\n",
    "train = data[(data[\"timestamp\"] >= \"2017-07-01 00:00:00\") & (data[\"timestamp\"] < \"2017-08-01 00:00:00\")]\n",
    "val = data[(data[\"timestamp\"] >= \"2017-08-01 00:00:00\") & (data[\"timestamp\"] < \"2017-08-04 00:00:00\")]\n",
    "test = data[(data[\"timestamp\"] >= \"2017-08-04 00:00:00\") & (data[\"timestamp\"] < \"2017-08-07 00:00:00\")]\n",
    "del(data)"
   ]
  },
  {
   "cell_type": "markdown",
   "metadata": {},
   "source": [
    "Let's check we have the same buildings in all datasets:"
   ]
  },
  {
   "cell_type": "code",
   "execution_count": 11,
   "metadata": {},
   "outputs": [
    {
     "name": "stdout",
     "output_type": "stream",
     "text": [
      "Buildings in train: 1557\n",
      "Buildings in val: 1546\n",
      "Buildings in test: 1547\n",
      "Buildings in val AND train AND test: 1544\n"
     ]
    }
   ],
   "source": [
    "# List of unique buildings in each dataset\n",
    "train_bdg = pd.DataFrame(train.building_id.unique()).rename(columns={0:\"bdg\"})\n",
    "val_bdg = pd.DataFrame(val.building_id.unique()).rename(columns={0:\"bdg\"})\n",
    "test_bdg = pd.DataFrame(test.building_id.unique()).rename(columns={0:\"bdg\"})\n",
    "# Number of unique buildings in each dataset\n",
    "print(\"Buildings in train: \" + str(len(train_bdg)))\n",
    "print(\"Buildings in val: \" + str(len(val_bdg)))\n",
    "print(\"Buildings in test: \" + str(len(test_bdg)))\n",
    "# list of shared buildings in all datasets\n",
    "shared_bdg = list(pd.merge(train_bdg, val_bdg, how=\"inner\", on=\"bdg\").merge(test_bdg, how=\"inner\", on=\"bdg\").bdg)\n",
    "print(\"Buildings in val AND train AND test: \" + str(len(shared_bdg)))"
   ]
  },
  {
   "cell_type": "markdown",
   "metadata": {},
   "source": [
    "Let's select the shared buildings for the model:"
   ]
  },
  {
   "cell_type": "code",
   "execution_count": 12,
   "metadata": {},
   "outputs": [],
   "source": [
    "train = train[train.building_id.isin(shared_bdg) == True]\n",
    "val = val[val.building_id.isin(shared_bdg) == True]\n",
    "test = test[test.building_id.isin(shared_bdg) == True]"
   ]
  },
  {
   "cell_type": "markdown",
   "metadata": {},
   "source": [
    "### Real values"
   ]
  },
  {
   "cell_type": "code",
   "execution_count": 13,
   "metadata": {},
   "outputs": [],
   "source": [
    "test_real = val[[\"timestamp\",\"building_id\",\"meter\",\"meter_reading\"]]\n",
    "test_real.to_csv(\"..\\\\data\\\\predictions\\\\shortterm-summer_real.csv\", index=False)"
   ]
  },
  {
   "cell_type": "code",
   "execution_count": 14,
   "metadata": {},
   "outputs": [],
   "source": [
    "values, counts = np.unique(test_real.meter_reading, return_counts=True)"
   ]
  },
  {
   "cell_type": "code",
   "execution_count": 15,
   "metadata": {},
   "outputs": [
    {
     "name": "stdout",
     "output_type": "stream",
     "text": [
      "[0.0000000e+00 1.0000000e-04 2.0000000e-04 ... 5.3184065e+06 5.4611775e+06\n",
      " 5.5396525e+06]\n",
      "[11350   433   505 ...     1     1     1]\n"
     ]
    }
   ],
   "source": [
    "print(values)\n",
    "print(counts)"
   ]
  },
  {
   "cell_type": "code",
   "execution_count": 16,
   "metadata": {},
   "outputs": [
    {
     "name": "stdout",
     "output_type": "stream",
     "text": [
      "Unique values: 94300\n",
      "Min value: 0.0\n",
      "Max value: 5539652.5\n"
     ]
    }
   ],
   "source": [
    "print(\"Unique values: \" + str(len(values)))\n",
    "print(\"Min value: \" + str(min(values)))\n",
    "print(\"Max value: \" + str(max(values)))"
   ]
  },
  {
   "cell_type": "code",
   "execution_count": 17,
   "metadata": {},
   "outputs": [],
   "source": [
    "del(test_real, values, counts)"
   ]
  },
  {
   "cell_type": "markdown",
   "metadata": {},
   "source": [
    "### Encoding and Data/Target split"
   ]
  },
  {
   "cell_type": "code",
   "execution_count": 18,
   "metadata": {},
   "outputs": [],
   "source": [
    "train = train.drop(\"timestamp\",axis=1)\n",
    "val = val.drop(\"timestamp\",axis=1)\n",
    "test = test.drop(\"timestamp\",axis=1)"
   ]
  },
  {
   "cell_type": "markdown",
   "metadata": {},
   "source": [
    "For LightGBM use only a label encoding (this algorith can handle categorical features by itself):"
   ]
  },
  {
   "cell_type": "code",
   "execution_count": 19,
   "metadata": {},
   "outputs": [],
   "source": [
    "# Label Encoder\n",
    "le_meter = LabelEncoder().fit(train.meter)\n",
    "train[\"meter\"] = le_meter.transform(train.meter)\n",
    "val[\"meter\"] = le_meter.transform(val.meter)\n",
    "test[\"meter\"] = le_meter.transform(test.meter)"
   ]
  },
  {
   "cell_type": "code",
   "execution_count": 20,
   "metadata": {},
   "outputs": [],
   "source": [
    "# Label Encoder\n",
    "le_usage = LabelEncoder().fit(train.primaryspaceusage)\n",
    "train[\"primaryspaceusage\"] = le_usage.transform(train.primaryspaceusage)\n",
    "val[\"primaryspaceusage\"] = le_usage.transform(val.primaryspaceusage)\n",
    "test[\"primaryspaceusage\"] = le_usage.transform(test.primaryspaceusage)"
   ]
  },
  {
   "cell_type": "code",
   "execution_count": 21,
   "metadata": {},
   "outputs": [],
   "source": [
    "# Label Encoder\n",
    "le_usage = LabelEncoder().fit(train.building_id)\n",
    "train[\"building_id\"] = le_usage.transform(train.building_id)\n",
    "val[\"building_id\"] = le_usage.transform(val.building_id)\n",
    "test[\"building_id\"] = le_usage.transform(test.building_id)"
   ]
  },
  {
   "cell_type": "code",
   "execution_count": 22,
   "metadata": {},
   "outputs": [],
   "source": [
    "# Label Encoder\n",
    "le_usage = LabelEncoder().fit(train.site_id)\n",
    "train[\"site_id\"] = le_usage.transform(train.site_id)\n",
    "val[\"site_id\"] = le_usage.transform(val.site_id)\n",
    "test[\"site_id\"] = le_usage.transform(test.site_id)"
   ]
  },
  {
   "cell_type": "code",
   "execution_count": 23,
   "metadata": {},
   "outputs": [],
   "source": [
    "# Split datasets\n",
    "X_train = train.drop(\"meter_reading\", axis=1)\n",
    "y_train = train[\"meter_reading\"]\n",
    "\n",
    "X_val = val.drop(\"meter_reading\", axis=1)\n",
    "y_val = val[\"meter_reading\"]\n",
    "\n",
    "X_test = test.drop(\"meter_reading\", axis=1)\n",
    "y_test = test[\"meter_reading\"]\n",
    "\n",
    "del(train, val, test)"
   ]
  },
  {
   "cell_type": "markdown",
   "metadata": {},
   "source": [
    "### LightGBM prediction"
   ]
  },
  {
   "cell_type": "markdown",
   "metadata": {},
   "source": [
    "Default parameters: https://lightgbm.readthedocs.io/en/latest/Parameters.html"
   ]
  },
  {
   "cell_type": "code",
   "execution_count": 24,
   "metadata": {},
   "outputs": [],
   "source": [
    "# create dataset for lightgbm\n",
    "lgb_train = lgb.Dataset(\n",
    "    X_train,\n",
    "    y_train,\n",
    "    categorical_feature=[\"site_id\",\"building_id\",\"meter\",\"month\",\"weekday\",\"hour\",\"primaryspaceusage\"],\n",
    "    free_raw_data=False,\n",
    ")\n",
    "lgb_eval = lgb.Dataset(\n",
    "    X_val,\n",
    "    y_val,\n",
    "    categorical_feature=[\"site_id\",\"building_id\",\"meter\",\"month\",\"weekday\",\"hour\",\"primaryspaceusage\"],\n",
    "    reference=lgb_train,\n",
    "    free_raw_data=False,\n",
    ")\n",
    "\n",
    "lgb_test = lgb.Dataset(\n",
    "    X_test,\n",
    "    y_test,\n",
    "    categorical_feature=[\"site_id\",\"building_id\",\"meter\",\"month\",\"weekday\",\"hour\",\"primaryspaceusage\"],\n",
    "    reference=lgb_train,\n",
    "    free_raw_data=False,\n",
    ")"
   ]
  },
  {
   "cell_type": "code",
   "execution_count": 25,
   "metadata": {},
   "outputs": [],
   "source": [
    "# Parameters\n",
    "params = {\n",
    "    \"objective\": \"regression\",\n",
    "    \"metric\": \"rmse\",\n",
    "    \"random_state\": 55,\n",
    "    \"learning_rate\":0.01, # default 0.1\n",
    "    \"max_bin\":761, # Bin temperature by 0.1 ºC. default 255\n",
    "    \"num_leaves\": 2197 # Around 0.01% of training data. default 31\n",
    "}"
   ]
  },
  {
   "cell_type": "code",
   "execution_count": 26,
   "metadata": {},
   "outputs": [
    {
     "name": "stdout",
     "output_type": "stream",
     "text": [
      "Starting training...\n"
     ]
    },
    {
     "name": "stderr",
     "output_type": "stream",
     "text": [
      "C:\\ProgramData\\Anaconda3\\lib\\site-packages\\lightgbm\\basic.py:1243: UserWarning: Using categorical_feature in Dataset.\n",
      "  warnings.warn('Using categorical_feature in Dataset.')\n"
     ]
    },
    {
     "name": "stdout",
     "output_type": "stream",
     "text": [
      "Training until validation scores don't improve for 10000 rounds\n",
      "[1000]\tvalid_0's rmse: 57414.2\n",
      "[2000]\tvalid_0's rmse: 58465.9\n",
      "[3000]\tvalid_0's rmse: 58910.5\n",
      "[4000]\tvalid_0's rmse: 59151.6\n",
      "[5000]\tvalid_0's rmse: 59255.7\n",
      "[6000]\tvalid_0's rmse: 59349.2\n",
      "[7000]\tvalid_0's rmse: 59446.6\n",
      "[8000]\tvalid_0's rmse: 59475.2\n",
      "[9000]\tvalid_0's rmse: 59493\n",
      "[10000]\tvalid_0's rmse: 59515.2\n",
      "Early stopping, best iteration is:\n",
      "[150]\tvalid_0's rmse: 34437.2\n"
     ]
    }
   ],
   "source": [
    "# train\n",
    "print('Starting training...')\n",
    "gbm = lgb.train(params,\n",
    "                lgb_train,\n",
    "                valid_sets = lgb_eval,\n",
    "                num_boost_round=100000,\n",
    "                early_stopping_rounds=10000,\n",
    "                verbose_eval=1000)"
   ]
  },
  {
   "cell_type": "code",
   "execution_count": 27,
   "metadata": {},
   "outputs": [
    {
     "data": {
      "text/plain": [
       "array([ 12404,   2613,      0,   5977,  12237,     11,   7077,  71312,\n",
       "       217769])"
      ]
     },
     "execution_count": 27,
     "metadata": {},
     "output_type": "execute_result"
    }
   ],
   "source": [
    "gbm.feature_importance()"
   ]
  },
  {
   "cell_type": "code",
   "execution_count": 28,
   "metadata": {},
   "outputs": [
    {
     "data": {
      "text/plain": [
       "<matplotlib.axes._subplots.AxesSubplot at 0x21a71ef8788>"
      ]
     },
     "execution_count": 28,
     "metadata": {},
     "output_type": "execute_result"
    },
    {
     "data": {
      "image/png": "[encoded data removed]",
      "text/plain": [
       "<Figure size 432x288 with 1 Axes>"
      ]
     },
     "metadata": {
      "needs_background": "light"
     },
     "output_type": "display_data"
    }
   ],
   "source": [
    "lgb.plot_importance(gbm)"
   ]
  },
  {
   "cell_type": "code",
   "execution_count": 29,
   "metadata": {},
   "outputs": [
    {
     "name": "stdout",
     "output_type": "stream",
     "text": [
      "Starting predicting...\n",
      "Finish.\n"
     ]
    }
   ],
   "source": [
    "# predict\n",
    "print('Starting predicting...')\n",
    "y_pred = gbm.predict(X_test, num_iteration=gbm.best_iteration)\n",
    "print('Finish.')"
   ]
  },
  {
   "cell_type": "code",
   "execution_count": 30,
   "metadata": {},
   "outputs": [],
   "source": [
    "values, counts = np.unique(y_pred, return_counts=True)"
   ]
  },
  {
   "cell_type": "code",
   "execution_count": 31,
   "metadata": {},
   "outputs": [
    {
     "name": "stdout",
     "output_type": "stream",
     "text": [
      "[-2.17231036e+03 -1.31829932e+03  5.79819172e+02 ...  4.92492597e+06\n",
      "  5.04931069e+06  5.06610919e+06]\n",
      "[1 1 1 ... 1 1 1]\n"
     ]
    }
   ],
   "source": [
    "print(values)\n",
    "print(counts)"
   ]
  },
  {
   "cell_type": "code",
   "execution_count": 32,
   "metadata": {},
   "outputs": [
    {
     "name": "stdout",
     "output_type": "stream",
     "text": [
      "Unique values: 15653\n",
      "Min value: -2172.3103639306432\n",
      "Max value: 5066109.193391525\n"
     ]
    }
   ],
   "source": [
    "print(\"Unique values: \" + str(len(values)))\n",
    "print(\"Min value: \" + str(min(values)))\n",
    "print(\"Max value: \" + str(max(values)))"
   ]
  },
  {
   "cell_type": "code",
   "execution_count": 33,
   "metadata": {},
   "outputs": [],
   "source": [
    "# Save LightGBM prediction\n",
    "pd.DataFrame(y_pred).to_csv(\"..\\\\data\\\\predictions\\\\shortterm-summer_LGBM.csv\", index=False, header=\"LGBM\")"
   ]
  },
  {
   "cell_type": "markdown",
   "metadata": {},
   "source": [
    "### Predictions dataset"
   ]
  },
  {
   "cell_type": "markdown",
   "metadata": {},
   "source": [
    "To export a single dataset with all the predictions."
   ]
  },
  {
   "cell_type": "code",
   "execution_count": 34,
   "metadata": {},
   "outputs": [
    {
     "data": {
      "text/plain": [
       "286"
      ]
     },
     "execution_count": 34,
     "metadata": {},
     "output_type": "execute_result"
    }
   ],
   "source": [
    "del(X_train, X_val, y_train, y_val)\n",
    "gc.collect()"
   ]
  },
  {
   "cell_type": "code",
   "execution_count": 35,
   "metadata": {},
   "outputs": [],
   "source": [
    "# Filepath\n",
    "files = glob(\"..\\\\data\\\\predictions\\\\shortterm-summer*\")"
   ]
  },
  {
   "cell_type": "code",
   "execution_count": 36,
   "metadata": {},
   "outputs": [
    {
     "data": {
      "text/plain": [
       "['..\\\\data\\\\predictions\\\\shortterm-summer_LGBM.csv',\n",
       " '..\\\\data\\\\predictions\\\\shortterm-summer_real.csv']"
      ]
     },
     "execution_count": 36,
     "metadata": {},
     "output_type": "execute_result"
    }
   ],
   "source": [
    "files"
   ]
  },
  {
   "cell_type": "code",
   "execution_count": 37,
   "metadata": {},
   "outputs": [],
   "source": [
    "df_pred = ConcatAllModels(files)"
   ]
  },
  {
   "cell_type": "code",
   "execution_count": 38,
   "metadata": {},
   "outputs": [],
   "source": [
    "df_pred = df_pred[[\"timestamp\",\"building_id\",\"meter\",\"meter_reading\",\"LGBM\"]]"
   ]
  },
  {
   "cell_type": "code",
   "execution_count": 39,
   "metadata": {},
   "outputs": [
    {
     "data": {
      "text/html": [
       "<div>\n",
       "<style scoped>\n",
       "    .dataframe tbody tr th:only-of-type {\n",
       "        vertical-align: middle;\n",
       "    }\n",
       "\n",
       "    .dataframe tbody tr th {\n",
       "        vertical-align: top;\n",
       "    }\n",
       "\n",
       "    .dataframe thead th {\n",
       "        text-align: right;\n",
       "    }\n",
       "</style>\n",
       "<table border=\"1\" class=\"dataframe\">\n",
       "  <thead>\n",
       "    <tr style=\"text-align: right;\">\n",
       "      <th></th>\n",
       "      <th>timestamp</th>\n",
       "      <th>building_id</th>\n",
       "      <th>meter</th>\n",
       "      <th>meter_reading</th>\n",
       "      <th>LGBM</th>\n",
       "    </tr>\n",
       "  </thead>\n",
       "  <tbody>\n",
       "    <tr>\n",
       "      <th>0</th>\n",
       "      <td>2017-08-01 00:00:00</td>\n",
       "      <td>Panther_office_Clementine</td>\n",
       "      <td>chilledwater</td>\n",
       "      <td>247.4126</td>\n",
       "      <td>4405.712230</td>\n",
       "    </tr>\n",
       "    <tr>\n",
       "      <th>1</th>\n",
       "      <td>2017-08-01 01:00:00</td>\n",
       "      <td>Panther_office_Clementine</td>\n",
       "      <td>chilledwater</td>\n",
       "      <td>247.4126</td>\n",
       "      <td>4405.712230</td>\n",
       "    </tr>\n",
       "    <tr>\n",
       "      <th>2</th>\n",
       "      <td>2017-08-01 02:00:00</td>\n",
       "      <td>Panther_office_Clementine</td>\n",
       "      <td>chilledwater</td>\n",
       "      <td>235.0420</td>\n",
       "      <td>4394.333787</td>\n",
       "    </tr>\n",
       "    <tr>\n",
       "      <th>3</th>\n",
       "      <td>2017-08-01 03:00:00</td>\n",
       "      <td>Panther_office_Clementine</td>\n",
       "      <td>chilledwater</td>\n",
       "      <td>247.4126</td>\n",
       "      <td>4394.333787</td>\n",
       "    </tr>\n",
       "    <tr>\n",
       "      <th>4</th>\n",
       "      <td>2017-08-01 04:00:00</td>\n",
       "      <td>Panther_office_Clementine</td>\n",
       "      <td>chilledwater</td>\n",
       "      <td>247.4126</td>\n",
       "      <td>4373.447535</td>\n",
       "    </tr>\n",
       "  </tbody>\n",
       "</table>\n",
       "</div>"
      ],
      "text/plain": [
       "             timestamp                building_id         meter  \\\n",
       "0  2017-08-01 00:00:00  Panther_office_Clementine  chilledwater   \n",
       "1  2017-08-01 01:00:00  Panther_office_Clementine  chilledwater   \n",
       "2  2017-08-01 02:00:00  Panther_office_Clementine  chilledwater   \n",
       "3  2017-08-01 03:00:00  Panther_office_Clementine  chilledwater   \n",
       "4  2017-08-01 04:00:00  Panther_office_Clementine  chilledwater   \n",
       "\n",
       "   meter_reading         LGBM  \n",
       "0       247.4126  4405.712230  \n",
       "1       247.4126  4405.712230  \n",
       "2       235.0420  4394.333787  \n",
       "3       247.4126  4394.333787  \n",
       "4       247.4126  4373.447535  "
      ]
     },
     "execution_count": 39,
     "metadata": {},
     "output_type": "execute_result"
    }
   ],
   "source": [
    "df_pred.head()"
   ]
  },
  {
   "cell_type": "code",
   "execution_count": 40,
   "metadata": {},
   "outputs": [],
   "source": [
    "# Saves files\n",
    "df_pred.to_csv(\"..\\\\data\\\\predictions\\\\shortterm-summer_pred.csv\", index=False)"
   ]
  },
  {
   "cell_type": "code",
   "execution_count": null,
   "metadata": {},
   "outputs": [],
   "source": []
  }
 ],
 "metadata": {
  "kernelspec": {
   "display_name": "Python 3",
   "language": "python",
   "name": "python3"
  },
  "language_info": {
   "codemirror_mode": {
    "name": "ipython",
    "version": 3
   },
   "file_extension": ".py",
   "mimetype": "text/x-python",
   "name": "python",
   "nbconvert_exporter": "python",
   "pygments_lexer": "ipython3",
   "version": "3.7.6"
  }
 },
 "nbformat": 4,
 "nbformat_minor": 4
}
